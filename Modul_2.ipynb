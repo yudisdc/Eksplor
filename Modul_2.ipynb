{
 "cells": [
  {
   "cell_type": "code",
   "execution_count": 2,
   "metadata": {
    "id": "iyo_lFJRBcfD"
   },
   "outputs": [],
   "source": [
    "import pandas as pd\n",
    "import numpy as np"
   ]
  },
  {
   "cell_type": "markdown",
   "metadata": {
    "id": "MjMaWMjCCYjt"
   },
   "source": [
    "## 1 Concat & Merge\n",
    "\n",
    "Concat (concatenate) berfungsi untuk menggabungkan 2 series atau data frame"
   ]
  },
  {
   "cell_type": "code",
   "execution_count": null,
   "metadata": {
    "id": "4zoDyQduCApC"
   },
   "outputs": [],
   "source": [
    "s1=pd.Series(['a','b','c'])\n",
    "s2=pd.Series(['x','y','z'])"
   ]
  },
  {
   "cell_type": "code",
   "execution_count": null,
   "metadata": {
    "colab": {
     "base_uri": "https://localhost:8080/"
    },
    "id": "Kbccl4fBCB5s",
    "outputId": "0fde910c-6da8-40a8-aeb0-1ffc5c96b2b3"
   },
   "outputs": [
    {
     "data": {
      "text/plain": [
       "0    a\n",
       "1    b\n",
       "2    c\n",
       "0    x\n",
       "1    y\n",
       "2    z\n",
       "dtype: object"
      ]
     },
     "execution_count": 11,
     "metadata": {
      "tags": []
     },
     "output_type": "execute_result"
    }
   ],
   "source": [
    "pd.concat([s1,s2]) #indexnya mengikuti s1 dan s2"
   ]
  },
  {
   "cell_type": "code",
   "execution_count": null,
   "metadata": {
    "colab": {
     "base_uri": "https://localhost:8080/"
    },
    "id": "lNQM4X95DU5V",
    "outputId": "f16299b7-5bf0-4724-936e-8ae4f6ee212d"
   },
   "outputs": [
    {
     "data": {
      "text/plain": [
       "0    a\n",
       "1    b\n",
       "2    c\n",
       "3    x\n",
       "4    y\n",
       "5    z\n",
       "dtype: object"
      ]
     },
     "execution_count": 13,
     "metadata": {
      "tags": []
     },
     "output_type": "execute_result"
    }
   ],
   "source": [
    "pd.concat([s1,s2],ignore_index=True) #indexnya tidak mengikuti gabungan s1 dan s2"
   ]
  },
  {
   "cell_type": "code",
   "execution_count": null,
   "metadata": {
    "colab": {
     "base_uri": "https://localhost:8080/"
    },
    "id": "N_42BYOmDqAC",
    "outputId": "5ad48d39-e8a2-49f5-c9f7-ebcb4b902ac9"
   },
   "outputs": [
    {
     "data": {
      "text/plain": [
       "s1  0    a\n",
       "    1    b\n",
       "    2    c\n",
       "s2  0    x\n",
       "    1    y\n",
       "    2    z\n",
       "dtype: object"
      ]
     },
     "execution_count": 14,
     "metadata": {
      "tags": []
     },
     "output_type": "execute_result"
    }
   ],
   "source": [
    "pd.concat([s1,s2],keys=['s1','s2']) #nambahin level di depannya"
   ]
  },
  {
   "cell_type": "code",
   "execution_count": null,
   "metadata": {
    "colab": {
     "base_uri": "https://localhost:8080/"
    },
    "id": "zR7SpitpEJPr",
    "outputId": "043a9362-b07e-486c-eef8-209280b0db6c"
   },
   "outputs": [
    {
     "data": {
      "text/plain": [
       "nama series  index\n",
       "s1           0        a\n",
       "             1        b\n",
       "             2        c\n",
       "s2           0        x\n",
       "             1        y\n",
       "             2        z\n",
       "dtype: object"
      ]
     },
     "execution_count": 16,
     "metadata": {
      "tags": []
     },
     "output_type": "execute_result"
    }
   ],
   "source": [
    "pd.concat([s1,s2],keys=['s1','s2'],names=['nama series', 'index'])"
   ]
  },
  {
   "cell_type": "code",
   "execution_count": 3,
   "metadata": {
    "id": "dL_r94qnEXNn"
   },
   "outputs": [],
   "source": [
    "df1=pd.DataFrame({'col 1':['a','b','c'],'col 2':[0,1,2]})\n",
    "df2=pd.DataFrame({'col 1':['x','y','z'],'col 2':[4,5,6]})"
   ]
  },
  {
   "cell_type": "code",
   "execution_count": 4,
   "metadata": {
    "colab": {
     "base_uri": "https://localhost:8080/",
     "height": 233
    },
    "id": "bkp-l0SgFJpC",
    "outputId": "627bfa84-570d-40c5-d4b4-2d01c2165819"
   },
   "outputs": [
    {
     "data": {
      "text/html": [
       "<div>\n",
       "<style scoped>\n",
       "    .dataframe tbody tr th:only-of-type {\n",
       "        vertical-align: middle;\n",
       "    }\n",
       "\n",
       "    .dataframe tbody tr th {\n",
       "        vertical-align: top;\n",
       "    }\n",
       "\n",
       "    .dataframe thead th {\n",
       "        text-align: right;\n",
       "    }\n",
       "</style>\n",
       "<table border=\"1\" class=\"dataframe\">\n",
       "  <thead>\n",
       "    <tr style=\"text-align: right;\">\n",
       "      <th></th>\n",
       "      <th>col 1</th>\n",
       "      <th>col 2</th>\n",
       "    </tr>\n",
       "  </thead>\n",
       "  <tbody>\n",
       "    <tr>\n",
       "      <th>0</th>\n",
       "      <td>a</td>\n",
       "      <td>0</td>\n",
       "    </tr>\n",
       "    <tr>\n",
       "      <th>1</th>\n",
       "      <td>b</td>\n",
       "      <td>1</td>\n",
       "    </tr>\n",
       "    <tr>\n",
       "      <th>2</th>\n",
       "      <td>c</td>\n",
       "      <td>2</td>\n",
       "    </tr>\n",
       "    <tr>\n",
       "      <th>0</th>\n",
       "      <td>x</td>\n",
       "      <td>4</td>\n",
       "    </tr>\n",
       "    <tr>\n",
       "      <th>1</th>\n",
       "      <td>y</td>\n",
       "      <td>5</td>\n",
       "    </tr>\n",
       "    <tr>\n",
       "      <th>2</th>\n",
       "      <td>z</td>\n",
       "      <td>6</td>\n",
       "    </tr>\n",
       "  </tbody>\n",
       "</table>\n",
       "</div>"
      ],
      "text/plain": [
       "  col 1  col 2\n",
       "0     a      0\n",
       "1     b      1\n",
       "2     c      2\n",
       "0     x      4\n",
       "1     y      5\n",
       "2     z      6"
      ]
     },
     "execution_count": 4,
     "metadata": {},
     "output_type": "execute_result"
    }
   ],
   "source": [
    "pd.concat([df1,df2])  #default axis=0"
   ]
  },
  {
   "cell_type": "code",
   "execution_count": null,
   "metadata": {
    "colab": {
     "base_uri": "https://localhost:8080/",
     "height": 143
    },
    "id": "qzuulEmbi0YA",
    "outputId": "66e5705e-612c-492a-ea89-4aaf977cb786"
   },
   "outputs": [
    {
     "data": {
      "text/html": [
       "<div>\n",
       "<style scoped>\n",
       "    .dataframe tbody tr th:only-of-type {\n",
       "        vertical-align: middle;\n",
       "    }\n",
       "\n",
       "    .dataframe tbody tr th {\n",
       "        vertical-align: top;\n",
       "    }\n",
       "\n",
       "    .dataframe thead th {\n",
       "        text-align: right;\n",
       "    }\n",
       "</style>\n",
       "<table border=\"1\" class=\"dataframe\">\n",
       "  <thead>\n",
       "    <tr style=\"text-align: right;\">\n",
       "      <th></th>\n",
       "      <th>col 1</th>\n",
       "      <th>col 2</th>\n",
       "      <th>col 1</th>\n",
       "      <th>col 2</th>\n",
       "    </tr>\n",
       "  </thead>\n",
       "  <tbody>\n",
       "    <tr>\n",
       "      <th>0</th>\n",
       "      <td>a</td>\n",
       "      <td>0</td>\n",
       "      <td>x</td>\n",
       "      <td>4</td>\n",
       "    </tr>\n",
       "    <tr>\n",
       "      <th>1</th>\n",
       "      <td>b</td>\n",
       "      <td>1</td>\n",
       "      <td>y</td>\n",
       "      <td>5</td>\n",
       "    </tr>\n",
       "    <tr>\n",
       "      <th>2</th>\n",
       "      <td>c</td>\n",
       "      <td>2</td>\n",
       "      <td>z</td>\n",
       "      <td>6</td>\n",
       "    </tr>\n",
       "  </tbody>\n",
       "</table>\n",
       "</div>"
      ],
      "text/plain": [
       "  col 1  col 2 col 1  col 2\n",
       "0     a      0     x      4\n",
       "1     b      1     y      5\n",
       "2     c      2     z      6"
      ]
     },
     "execution_count": 4,
     "metadata": {
      "tags": []
     },
     "output_type": "execute_result"
    }
   ],
   "source": [
    "pd.concat([df1,df2], axis=1)"
   ]
  },
  {
   "cell_type": "code",
   "execution_count": null,
   "metadata": {
    "id": "2wur3DTpFdrZ"
   },
   "outputs": [],
   "source": [
    "df3=pd.DataFrame({'col 3':['m','n','0'],'col 4':[40,50,60]})"
   ]
  },
  {
   "cell_type": "code",
   "execution_count": null,
   "metadata": {
    "colab": {
     "base_uri": "https://localhost:8080/",
     "height": 233
    },
    "id": "IbxF0twWFJ-q",
    "outputId": "848108ce-9bb7-4618-8b0e-3fc2239e41e3"
   },
   "outputs": [
    {
     "data": {
      "text/html": [
       "<div>\n",
       "<style scoped>\n",
       "    .dataframe tbody tr th:only-of-type {\n",
       "        vertical-align: middle;\n",
       "    }\n",
       "\n",
       "    .dataframe tbody tr th {\n",
       "        vertical-align: top;\n",
       "    }\n",
       "\n",
       "    .dataframe thead th {\n",
       "        text-align: right;\n",
       "    }\n",
       "</style>\n",
       "<table border=\"1\" class=\"dataframe\">\n",
       "  <thead>\n",
       "    <tr style=\"text-align: right;\">\n",
       "      <th></th>\n",
       "      <th>col 1</th>\n",
       "      <th>col 2</th>\n",
       "      <th>col 3</th>\n",
       "      <th>col 4</th>\n",
       "    </tr>\n",
       "  </thead>\n",
       "  <tbody>\n",
       "    <tr>\n",
       "      <th>0</th>\n",
       "      <td>a</td>\n",
       "      <td>0.0</td>\n",
       "      <td>NaN</td>\n",
       "      <td>NaN</td>\n",
       "    </tr>\n",
       "    <tr>\n",
       "      <th>1</th>\n",
       "      <td>b</td>\n",
       "      <td>1.0</td>\n",
       "      <td>NaN</td>\n",
       "      <td>NaN</td>\n",
       "    </tr>\n",
       "    <tr>\n",
       "      <th>2</th>\n",
       "      <td>c</td>\n",
       "      <td>2.0</td>\n",
       "      <td>NaN</td>\n",
       "      <td>NaN</td>\n",
       "    </tr>\n",
       "    <tr>\n",
       "      <th>0</th>\n",
       "      <td>NaN</td>\n",
       "      <td>NaN</td>\n",
       "      <td>m</td>\n",
       "      <td>40.0</td>\n",
       "    </tr>\n",
       "    <tr>\n",
       "      <th>1</th>\n",
       "      <td>NaN</td>\n",
       "      <td>NaN</td>\n",
       "      <td>n</td>\n",
       "      <td>50.0</td>\n",
       "    </tr>\n",
       "    <tr>\n",
       "      <th>2</th>\n",
       "      <td>NaN</td>\n",
       "      <td>NaN</td>\n",
       "      <td>0</td>\n",
       "      <td>60.0</td>\n",
       "    </tr>\n",
       "  </tbody>\n",
       "</table>\n",
       "</div>"
      ],
      "text/plain": [
       "  col 1  col 2 col 3  col 4\n",
       "0     a    0.0   NaN    NaN\n",
       "1     b    1.0   NaN    NaN\n",
       "2     c    2.0   NaN    NaN\n",
       "0   NaN    NaN     m   40.0\n",
       "1   NaN    NaN     n   50.0\n",
       "2   NaN    NaN     0   60.0"
      ]
     },
     "execution_count": 24,
     "metadata": {
      "tags": []
     },
     "output_type": "execute_result"
    }
   ],
   "source": [
    "pd.concat([df1,df3])"
   ]
  },
  {
   "cell_type": "code",
   "execution_count": null,
   "metadata": {
    "colab": {
     "base_uri": "https://localhost:8080/",
     "height": 141
    },
    "id": "gTzi3m4IGs5S",
    "outputId": "c4788182-f26a-4550-de1a-91e6722ed687"
   },
   "outputs": [
    {
     "data": {
      "text/html": [
       "<div>\n",
       "<style scoped>\n",
       "    .dataframe tbody tr th:only-of-type {\n",
       "        vertical-align: middle;\n",
       "    }\n",
       "\n",
       "    .dataframe tbody tr th {\n",
       "        vertical-align: top;\n",
       "    }\n",
       "\n",
       "    .dataframe thead th {\n",
       "        text-align: right;\n",
       "    }\n",
       "</style>\n",
       "<table border=\"1\" class=\"dataframe\">\n",
       "  <thead>\n",
       "    <tr style=\"text-align: right;\">\n",
       "      <th></th>\n",
       "      <th>col 2</th>\n",
       "      <th>col 3</th>\n",
       "    </tr>\n",
       "  </thead>\n",
       "  <tbody>\n",
       "    <tr>\n",
       "      <th>0</th>\n",
       "      <td>40</td>\n",
       "      <td>m</td>\n",
       "    </tr>\n",
       "    <tr>\n",
       "      <th>1</th>\n",
       "      <td>50</td>\n",
       "      <td>n</td>\n",
       "    </tr>\n",
       "    <tr>\n",
       "      <th>2</th>\n",
       "      <td>60</td>\n",
       "      <td>0</td>\n",
       "    </tr>\n",
       "  </tbody>\n",
       "</table>\n",
       "</div>"
      ],
      "text/plain": [
       "   col 2 col 3\n",
       "0     40     m\n",
       "1     50     n\n",
       "2     60     0"
      ]
     },
     "execution_count": 33,
     "metadata": {
      "tags": []
     },
     "output_type": "execute_result"
    }
   ],
   "source": [
    "df4=pd.DataFrame({'col 2':[40,50,60], 'col 3':['m','n','0'],})\n",
    "df4"
   ]
  },
  {
   "cell_type": "code",
   "execution_count": null,
   "metadata": {
    "colab": {
     "base_uri": "https://localhost:8080/",
     "height": 233
    },
    "id": "qp9UAFHhGx6n",
    "outputId": "ecec201b-9e83-4bcc-a5a0-99c1bc14f065"
   },
   "outputs": [
    {
     "data": {
      "text/html": [
       "<div>\n",
       "<style scoped>\n",
       "    .dataframe tbody tr th:only-of-type {\n",
       "        vertical-align: middle;\n",
       "    }\n",
       "\n",
       "    .dataframe tbody tr th {\n",
       "        vertical-align: top;\n",
       "    }\n",
       "\n",
       "    .dataframe thead th {\n",
       "        text-align: right;\n",
       "    }\n",
       "</style>\n",
       "<table border=\"1\" class=\"dataframe\">\n",
       "  <thead>\n",
       "    <tr style=\"text-align: right;\">\n",
       "      <th></th>\n",
       "      <th>col 2</th>\n",
       "    </tr>\n",
       "  </thead>\n",
       "  <tbody>\n",
       "    <tr>\n",
       "      <th>0</th>\n",
       "      <td>0</td>\n",
       "    </tr>\n",
       "    <tr>\n",
       "      <th>1</th>\n",
       "      <td>1</td>\n",
       "    </tr>\n",
       "    <tr>\n",
       "      <th>2</th>\n",
       "      <td>2</td>\n",
       "    </tr>\n",
       "    <tr>\n",
       "      <th>0</th>\n",
       "      <td>40</td>\n",
       "    </tr>\n",
       "    <tr>\n",
       "      <th>1</th>\n",
       "      <td>50</td>\n",
       "    </tr>\n",
       "    <tr>\n",
       "      <th>2</th>\n",
       "      <td>60</td>\n",
       "    </tr>\n",
       "  </tbody>\n",
       "</table>\n",
       "</div>"
      ],
      "text/plain": [
       "   col 2\n",
       "0      0\n",
       "1      1\n",
       "2      2\n",
       "0     40\n",
       "1     50\n",
       "2     60"
      ]
     },
     "execution_count": 32,
     "metadata": {
      "tags": []
     },
     "output_type": "execute_result"
    }
   ],
   "source": [
    "pd.concat([df1,df4],join='inner') #gabung hanya kolom yang beririsan"
   ]
  },
  {
   "cell_type": "code",
   "execution_count": null,
   "metadata": {
    "colab": {
     "base_uri": "https://localhost:8080/",
     "height": 110
    },
    "id": "UsZVyeJXHIgS",
    "outputId": "e3d25b18-1e7b-4ba5-b713-efde6f206ddc"
   },
   "outputs": [
    {
     "data": {
      "text/html": [
       "<div>\n",
       "<style scoped>\n",
       "    .dataframe tbody tr th:only-of-type {\n",
       "        vertical-align: middle;\n",
       "    }\n",
       "\n",
       "    .dataframe tbody tr th {\n",
       "        vertical-align: top;\n",
       "    }\n",
       "\n",
       "    .dataframe thead th {\n",
       "        text-align: right;\n",
       "    }\n",
       "</style>\n",
       "<table border=\"1\" class=\"dataframe\">\n",
       "  <thead>\n",
       "    <tr style=\"text-align: right;\">\n",
       "      <th></th>\n",
       "      <th>makanan</th>\n",
       "      <th>harga1</th>\n",
       "      <th>harga2</th>\n",
       "    </tr>\n",
       "  </thead>\n",
       "  <tbody>\n",
       "    <tr>\n",
       "      <th>0</th>\n",
       "      <td>ayam</td>\n",
       "      <td>10000</td>\n",
       "      <td>40000</td>\n",
       "    </tr>\n",
       "    <tr>\n",
       "      <th>1</th>\n",
       "      <td>sapi</td>\n",
       "      <td>20000</td>\n",
       "      <td>50000</td>\n",
       "    </tr>\n",
       "  </tbody>\n",
       "</table>\n",
       "</div>"
      ],
      "text/plain": [
       "  makanan  harga1  harga2\n",
       "0    ayam   10000   40000\n",
       "1    sapi   20000   50000"
      ]
     },
     "execution_count": 37,
     "metadata": {
      "tags": []
     },
     "output_type": "execute_result"
    }
   ],
   "source": [
    "menu1 = pd.DataFrame({\"makanan\": [\"ayam\", \"sapi\"], \"harga1\": [10000, 20000]})\n",
    "menu2 = pd.DataFrame({\"makanan\": [\"ayam\", \"sapi\"], \"harga2\": [40000, 50000]})\n",
    "\n",
    "pd.merge(menu1,menu2,on='makanan')"
   ]
  },
  {
   "cell_type": "code",
   "execution_count": null,
   "metadata": {
    "colab": {
     "base_uri": "https://localhost:8080/",
     "height": 171
    },
    "id": "a-VhwsSAIb90",
    "outputId": "d1da1813-c658-49d5-e71b-f9024def5df8"
   },
   "outputs": [
    {
     "data": {
      "text/html": [
       "<div>\n",
       "<style scoped>\n",
       "    .dataframe tbody tr th:only-of-type {\n",
       "        vertical-align: middle;\n",
       "    }\n",
       "\n",
       "    .dataframe tbody tr th {\n",
       "        vertical-align: top;\n",
       "    }\n",
       "\n",
       "    .dataframe thead th {\n",
       "        text-align: right;\n",
       "    }\n",
       "</style>\n",
       "<table border=\"1\" class=\"dataframe\">\n",
       "  <thead>\n",
       "    <tr style=\"text-align: right;\">\n",
       "      <th></th>\n",
       "      <th>makanan</th>\n",
       "      <th>harga3</th>\n",
       "      <th>harga4</th>\n",
       "    </tr>\n",
       "  </thead>\n",
       "  <tbody>\n",
       "    <tr>\n",
       "      <th>0</th>\n",
       "      <td>ayam</td>\n",
       "      <td>20000</td>\n",
       "      <td>50000</td>\n",
       "    </tr>\n",
       "    <tr>\n",
       "      <th>1</th>\n",
       "      <td>ayam</td>\n",
       "      <td>20000</td>\n",
       "      <td>65000</td>\n",
       "    </tr>\n",
       "    <tr>\n",
       "      <th>2</th>\n",
       "      <td>ayam</td>\n",
       "      <td>25000</td>\n",
       "      <td>50000</td>\n",
       "    </tr>\n",
       "    <tr>\n",
       "      <th>3</th>\n",
       "      <td>ayam</td>\n",
       "      <td>25000</td>\n",
       "      <td>65000</td>\n",
       "    </tr>\n",
       "  </tbody>\n",
       "</table>\n",
       "</div>"
      ],
      "text/plain": [
       "  makanan  harga3  harga4\n",
       "0    ayam   20000   50000\n",
       "1    ayam   20000   65000\n",
       "2    ayam   25000   50000\n",
       "3    ayam   25000   65000"
      ]
     },
     "execution_count": 41,
     "metadata": {
      "tags": []
     },
     "output_type": "execute_result"
    }
   ],
   "source": [
    "menu3 = pd.DataFrame({\"makanan\": [\"ayam\", \"ayam\"], \"harga3\": [20000, 25000]})\n",
    "menu4 = pd.DataFrame({\"makanan\": [\"ayam\", \"ayam\"], \"harga4\": [50000, 65000]})\n",
    "pd.merge(menu3,menu4,on='makanan')"
   ]
  },
  {
   "cell_type": "markdown",
   "metadata": {
    "id": "TJLHtuQ4Jr73"
   },
   "source": [
    "## 2. Operations"
   ]
  },
  {
   "cell_type": "markdown",
   "metadata": {
    "id": "v8lqWmd4MT-A"
   },
   "source": [
    "## 2.1 to numpy"
   ]
  },
  {
   "cell_type": "code",
   "execution_count": null,
   "metadata": {
    "colab": {
     "base_uri": "https://localhost:8080/"
    },
    "id": "G3qvvwRFM7Ez",
    "outputId": "1b487877-2a16-4d64-e9c6-321088b06d57"
   },
   "outputs": [
    {
     "data": {
      "text/plain": [
       "0    a\n",
       "1    b\n",
       "2    c\n",
       "dtype: object"
      ]
     },
     "execution_count": 47,
     "metadata": {
      "tags": []
     },
     "output_type": "execute_result"
    }
   ],
   "source": [
    "s1"
   ]
  },
  {
   "cell_type": "code",
   "execution_count": null,
   "metadata": {
    "colab": {
     "base_uri": "https://localhost:8080/"
    },
    "id": "6-pgPZaRNKdg",
    "outputId": "025ab6fd-2804-46a7-803c-15763af84157"
   },
   "outputs": [
    {
     "data": {
      "text/plain": [
       "<bound method IndexOpsMixin.to_numpy of 0    a\n",
       "1    b\n",
       "2    c\n",
       "dtype: object>"
      ]
     },
     "execution_count": 48,
     "metadata": {
      "tags": []
     },
     "output_type": "execute_result"
    }
   ],
   "source": [
    "s1.to_numpy"
   ]
  },
  {
   "cell_type": "code",
   "execution_count": null,
   "metadata": {
    "colab": {
     "base_uri": "https://localhost:8080/",
     "height": 173
    },
    "id": "BfNg9SslLh85",
    "outputId": "32a7e31e-b857-4aab-9ef8-ecbe525dd61f"
   },
   "outputs": [
    {
     "data": {
      "text/html": [
       "<div>\n",
       "<style scoped>\n",
       "    .dataframe tbody tr th:only-of-type {\n",
       "        vertical-align: middle;\n",
       "    }\n",
       "\n",
       "    .dataframe tbody tr th {\n",
       "        vertical-align: top;\n",
       "    }\n",
       "\n",
       "    .dataframe thead th {\n",
       "        text-align: right;\n",
       "    }\n",
       "</style>\n",
       "<table border=\"1\" class=\"dataframe\">\n",
       "  <thead>\n",
       "    <tr style=\"text-align: right;\">\n",
       "      <th></th>\n",
       "      <th>Gula</th>\n",
       "      <th>Tepung</th>\n",
       "      <th>Beras</th>\n",
       "      <th>Garem</th>\n",
       "      <th>Lada</th>\n",
       "      <th>Kecap</th>\n",
       "    </tr>\n",
       "  </thead>\n",
       "  <tbody>\n",
       "    <tr>\n",
       "      <th>0</th>\n",
       "      <td>492</td>\n",
       "      <td>879</td>\n",
       "      <td>589</td>\n",
       "      <td>461</td>\n",
       "      <td>810</td>\n",
       "      <td>1</td>\n",
       "    </tr>\n",
       "    <tr>\n",
       "      <th>1</th>\n",
       "      <td>325</td>\n",
       "      <td>462</td>\n",
       "      <td>793</td>\n",
       "      <td>43</td>\n",
       "      <td>818</td>\n",
       "      <td>420</td>\n",
       "    </tr>\n",
       "    <tr>\n",
       "      <th>2</th>\n",
       "      <td>651</td>\n",
       "      <td>358</td>\n",
       "      <td>260</td>\n",
       "      <td>967</td>\n",
       "      <td>261</td>\n",
       "      <td>121</td>\n",
       "    </tr>\n",
       "    <tr>\n",
       "      <th>3</th>\n",
       "      <td>51</td>\n",
       "      <td>749</td>\n",
       "      <td>554</td>\n",
       "      <td>334</td>\n",
       "      <td>380</td>\n",
       "      <td>381</td>\n",
       "    </tr>\n",
       "  </tbody>\n",
       "</table>\n",
       "</div>"
      ],
      "text/plain": [
       "   Gula  Tepung  Beras  Garem  Lada  Kecap\n",
       "0   492     879    589    461   810      1\n",
       "1   325     462    793     43   818    420\n",
       "2   651     358    260    967   261    121\n",
       "3    51     749    554    334   380    381"
      ]
     },
     "execution_count": 25,
     "metadata": {
      "tags": []
     },
     "output_type": "execute_result"
    }
   ],
   "source": [
    "df1=pd.DataFrame(np.random.randint(0,999,size=(4,6)),columns=['Gula','Tepung','Beras','Garem','Lada','Kecap'])\n",
    "df1"
   ]
  },
  {
   "cell_type": "code",
   "execution_count": null,
   "metadata": {
    "colab": {
     "base_uri": "https://localhost:8080/"
    },
    "id": "W03I7L_HMrVx",
    "outputId": "45d80556-2997-4da3-a74c-97acaa6f34ce"
   },
   "outputs": [
    {
     "data": {
      "text/plain": [
       "<bound method DataFrame.to_numpy of    Gula  Tepung  Beras  Garem  Lada  Kecap\n",
       "0   762     290    857    625    24    273\n",
       "1   557     813    130     22   923     40\n",
       "2   196     260    573    769   916    642\n",
       "3   768     399    135    522   190    104>"
      ]
     },
     "execution_count": 52,
     "metadata": {
      "tags": []
     },
     "output_type": "execute_result"
    }
   ],
   "source": [
    "df1.to_numpy"
   ]
  },
  {
   "cell_type": "markdown",
   "metadata": {
    "id": "EsxAZ06YNV_O"
   },
   "source": [
    "## 2.2 Sorting"
   ]
  },
  {
   "cell_type": "code",
   "execution_count": null,
   "metadata": {
    "colab": {
     "base_uri": "https://localhost:8080/",
     "height": 173
    },
    "id": "lqM6xesbNgoO",
    "outputId": "67b61052-ef06-4019-b679-59bc789297eb"
   },
   "outputs": [
    {
     "data": {
      "text/html": [
       "<div>\n",
       "<style scoped>\n",
       "    .dataframe tbody tr th:only-of-type {\n",
       "        vertical-align: middle;\n",
       "    }\n",
       "\n",
       "    .dataframe tbody tr th {\n",
       "        vertical-align: top;\n",
       "    }\n",
       "\n",
       "    .dataframe thead th {\n",
       "        text-align: right;\n",
       "    }\n",
       "</style>\n",
       "<table border=\"1\" class=\"dataframe\">\n",
       "  <thead>\n",
       "    <tr style=\"text-align: right;\">\n",
       "      <th></th>\n",
       "      <th>Beras</th>\n",
       "      <th>Garem</th>\n",
       "      <th>Gula</th>\n",
       "      <th>Kecap</th>\n",
       "      <th>Lada</th>\n",
       "      <th>Tepung</th>\n",
       "    </tr>\n",
       "  </thead>\n",
       "  <tbody>\n",
       "    <tr>\n",
       "      <th>0</th>\n",
       "      <td>589</td>\n",
       "      <td>461</td>\n",
       "      <td>492</td>\n",
       "      <td>1</td>\n",
       "      <td>810</td>\n",
       "      <td>879</td>\n",
       "    </tr>\n",
       "    <tr>\n",
       "      <th>1</th>\n",
       "      <td>793</td>\n",
       "      <td>43</td>\n",
       "      <td>325</td>\n",
       "      <td>420</td>\n",
       "      <td>818</td>\n",
       "      <td>462</td>\n",
       "    </tr>\n",
       "    <tr>\n",
       "      <th>2</th>\n",
       "      <td>260</td>\n",
       "      <td>967</td>\n",
       "      <td>651</td>\n",
       "      <td>121</td>\n",
       "      <td>261</td>\n",
       "      <td>358</td>\n",
       "    </tr>\n",
       "    <tr>\n",
       "      <th>3</th>\n",
       "      <td>554</td>\n",
       "      <td>334</td>\n",
       "      <td>51</td>\n",
       "      <td>381</td>\n",
       "      <td>380</td>\n",
       "      <td>749</td>\n",
       "    </tr>\n",
       "  </tbody>\n",
       "</table>\n",
       "</div>"
      ],
      "text/plain": [
       "   Beras  Garem  Gula  Kecap  Lada  Tepung\n",
       "0    589    461   492      1   810     879\n",
       "1    793     43   325    420   818     462\n",
       "2    260    967   651    121   261     358\n",
       "3    554    334    51    381   380     749"
      ]
     },
     "execution_count": 26,
     "metadata": {
      "tags": []
     },
     "output_type": "execute_result"
    }
   ],
   "source": [
    "df1.sort_index(axis=1) #urutin berdasarkan nama kolom"
   ]
  },
  {
   "cell_type": "code",
   "execution_count": null,
   "metadata": {
    "colab": {
     "base_uri": "https://localhost:8080/",
     "height": 173
    },
    "id": "FR7qHkHWOfUi",
    "outputId": "91b3bb7a-3d5e-4e43-9766-699b6419d432"
   },
   "outputs": [
    {
     "data": {
      "text/html": [
       "<div>\n",
       "<style scoped>\n",
       "    .dataframe tbody tr th:only-of-type {\n",
       "        vertical-align: middle;\n",
       "    }\n",
       "\n",
       "    .dataframe tbody tr th {\n",
       "        vertical-align: top;\n",
       "    }\n",
       "\n",
       "    .dataframe thead th {\n",
       "        text-align: right;\n",
       "    }\n",
       "</style>\n",
       "<table border=\"1\" class=\"dataframe\">\n",
       "  <thead>\n",
       "    <tr style=\"text-align: right;\">\n",
       "      <th></th>\n",
       "      <th>Tepung</th>\n",
       "      <th>Lada</th>\n",
       "      <th>Kecap</th>\n",
       "      <th>Gula</th>\n",
       "      <th>Garem</th>\n",
       "      <th>Beras</th>\n",
       "    </tr>\n",
       "  </thead>\n",
       "  <tbody>\n",
       "    <tr>\n",
       "      <th>0</th>\n",
       "      <td>879</td>\n",
       "      <td>810</td>\n",
       "      <td>1</td>\n",
       "      <td>492</td>\n",
       "      <td>461</td>\n",
       "      <td>589</td>\n",
       "    </tr>\n",
       "    <tr>\n",
       "      <th>1</th>\n",
       "      <td>462</td>\n",
       "      <td>818</td>\n",
       "      <td>420</td>\n",
       "      <td>325</td>\n",
       "      <td>43</td>\n",
       "      <td>793</td>\n",
       "    </tr>\n",
       "    <tr>\n",
       "      <th>2</th>\n",
       "      <td>358</td>\n",
       "      <td>261</td>\n",
       "      <td>121</td>\n",
       "      <td>651</td>\n",
       "      <td>967</td>\n",
       "      <td>260</td>\n",
       "    </tr>\n",
       "    <tr>\n",
       "      <th>3</th>\n",
       "      <td>749</td>\n",
       "      <td>380</td>\n",
       "      <td>381</td>\n",
       "      <td>51</td>\n",
       "      <td>334</td>\n",
       "      <td>554</td>\n",
       "    </tr>\n",
       "  </tbody>\n",
       "</table>\n",
       "</div>"
      ],
      "text/plain": [
       "   Tepung  Lada  Kecap  Gula  Garem  Beras\n",
       "0     879   810      1   492    461    589\n",
       "1     462   818    420   325     43    793\n",
       "2     358   261    121   651    967    260\n",
       "3     749   380    381    51    334    554"
      ]
     },
     "execution_count": 27,
     "metadata": {
      "tags": []
     },
     "output_type": "execute_result"
    }
   ],
   "source": [
    "df1.sort_index(axis=1,ascending=False) #urutannya descending"
   ]
  },
  {
   "cell_type": "code",
   "execution_count": null,
   "metadata": {
    "colab": {
     "base_uri": "https://localhost:8080/",
     "height": 173
    },
    "id": "mhnb2i27Ok85",
    "outputId": "a478fc2b-9ffc-4da5-fa59-f45fb05c7979"
   },
   "outputs": [
    {
     "data": {
      "text/html": [
       "<div>\n",
       "<style scoped>\n",
       "    .dataframe tbody tr th:only-of-type {\n",
       "        vertical-align: middle;\n",
       "    }\n",
       "\n",
       "    .dataframe tbody tr th {\n",
       "        vertical-align: top;\n",
       "    }\n",
       "\n",
       "    .dataframe thead th {\n",
       "        text-align: right;\n",
       "    }\n",
       "</style>\n",
       "<table border=\"1\" class=\"dataframe\">\n",
       "  <thead>\n",
       "    <tr style=\"text-align: right;\">\n",
       "      <th></th>\n",
       "      <th>Gula</th>\n",
       "      <th>Tepung</th>\n",
       "      <th>Beras</th>\n",
       "      <th>Garem</th>\n",
       "      <th>Lada</th>\n",
       "      <th>Kecap</th>\n",
       "    </tr>\n",
       "  </thead>\n",
       "  <tbody>\n",
       "    <tr>\n",
       "      <th>3</th>\n",
       "      <td>51</td>\n",
       "      <td>749</td>\n",
       "      <td>554</td>\n",
       "      <td>334</td>\n",
       "      <td>380</td>\n",
       "      <td>381</td>\n",
       "    </tr>\n",
       "    <tr>\n",
       "      <th>1</th>\n",
       "      <td>325</td>\n",
       "      <td>462</td>\n",
       "      <td>793</td>\n",
       "      <td>43</td>\n",
       "      <td>818</td>\n",
       "      <td>420</td>\n",
       "    </tr>\n",
       "    <tr>\n",
       "      <th>0</th>\n",
       "      <td>492</td>\n",
       "      <td>879</td>\n",
       "      <td>589</td>\n",
       "      <td>461</td>\n",
       "      <td>810</td>\n",
       "      <td>1</td>\n",
       "    </tr>\n",
       "    <tr>\n",
       "      <th>2</th>\n",
       "      <td>651</td>\n",
       "      <td>358</td>\n",
       "      <td>260</td>\n",
       "      <td>967</td>\n",
       "      <td>261</td>\n",
       "      <td>121</td>\n",
       "    </tr>\n",
       "  </tbody>\n",
       "</table>\n",
       "</div>"
      ],
      "text/plain": [
       "   Gula  Tepung  Beras  Garem  Lada  Kecap\n",
       "3    51     749    554    334   380    381\n",
       "1   325     462    793     43   818    420\n",
       "0   492     879    589    461   810      1\n",
       "2   651     358    260    967   261    121"
      ]
     },
     "execution_count": 28,
     "metadata": {
      "tags": []
     },
     "output_type": "execute_result"
    }
   ],
   "source": [
    "df1.sort_values(by='Gula') #diurutin berdasarkan value 'Gula'"
   ]
  },
  {
   "cell_type": "markdown",
   "metadata": {
    "id": "eISWmDEHPYZu"
   },
   "source": [
    "## 2.3 Operasi pada dataset"
   ]
  },
  {
   "cell_type": "code",
   "execution_count": null,
   "metadata": {
    "colab": {
     "base_uri": "https://localhost:8080/"
    },
    "id": "sD4lAoQPPoQm",
    "outputId": "e94d67c0-2e68-4d67-a889-4c101ad87f36"
   },
   "outputs": [
    {
     "data": {
      "text/plain": [
       "0    1371\n",
       "1     787\n",
       "2    1009\n",
       "3     800\n",
       "dtype: int64"
      ]
     },
     "execution_count": 29,
     "metadata": {
      "tags": []
     },
     "output_type": "execute_result"
    }
   ],
   "source": [
    "df1['Gula']+df1['Tepung'] #jumlahin gula dan tepung"
   ]
  },
  {
   "cell_type": "code",
   "execution_count": null,
   "metadata": {
    "colab": {
     "base_uri": "https://localhost:8080/",
     "height": 173
    },
    "id": "Xg7zNfR6Pzl7",
    "outputId": "6326f437-fab4-4ee2-9470-cd929d112d7c"
   },
   "outputs": [
    {
     "data": {
      "text/html": [
       "<div>\n",
       "<style scoped>\n",
       "    .dataframe tbody tr th:only-of-type {\n",
       "        vertical-align: middle;\n",
       "    }\n",
       "\n",
       "    .dataframe tbody tr th {\n",
       "        vertical-align: top;\n",
       "    }\n",
       "\n",
       "    .dataframe thead th {\n",
       "        text-align: right;\n",
       "    }\n",
       "</style>\n",
       "<table border=\"1\" class=\"dataframe\">\n",
       "  <thead>\n",
       "    <tr style=\"text-align: right;\">\n",
       "      <th></th>\n",
       "      <th>Gula</th>\n",
       "      <th>Tepung</th>\n",
       "      <th>Beras</th>\n",
       "      <th>Garem</th>\n",
       "      <th>Lada</th>\n",
       "      <th>Kecap</th>\n",
       "      <th>Gula dan Tepung</th>\n",
       "    </tr>\n",
       "  </thead>\n",
       "  <tbody>\n",
       "    <tr>\n",
       "      <th>0</th>\n",
       "      <td>492</td>\n",
       "      <td>879</td>\n",
       "      <td>589</td>\n",
       "      <td>461</td>\n",
       "      <td>810</td>\n",
       "      <td>1</td>\n",
       "      <td>1371</td>\n",
       "    </tr>\n",
       "    <tr>\n",
       "      <th>1</th>\n",
       "      <td>325</td>\n",
       "      <td>462</td>\n",
       "      <td>793</td>\n",
       "      <td>43</td>\n",
       "      <td>818</td>\n",
       "      <td>420</td>\n",
       "      <td>787</td>\n",
       "    </tr>\n",
       "    <tr>\n",
       "      <th>2</th>\n",
       "      <td>651</td>\n",
       "      <td>358</td>\n",
       "      <td>260</td>\n",
       "      <td>967</td>\n",
       "      <td>261</td>\n",
       "      <td>121</td>\n",
       "      <td>1009</td>\n",
       "    </tr>\n",
       "    <tr>\n",
       "      <th>3</th>\n",
       "      <td>51</td>\n",
       "      <td>749</td>\n",
       "      <td>554</td>\n",
       "      <td>334</td>\n",
       "      <td>380</td>\n",
       "      <td>381</td>\n",
       "      <td>800</td>\n",
       "    </tr>\n",
       "  </tbody>\n",
       "</table>\n",
       "</div>"
      ],
      "text/plain": [
       "   Gula  Tepung  Beras  Garem  Lada  Kecap  Gula dan Tepung\n",
       "0   492     879    589    461   810      1             1371\n",
       "1   325     462    793     43   818    420              787\n",
       "2   651     358    260    967   261    121             1009\n",
       "3    51     749    554    334   380    381              800"
      ]
     },
     "execution_count": 30,
     "metadata": {
      "tags": []
     },
     "output_type": "execute_result"
    }
   ],
   "source": [
    "df1['Gula dan Tepung']=df1['Gula']+df1['Tepung'] #hasilnya dimasukin ke kolom baru\n",
    "df1"
   ]
  },
  {
   "cell_type": "code",
   "execution_count": null,
   "metadata": {
    "colab": {
     "base_uri": "https://localhost:8080/"
    },
    "id": "Ptqd8mUEP-bw",
    "outputId": "789f6843-d4ed-4063-a83b-d1b90d66a160"
   },
   "outputs": [
    {
     "data": {
      "text/plain": [
       "Gula                817\n",
       "Tepung             1341\n",
       "Beras              1382\n",
       "Garem               504\n",
       "Lada               1628\n",
       "Kecap               421\n",
       "Gula dan Tepung    2158\n",
       "dtype: int64"
      ]
     },
     "execution_count": 31,
     "metadata": {
      "tags": []
     },
     "output_type": "execute_result"
    }
   ],
   "source": [
    "a1 #operasinya dilakukan pada baris"
   ]
  },
  {
   "cell_type": "markdown",
   "metadata": {
    "id": "q7qthWiqQW64"
   },
   "source": [
    "## 2.4 Apply"
   ]
  },
  {
   "cell_type": "code",
   "execution_count": null,
   "metadata": {
    "colab": {
     "base_uri": "https://localhost:8080/",
     "height": 171
    },
    "id": "xewILe2BQZ6W",
    "outputId": "284f3a10-d37a-4663-97f9-ce5fda90eefe"
   },
   "outputs": [
    {
     "data": {
      "text/html": [
       "<div>\n",
       "<style scoped>\n",
       "    .dataframe tbody tr th:only-of-type {\n",
       "        vertical-align: middle;\n",
       "    }\n",
       "\n",
       "    .dataframe tbody tr th {\n",
       "        vertical-align: top;\n",
       "    }\n",
       "\n",
       "    .dataframe thead th {\n",
       "        text-align: right;\n",
       "    }\n",
       "</style>\n",
       "<table border=\"1\" class=\"dataframe\">\n",
       "  <thead>\n",
       "    <tr style=\"text-align: right;\">\n",
       "      <th></th>\n",
       "      <th>Gula</th>\n",
       "      <th>Tepung</th>\n",
       "      <th>Beras</th>\n",
       "      <th>Garem</th>\n",
       "      <th>Lada</th>\n",
       "      <th>Kecap</th>\n",
       "      <th>Gula dan Tepung</th>\n",
       "    </tr>\n",
       "  </thead>\n",
       "  <tbody>\n",
       "    <tr>\n",
       "      <th>0</th>\n",
       "      <td>762</td>\n",
       "      <td>290</td>\n",
       "      <td>857</td>\n",
       "      <td>625</td>\n",
       "      <td>24</td>\n",
       "      <td>273</td>\n",
       "      <td>1052</td>\n",
       "    </tr>\n",
       "    <tr>\n",
       "      <th>1</th>\n",
       "      <td>1319</td>\n",
       "      <td>1103</td>\n",
       "      <td>987</td>\n",
       "      <td>647</td>\n",
       "      <td>947</td>\n",
       "      <td>313</td>\n",
       "      <td>2422</td>\n",
       "    </tr>\n",
       "    <tr>\n",
       "      <th>2</th>\n",
       "      <td>1515</td>\n",
       "      <td>1363</td>\n",
       "      <td>1560</td>\n",
       "      <td>1416</td>\n",
       "      <td>1863</td>\n",
       "      <td>955</td>\n",
       "      <td>2878</td>\n",
       "    </tr>\n",
       "    <tr>\n",
       "      <th>3</th>\n",
       "      <td>2283</td>\n",
       "      <td>1762</td>\n",
       "      <td>1695</td>\n",
       "      <td>1938</td>\n",
       "      <td>2053</td>\n",
       "      <td>1059</td>\n",
       "      <td>4045</td>\n",
       "    </tr>\n",
       "  </tbody>\n",
       "</table>\n",
       "</div>"
      ],
      "text/plain": [
       "   Gula  Tepung  Beras  Garem  Lada  Kecap  Gula dan Tepung\n",
       "0   762     290    857    625    24    273             1052\n",
       "1  1319    1103    987    647   947    313             2422\n",
       "2  1515    1363   1560   1416  1863    955             2878\n",
       "3  2283    1762   1695   1938  2053   1059             4045"
      ]
     },
     "execution_count": 62,
     "metadata": {
      "tags": []
     },
     "output_type": "execute_result"
    }
   ],
   "source": [
    "df1.apply(np.cumsum) #melakukan operasi cummulated sum untuk setiap kolom"
   ]
  },
  {
   "cell_type": "code",
   "execution_count": null,
   "metadata": {
    "colab": {
     "base_uri": "https://localhost:8080/"
    },
    "id": "BKxXeILmQofK",
    "outputId": "76a80eab-3562-4b4c-a41e-53b7adfd3295"
   },
   "outputs": [
    {
     "data": {
      "text/plain": [
       "Gula               572\n",
       "Tepung             553\n",
       "Beras              727\n",
       "Garem              747\n",
       "Lada               899\n",
       "Kecap              602\n",
       "Gula dan Tepung    914\n",
       "dtype: int64"
      ]
     },
     "execution_count": 64,
     "metadata": {
      "tags": []
     },
     "output_type": "execute_result"
    }
   ],
   "source": [
    "df1.apply(lambda x: x.max()-x.min()) #Dapat dikombinasikan dengan fungsi lambda"
   ]
  },
  {
   "cell_type": "code",
   "execution_count": null,
   "metadata": {
    "colab": {
     "base_uri": "https://localhost:8080/"
    },
    "id": "SMfZjwbAQ3R7",
    "outputId": "1ed6c4f0-3cca-40d7-f19d-4bbabf661d1e"
   },
   "outputs": [
    {
     "data": {
      "text/plain": [
       "Gula                424434\n",
       "Tepung              235770\n",
       "Beras               111410\n",
       "Garem                13750\n",
       "Lada                 22152\n",
       "Kecap                10920\n",
       "Gula dan Tepung    1441240\n",
       "dtype: int64"
      ]
     },
     "execution_count": 65,
     "metadata": {
      "tags": []
     },
     "output_type": "execute_result"
    }
   ],
   "source": [
    "df1.apply(lambda x: x[0]*x[1])"
   ]
  },
  {
   "cell_type": "code",
   "execution_count": null,
   "metadata": {
    "id": "ff-PQF2CjTNx"
   },
   "outputs": [],
   "source": [
    "def pajak(x):    #define a function\n",
    "  return 1.1*x   #pajak 10 persen"
   ]
  },
  {
   "cell_type": "code",
   "execution_count": null,
   "metadata": {
    "colab": {
     "base_uri": "https://localhost:8080/",
     "height": 175
    },
    "id": "x5zi2JeLjWUC",
    "outputId": "8e96ddd7-0fb4-4b4d-efab-a4d2a4f33b12"
   },
   "outputs": [
    {
     "data": {
      "text/html": [
       "<div>\n",
       "<style scoped>\n",
       "    .dataframe tbody tr th:only-of-type {\n",
       "        vertical-align: middle;\n",
       "    }\n",
       "\n",
       "    .dataframe tbody tr th {\n",
       "        vertical-align: top;\n",
       "    }\n",
       "\n",
       "    .dataframe thead th {\n",
       "        text-align: right;\n",
       "    }\n",
       "</style>\n",
       "<table border=\"1\" class=\"dataframe\">\n",
       "  <thead>\n",
       "    <tr style=\"text-align: right;\">\n",
       "      <th></th>\n",
       "      <th>Gula</th>\n",
       "      <th>Tepung</th>\n",
       "      <th>Beras</th>\n",
       "      <th>Garem</th>\n",
       "      <th>Lada</th>\n",
       "      <th>Kecap</th>\n",
       "      <th>KecapPPN</th>\n",
       "    </tr>\n",
       "  </thead>\n",
       "  <tbody>\n",
       "    <tr>\n",
       "      <th>0</th>\n",
       "      <td>742</td>\n",
       "      <td>640</td>\n",
       "      <td>199</td>\n",
       "      <td>793</td>\n",
       "      <td>891</td>\n",
       "      <td>489</td>\n",
       "      <td>537</td>\n",
       "    </tr>\n",
       "    <tr>\n",
       "      <th>1</th>\n",
       "      <td>351</td>\n",
       "      <td>321</td>\n",
       "      <td>921</td>\n",
       "      <td>365</td>\n",
       "      <td>310</td>\n",
       "      <td>640</td>\n",
       "      <td>704</td>\n",
       "    </tr>\n",
       "    <tr>\n",
       "      <th>2</th>\n",
       "      <td>90</td>\n",
       "      <td>726</td>\n",
       "      <td>160</td>\n",
       "      <td>439</td>\n",
       "      <td>474</td>\n",
       "      <td>260</td>\n",
       "      <td>286</td>\n",
       "    </tr>\n",
       "    <tr>\n",
       "      <th>3</th>\n",
       "      <td>343</td>\n",
       "      <td>407</td>\n",
       "      <td>51</td>\n",
       "      <td>386</td>\n",
       "      <td>326</td>\n",
       "      <td>84</td>\n",
       "      <td>92</td>\n",
       "    </tr>\n",
       "  </tbody>\n",
       "</table>\n",
       "</div>"
      ],
      "text/plain": [
       "   Gula  Tepung  Beras  Garem  Lada  Kecap  KecapPPN\n",
       "0   742     640    199    793   891    489       537\n",
       "1   351     321    921    365   310    640       704\n",
       "2    90     726    160    439   474    260       286\n",
       "3   343     407     51    386   326     84        92"
      ]
     },
     "execution_count": 8,
     "metadata": {
      "tags": []
     },
     "output_type": "execute_result"
    }
   ],
   "source": [
    "df1['KecapPPN'] = df1['Kecap'].apply(lambda x: int(pajak(x)))\n",
    "df1"
   ]
  },
  {
   "cell_type": "markdown",
   "metadata": {
    "id": "I1YDcbmFRSIr"
   },
   "source": [
    "## 3. Missing Values & Duplicates"
   ]
  },
  {
   "cell_type": "code",
   "execution_count": null,
   "metadata": {
    "colab": {
     "base_uri": "https://localhost:8080/",
     "height": 206
    },
    "id": "A2iZNXoFkSOf",
    "outputId": "be2189a7-a57a-4710-f574-47b69d5d8360"
   },
   "outputs": [
    {
     "data": {
      "text/html": [
       "<div>\n",
       "<style scoped>\n",
       "    .dataframe tbody tr th:only-of-type {\n",
       "        vertical-align: middle;\n",
       "    }\n",
       "\n",
       "    .dataframe tbody tr th {\n",
       "        vertical-align: top;\n",
       "    }\n",
       "\n",
       "    .dataframe thead th {\n",
       "        text-align: right;\n",
       "    }\n",
       "</style>\n",
       "<table border=\"1\" class=\"dataframe\">\n",
       "  <thead>\n",
       "    <tr style=\"text-align: right;\">\n",
       "      <th></th>\n",
       "      <th>Evan</th>\n",
       "      <th>Boy</th>\n",
       "      <th>Maxwell</th>\n",
       "    </tr>\n",
       "  </thead>\n",
       "  <tbody>\n",
       "    <tr>\n",
       "      <th>0</th>\n",
       "      <td>NaN</td>\n",
       "      <td>100.0</td>\n",
       "      <td>95.0</td>\n",
       "    </tr>\n",
       "    <tr>\n",
       "      <th>1</th>\n",
       "      <td>100.0</td>\n",
       "      <td>NaN</td>\n",
       "      <td>100.0</td>\n",
       "    </tr>\n",
       "    <tr>\n",
       "      <th>2</th>\n",
       "      <td>95.0</td>\n",
       "      <td>95.0</td>\n",
       "      <td>99.0</td>\n",
       "    </tr>\n",
       "    <tr>\n",
       "      <th>3</th>\n",
       "      <td>94.0</td>\n",
       "      <td>99.0</td>\n",
       "      <td>NaN</td>\n",
       "    </tr>\n",
       "    <tr>\n",
       "      <th>4</th>\n",
       "      <td>99.0</td>\n",
       "      <td>94.0</td>\n",
       "      <td>94.0</td>\n",
       "    </tr>\n",
       "  </tbody>\n",
       "</table>\n",
       "</div>"
      ],
      "text/plain": [
       "    Evan    Boy  Maxwell\n",
       "0    NaN  100.0     95.0\n",
       "1  100.0    NaN    100.0\n",
       "2   95.0   95.0     99.0\n",
       "3   94.0   99.0      NaN\n",
       "4   99.0   94.0     94.0"
      ]
     },
     "execution_count": 2,
     "metadata": {
      "tags": []
     },
     "output_type": "execute_result"
    }
   ],
   "source": [
    "df = pd.DataFrame({\"Evan\" : [np.nan,100,95,94,99],\"Boy\" : [100,np.nan,95,99,94],\"Maxwell\" : [95,100,99,np.nan,94]})\n",
    "df #berikut adalah dataframe, dapat terlihat missing values di representasikan sebagai NAN"
   ]
  },
  {
   "cell_type": "code",
   "execution_count": null,
   "metadata": {
    "colab": {
     "base_uri": "https://localhost:8080/",
     "height": 206
    },
    "id": "Fuetmb8gmVuu",
    "outputId": "79408ad5-0c2c-4fef-f053-f4ae6f2c00b7"
   },
   "outputs": [
    {
     "data": {
      "text/html": [
       "<div>\n",
       "<style scoped>\n",
       "    .dataframe tbody tr th:only-of-type {\n",
       "        vertical-align: middle;\n",
       "    }\n",
       "\n",
       "    .dataframe tbody tr th {\n",
       "        vertical-align: top;\n",
       "    }\n",
       "\n",
       "    .dataframe thead th {\n",
       "        text-align: right;\n",
       "    }\n",
       "</style>\n",
       "<table border=\"1\" class=\"dataframe\">\n",
       "  <thead>\n",
       "    <tr style=\"text-align: right;\">\n",
       "      <th></th>\n",
       "      <th>Evan</th>\n",
       "      <th>Boy</th>\n",
       "      <th>Maxwell</th>\n",
       "    </tr>\n",
       "  </thead>\n",
       "  <tbody>\n",
       "    <tr>\n",
       "      <th>0</th>\n",
       "      <td>True</td>\n",
       "      <td>False</td>\n",
       "      <td>False</td>\n",
       "    </tr>\n",
       "    <tr>\n",
       "      <th>1</th>\n",
       "      <td>False</td>\n",
       "      <td>True</td>\n",
       "      <td>False</td>\n",
       "    </tr>\n",
       "    <tr>\n",
       "      <th>2</th>\n",
       "      <td>False</td>\n",
       "      <td>False</td>\n",
       "      <td>False</td>\n",
       "    </tr>\n",
       "    <tr>\n",
       "      <th>3</th>\n",
       "      <td>False</td>\n",
       "      <td>False</td>\n",
       "      <td>True</td>\n",
       "    </tr>\n",
       "    <tr>\n",
       "      <th>4</th>\n",
       "      <td>False</td>\n",
       "      <td>False</td>\n",
       "      <td>False</td>\n",
       "    </tr>\n",
       "  </tbody>\n",
       "</table>\n",
       "</div>"
      ],
      "text/plain": [
       "    Evan    Boy  Maxwell\n",
       "0   True  False    False\n",
       "1  False   True    False\n",
       "2  False  False    False\n",
       "3  False  False     True\n",
       "4  False  False    False"
      ]
     },
     "execution_count": 3,
     "metadata": {
      "tags": []
     },
     "output_type": "execute_result"
    }
   ],
   "source": [
    "df.isna() #menampilkan lokasi dari data yang missing, direpresentasikan sebagai true"
   ]
  },
  {
   "cell_type": "code",
   "execution_count": null,
   "metadata": {
    "colab": {
     "base_uri": "https://localhost:8080/",
     "height": 206
    },
    "id": "PBuDoh-xmZoS",
    "outputId": "bcab36af-a297-4712-a934-992bdce8978b"
   },
   "outputs": [
    {
     "data": {
      "text/html": [
       "<div>\n",
       "<style scoped>\n",
       "    .dataframe tbody tr th:only-of-type {\n",
       "        vertical-align: middle;\n",
       "    }\n",
       "\n",
       "    .dataframe tbody tr th {\n",
       "        vertical-align: top;\n",
       "    }\n",
       "\n",
       "    .dataframe thead th {\n",
       "        text-align: right;\n",
       "    }\n",
       "</style>\n",
       "<table border=\"1\" class=\"dataframe\">\n",
       "  <thead>\n",
       "    <tr style=\"text-align: right;\">\n",
       "      <th></th>\n",
       "      <th>Evan</th>\n",
       "      <th>Boy</th>\n",
       "      <th>Maxwell</th>\n",
       "    </tr>\n",
       "  </thead>\n",
       "  <tbody>\n",
       "    <tr>\n",
       "      <th>0</th>\n",
       "      <td>True</td>\n",
       "      <td>False</td>\n",
       "      <td>False</td>\n",
       "    </tr>\n",
       "    <tr>\n",
       "      <th>1</th>\n",
       "      <td>False</td>\n",
       "      <td>True</td>\n",
       "      <td>False</td>\n",
       "    </tr>\n",
       "    <tr>\n",
       "      <th>2</th>\n",
       "      <td>False</td>\n",
       "      <td>False</td>\n",
       "      <td>False</td>\n",
       "    </tr>\n",
       "    <tr>\n",
       "      <th>3</th>\n",
       "      <td>False</td>\n",
       "      <td>False</td>\n",
       "      <td>True</td>\n",
       "    </tr>\n",
       "    <tr>\n",
       "      <th>4</th>\n",
       "      <td>False</td>\n",
       "      <td>False</td>\n",
       "      <td>False</td>\n",
       "    </tr>\n",
       "  </tbody>\n",
       "</table>\n",
       "</div>"
      ],
      "text/plain": [
       "    Evan    Boy  Maxwell\n",
       "0   True  False    False\n",
       "1  False   True    False\n",
       "2  False  False    False\n",
       "3  False  False     True\n",
       "4  False  False    False"
      ]
     },
     "execution_count": 4,
     "metadata": {
      "tags": []
     },
     "output_type": "execute_result"
    }
   ],
   "source": [
    "df.isnull() #dengan isnull juga bisa"
   ]
  },
  {
   "cell_type": "code",
   "execution_count": null,
   "metadata": {
    "colab": {
     "base_uri": "https://localhost:8080/"
    },
    "id": "LQPy_7w1nyBJ",
    "outputId": "d952b09d-6ac3-458d-b8a7-c3b7deb65d3c"
   },
   "outputs": [
    {
     "data": {
      "text/plain": [
       "Evan       1\n",
       "Boy        1\n",
       "Maxwell    1\n",
       "dtype: int64"
      ]
     },
     "execution_count": 22,
     "metadata": {
      "tags": []
     },
     "output_type": "execute_result"
    }
   ],
   "source": [
    "df.isna().sum()    #jumlah value yg missing"
   ]
  },
  {
   "cell_type": "code",
   "execution_count": null,
   "metadata": {
    "colab": {
     "base_uri": "https://localhost:8080/",
     "height": 206
    },
    "id": "z8PoiKMAmckd",
    "outputId": "a6f15716-4303-45ae-8a2b-213c02e1a728"
   },
   "outputs": [
    {
     "data": {
      "text/html": [
       "<div>\n",
       "<style scoped>\n",
       "    .dataframe tbody tr th:only-of-type {\n",
       "        vertical-align: middle;\n",
       "    }\n",
       "\n",
       "    .dataframe tbody tr th {\n",
       "        vertical-align: top;\n",
       "    }\n",
       "\n",
       "    .dataframe thead th {\n",
       "        text-align: right;\n",
       "    }\n",
       "</style>\n",
       "<table border=\"1\" class=\"dataframe\">\n",
       "  <thead>\n",
       "    <tr style=\"text-align: right;\">\n",
       "      <th></th>\n",
       "      <th>Evan</th>\n",
       "      <th>Boy</th>\n",
       "      <th>Maxwell</th>\n",
       "    </tr>\n",
       "  </thead>\n",
       "  <tbody>\n",
       "    <tr>\n",
       "      <th>0</th>\n",
       "      <td>0.0</td>\n",
       "      <td>100.0</td>\n",
       "      <td>95.0</td>\n",
       "    </tr>\n",
       "    <tr>\n",
       "      <th>1</th>\n",
       "      <td>100.0</td>\n",
       "      <td>0.0</td>\n",
       "      <td>100.0</td>\n",
       "    </tr>\n",
       "    <tr>\n",
       "      <th>2</th>\n",
       "      <td>95.0</td>\n",
       "      <td>95.0</td>\n",
       "      <td>99.0</td>\n",
       "    </tr>\n",
       "    <tr>\n",
       "      <th>3</th>\n",
       "      <td>94.0</td>\n",
       "      <td>99.0</td>\n",
       "      <td>0.0</td>\n",
       "    </tr>\n",
       "    <tr>\n",
       "      <th>4</th>\n",
       "      <td>99.0</td>\n",
       "      <td>94.0</td>\n",
       "      <td>94.0</td>\n",
       "    </tr>\n",
       "  </tbody>\n",
       "</table>\n",
       "</div>"
      ],
      "text/plain": [
       "    Evan    Boy  Maxwell\n",
       "0    0.0  100.0     95.0\n",
       "1  100.0    0.0    100.0\n",
       "2   95.0   95.0     99.0\n",
       "3   94.0   99.0      0.0\n",
       "4   99.0   94.0     94.0"
      ]
     },
     "execution_count": 5,
     "metadata": {
      "tags": []
     },
     "output_type": "execute_result"
    }
   ],
   "source": [
    "df.fillna(0) #menggantikan missing value dengan nilai \"0\""
   ]
  },
  {
   "cell_type": "code",
   "execution_count": null,
   "metadata": {
    "colab": {
     "base_uri": "https://localhost:8080/",
     "height": 112
    },
    "id": "WKR1oN5Cmg-0",
    "outputId": "a59bdf1a-9fae-4f8f-ce7a-58c2c038651d"
   },
   "outputs": [
    {
     "data": {
      "text/html": [
       "<div>\n",
       "<style scoped>\n",
       "    .dataframe tbody tr th:only-of-type {\n",
       "        vertical-align: middle;\n",
       "    }\n",
       "\n",
       "    .dataframe tbody tr th {\n",
       "        vertical-align: top;\n",
       "    }\n",
       "\n",
       "    .dataframe thead th {\n",
       "        text-align: right;\n",
       "    }\n",
       "</style>\n",
       "<table border=\"1\" class=\"dataframe\">\n",
       "  <thead>\n",
       "    <tr style=\"text-align: right;\">\n",
       "      <th></th>\n",
       "      <th>Evan</th>\n",
       "      <th>Boy</th>\n",
       "      <th>Maxwell</th>\n",
       "    </tr>\n",
       "  </thead>\n",
       "  <tbody>\n",
       "    <tr>\n",
       "      <th>2</th>\n",
       "      <td>95.0</td>\n",
       "      <td>95.0</td>\n",
       "      <td>99.0</td>\n",
       "    </tr>\n",
       "    <tr>\n",
       "      <th>4</th>\n",
       "      <td>99.0</td>\n",
       "      <td>94.0</td>\n",
       "      <td>94.0</td>\n",
       "    </tr>\n",
       "  </tbody>\n",
       "</table>\n",
       "</div>"
      ],
      "text/plain": [
       "   Evan   Boy  Maxwell\n",
       "2  95.0  95.0     99.0\n",
       "4  99.0  94.0     94.0"
      ]
     },
     "execution_count": 6,
     "metadata": {
      "tags": []
     },
     "output_type": "execute_result"
    }
   ],
   "source": [
    "df.dropna() #menghapus baris yang mengandung \"NAN\""
   ]
  },
  {
   "cell_type": "markdown",
   "metadata": {
    "id": "IGAs93U-Re5q"
   },
   "source": [
    "## 4. String Operations"
   ]
  },
  {
   "cell_type": "code",
   "execution_count": null,
   "metadata": {
    "colab": {
     "base_uri": "https://localhost:8080/"
    },
    "id": "JqtRk1q4ml_o",
    "outputId": "711a80c4-093f-408e-ffd0-5aa85a3343d7"
   },
   "outputs": [
    {
     "data": {
      "text/plain": [
       "0            Evan Eka Wijaya\n",
       "1            Maxwell Thomson\n",
       "2    Raden Fadil Aji Saputra\n",
       "dtype: object"
      ]
     },
     "execution_count": 7,
     "metadata": {
      "tags": []
     },
     "output_type": "execute_result"
    }
   ],
   "source": [
    "list_nama = pd.Series([\"Evan Eka Wijaya\",\"Maxwell Thomson\",\"Raden Fadil Aji Saputra\"])\n",
    "list_nama"
   ]
  },
  {
   "cell_type": "code",
   "execution_count": null,
   "metadata": {
    "colab": {
     "base_uri": "https://localhost:8080/"
    },
    "id": "Fo71x2ygmpbE",
    "outputId": "1436cbde-6bad-4202-b962-5a87c60ceb6b"
   },
   "outputs": [
    {
     "data": {
      "text/plain": [
       "0            evan eka wijaya\n",
       "1            maxwell thomson\n",
       "2    raden fadil aji saputra\n",
       "dtype: object"
      ]
     },
     "execution_count": 8,
     "metadata": {
      "tags": []
     },
     "output_type": "execute_result"
    }
   ],
   "source": [
    "lowercase = list_nama.str.lower() #mengubah semua anggota pada series menjadi huruf kecil\n",
    "lowercase"
   ]
  },
  {
   "cell_type": "code",
   "execution_count": null,
   "metadata": {
    "colab": {
     "base_uri": "https://localhost:8080/"
    },
    "id": "zN7fxwgVmsU9",
    "outputId": "e183cdb6-911e-474d-9e40-38d35175f221"
   },
   "outputs": [
    {
     "data": {
      "text/plain": [
       "0            EVAN EKA WIJAYA\n",
       "1            MAXWELL THOMSON\n",
       "2    RADEN FADIL AJI SAPUTRA\n",
       "dtype: object"
      ]
     },
     "execution_count": 9,
     "metadata": {
      "tags": []
     },
     "output_type": "execute_result"
    }
   ],
   "source": [
    "uppercase = list_nama.str.upper() #mengubah semua anggota pada series menjadi kapital\n",
    "uppercase"
   ]
  },
  {
   "cell_type": "code",
   "execution_count": null,
   "metadata": {
    "colab": {
     "base_uri": "https://localhost:8080/"
    },
    "id": "SPUW7yFbmu2U",
    "outputId": "943e5424-01c8-46f7-a939-46be6a7f0692"
   },
   "outputs": [
    {
     "data": {
      "text/plain": [
       "0    Evan\n",
       "1     Boy\n",
       "dtype: object"
      ]
     },
     "execution_count": 10,
     "metadata": {
      "tags": []
     },
     "output_type": "execute_result"
    }
   ],
   "source": [
    "list_nama2 = pd.Series([\"     Evan\",\"Boy    \"]) #menghapuskan space di awal dan di akhir kata\n",
    "strip = list_nama2.str.strip()\n",
    "strip"
   ]
  },
  {
   "cell_type": "code",
   "execution_count": null,
   "metadata": {
    "colab": {
     "base_uri": "https://localhost:8080/"
    },
    "id": "DJNPdYDBmyXb",
    "outputId": "0f5da8d3-3c40-4ea0-8679-54c504f6402d"
   },
   "outputs": [
    {
     "data": {
      "text/plain": [
       "0             [Evan, Eka, Wijaya]\n",
       "1              [Maxwell, Thomson]\n",
       "2    [Raden, Fadil, Aji, Saputra]\n",
       "dtype: object"
      ]
     },
     "execution_count": 11,
     "metadata": {
      "tags": []
     },
     "output_type": "execute_result"
    }
   ],
   "source": [
    "split = list_nama.str.split(\" \") #memisahkan setiap kata pada series dengan tanda baca tertentu (contoh \" \")\n",
    "#dalam case ini setiap kata dipisahkan oleh space\n",
    "split"
   ]
  },
  {
   "cell_type": "code",
   "execution_count": null,
   "metadata": {
    "colab": {
     "base_uri": "https://localhost:8080/",
     "height": 36
    },
    "id": "kcjDhZ6Tm1jo",
    "outputId": "d0b31b5a-da22-48f2-9439-e1d24da801ba"
   },
   "outputs": [
    {
     "data": {
      "application/vnd.google.colaboratory.intrinsic+json": {
       "type": "string"
      },
      "text/plain": [
       "'Evan Eka Wijaya Maxwell Thomson Raden Fadil Aji Saputra'"
      ]
     },
     "execution_count": 12,
     "metadata": {
      "tags": []
     },
     "output_type": "execute_result"
    }
   ],
   "source": [
    "cat = list_nama.str.cat(sep=\" \") #gabungkan setiap anggota pada series dengan pemisah space (\" \")\n",
    "cat"
   ]
  },
  {
   "cell_type": "markdown",
   "metadata": {
    "id": "u19hFo-mRkpW"
   },
   "source": [
    "## 5. count values, max, min\n",
    "\n",
    "\n"
   ]
  },
  {
   "cell_type": "code",
   "execution_count": null,
   "metadata": {
    "id": "ANSuFydQnDfx"
   },
   "outputs": [],
   "source": [
    "angka = pd.Series([1,2,3,4,3,5,4])"
   ]
  },
  {
   "cell_type": "code",
   "execution_count": null,
   "metadata": {
    "colab": {
     "base_uri": "https://localhost:8080/"
    },
    "id": "5yYOQ_6qnF8S",
    "outputId": "b0fc18c3-c105-4310-d255-41c6edd99559"
   },
   "outputs": [
    {
     "data": {
      "text/plain": [
       "4    2\n",
       "3    2\n",
       "5    1\n",
       "2    1\n",
       "1    1\n",
       "dtype: int64"
      ]
     },
     "execution_count": 14,
     "metadata": {
      "tags": []
     },
     "output_type": "execute_result"
    }
   ],
   "source": [
    "angka.value_counts() #menghitung jumlah dari setiap komponen pada series, dapat terlihat terdapat 2 angka 4 dan 2 angka 3,dan sisanya 1"
   ]
  },
  {
   "cell_type": "code",
   "execution_count": null,
   "metadata": {
    "colab": {
     "base_uri": "https://localhost:8080/"
    },
    "id": "AXsAXIb3nKHE",
    "outputId": "2eba9c55-22e5-40d9-d124-a5d221f232f4"
   },
   "outputs": [
    {
     "data": {
      "text/plain": [
       "4    0.285714\n",
       "3    0.285714\n",
       "5    0.142857\n",
       "2    0.142857\n",
       "1    0.142857\n",
       "dtype: float64"
      ]
     },
     "execution_count": 15,
     "metadata": {
      "tags": []
     },
     "output_type": "execute_result"
    }
   ],
   "source": [
    "angka.value_counts(normalize=True) #mengembalikan banyaknya anggota dalam desimal"
   ]
  },
  {
   "cell_type": "code",
   "execution_count": null,
   "metadata": {
    "colab": {
     "base_uri": "https://localhost:8080/"
    },
    "id": "phynnUHInNCd",
    "outputId": "9950ec58-b6a0-4d46-c50d-74d731910dcb"
   },
   "outputs": [
    {
     "data": {
      "text/plain": [
       "(3.667, 5.0]      3\n",
       "(2.333, 3.667]    2\n",
       "(0.995, 2.333]    2\n",
       "dtype: int64"
      ]
     },
     "execution_count": 16,
     "metadata": {
      "tags": []
     },
     "output_type": "execute_result"
    }
   ],
   "source": [
    "angka.value_counts(bins=3) #membagi data menjadi 3 interval dan menghitung banyaknya anggota yang termasuk di interval "
   ]
  },
  {
   "cell_type": "code",
   "execution_count": null,
   "metadata": {
    "colab": {
     "base_uri": "https://localhost:8080/",
     "height": 171
    },
    "id": "kD8ehrfpnQYv",
    "outputId": "0c4f3088-812d-4f17-d0f0-b486bb7868f4"
   },
   "outputs": [
    {
     "data": {
      "text/html": [
       "<div>\n",
       "<style scoped>\n",
       "    .dataframe tbody tr th:only-of-type {\n",
       "        vertical-align: middle;\n",
       "    }\n",
       "\n",
       "    .dataframe tbody tr th {\n",
       "        vertical-align: top;\n",
       "    }\n",
       "\n",
       "    .dataframe thead th {\n",
       "        text-align: right;\n",
       "    }\n",
       "</style>\n",
       "<table border=\"1\" class=\"dataframe\">\n",
       "  <thead>\n",
       "    <tr style=\"text-align: right;\">\n",
       "      <th></th>\n",
       "      <th>Evan</th>\n",
       "      <th>Maxwell</th>\n",
       "      <th>Boy</th>\n",
       "    </tr>\n",
       "  </thead>\n",
       "  <tbody>\n",
       "    <tr>\n",
       "      <th>0</th>\n",
       "      <td>90</td>\n",
       "      <td>91</td>\n",
       "      <td>91</td>\n",
       "    </tr>\n",
       "    <tr>\n",
       "      <th>1</th>\n",
       "      <td>92</td>\n",
       "      <td>91</td>\n",
       "      <td>93</td>\n",
       "    </tr>\n",
       "    <tr>\n",
       "      <th>2</th>\n",
       "      <td>95</td>\n",
       "      <td>89</td>\n",
       "      <td>100</td>\n",
       "    </tr>\n",
       "    <tr>\n",
       "      <th>3</th>\n",
       "      <td>98</td>\n",
       "      <td>99</td>\n",
       "      <td>85</td>\n",
       "    </tr>\n",
       "  </tbody>\n",
       "</table>\n",
       "</div>"
      ],
      "text/plain": [
       "   Evan  Maxwell  Boy\n",
       "0    90       91   91\n",
       "1    92       91   93\n",
       "2    95       89  100\n",
       "3    98       99   85"
      ]
     },
     "execution_count": 7,
     "metadata": {
      "tags": []
     },
     "output_type": "execute_result"
    }
   ],
   "source": [
    "frame = pd.DataFrame({\"Evan\" : [90,92,95,98],\n",
    "                      \"Maxwell\" : [91,91,89,99],\n",
    "                     \"Boy\" : [91,93,100,85]})\n",
    "frame"
   ]
  },
  {
   "cell_type": "code",
   "execution_count": null,
   "metadata": {
    "colab": {
     "base_uri": "https://localhost:8080/"
    },
    "id": "Jz11eKNIQg0u",
    "outputId": "4c9fa77b-e0d3-41e2-a6c6-c9ac402e2aa3"
   },
   "outputs": [
    {
     "data": {
      "text/plain": [
       "Evan       4\n",
       "Maxwell    4\n",
       "Boy        4\n",
       "dtype: int64"
      ]
     },
     "execution_count": 13,
     "metadata": {
      "tags": []
     },
     "output_type": "execute_result"
    }
   ],
   "source": [
    "frame.count()"
   ]
  },
  {
   "cell_type": "code",
   "execution_count": null,
   "metadata": {
    "colab": {
     "base_uri": "https://localhost:8080/"
    },
    "id": "jti4puYcQjb-",
    "outputId": "0eb052e5-05f2-4ce3-c62e-0a7070b928d4"
   },
   "outputs": [
    {
     "data": {
      "text/plain": [
       "0    3\n",
       "1    3\n",
       "2    3\n",
       "3    3\n",
       "dtype: int64"
      ]
     },
     "execution_count": 14,
     "metadata": {
      "tags": []
     },
     "output_type": "execute_result"
    }
   ],
   "source": [
    "frame.count(axis=1)"
   ]
  },
  {
   "cell_type": "code",
   "execution_count": null,
   "metadata": {
    "colab": {
     "base_uri": "https://localhost:8080/"
    },
    "id": "5wWxegO7PqW2",
    "outputId": "c179356d-e05b-4fcc-fcc2-725317ab0705"
   },
   "outputs": [
    {
     "data": {
      "text/plain": [
       "Evan  Maxwell  Boy\n",
       "98    99       85     1\n",
       "95    89       100    1\n",
       "92    91       93     1\n",
       "90    91       91     1\n",
       "dtype: int64"
      ]
     },
     "execution_count": 12,
     "metadata": {
      "tags": []
     },
     "output_type": "execute_result"
    }
   ],
   "source": [
    "frame.value_counts()"
   ]
  },
  {
   "cell_type": "code",
   "execution_count": null,
   "metadata": {
    "colab": {
     "base_uri": "https://localhost:8080/"
    },
    "id": "T3e6CBh0nTFd",
    "outputId": "4044c339-edaa-4280-c890-fc120a46e688"
   },
   "outputs": [
    {
     "data": {
      "text/plain": [
       "Evan        98\n",
       "Maxwell     99\n",
       "Boy        100\n",
       "dtype: int64"
      ]
     },
     "execution_count": 18,
     "metadata": {
      "tags": []
     },
     "output_type": "execute_result"
    }
   ],
   "source": [
    "frame.max() #mengembalikan nilai max dari masing masing kolom"
   ]
  },
  {
   "cell_type": "code",
   "execution_count": null,
   "metadata": {
    "colab": {
     "base_uri": "https://localhost:8080/"
    },
    "id": "7ugYawxinVcu",
    "outputId": "0b0af221-6dc4-4805-83cf-3fce143d9756"
   },
   "outputs": [
    {
     "data": {
      "text/plain": [
       "Evan       90\n",
       "Maxwell    89\n",
       "Boy        85\n",
       "dtype: int64"
      ]
     },
     "execution_count": 19,
     "metadata": {
      "tags": []
     },
     "output_type": "execute_result"
    }
   ],
   "source": [
    "frame.min() #mengembalikan nilai min dari masing masing kolom"
   ]
  },
  {
   "cell_type": "code",
   "execution_count": null,
   "metadata": {
    "colab": {
     "base_uri": "https://localhost:8080/"
    },
    "id": "PzLSadGunV4N",
    "outputId": "1ef8acac-9e47-4b67-e19b-31d1a866c442"
   },
   "outputs": [
    {
     "data": {
      "text/plain": [
       "Evan       93.75\n",
       "Maxwell    92.50\n",
       "Boy        92.25\n",
       "dtype: float64"
      ]
     },
     "execution_count": 20,
     "metadata": {
      "tags": []
     },
     "output_type": "execute_result"
    }
   ],
   "source": [
    "frame.mean() #mengembalikan nilai rata rata dari masing masing kolom"
   ]
  },
  {
   "cell_type": "markdown",
   "metadata": {
    "id": "gIJbc1g1RxcO"
   },
   "source": [
    "## 6. Aggregation Functions"
   ]
  },
  {
   "cell_type": "code",
   "execution_count": null,
   "metadata": {
    "id": "yM_tFD9cJMzV"
   },
   "outputs": [],
   "source": [
    "path = '/content/dkikepadatankelurahan2013.csv' #jangan lupa nama file.csv nya\n",
    "dki = pd.read_csv(path,sep=';')"
   ]
  },
  {
   "cell_type": "code",
   "execution_count": null,
   "metadata": {
    "colab": {
     "base_uri": "https://localhost:8080/",
     "height": 331
    },
    "id": "glAcBI_-K6WW",
    "outputId": "d27a1f45-452a-4778-e9bf-7e90b0a5e464"
   },
   "outputs": [
    {
     "data": {
      "text/html": [
       "<div>\n",
       "<style scoped>\n",
       "    .dataframe tbody tr th:only-of-type {\n",
       "        vertical-align: middle;\n",
       "    }\n",
       "\n",
       "    .dataframe tbody tr th {\n",
       "        vertical-align: top;\n",
       "    }\n",
       "\n",
       "    .dataframe thead th {\n",
       "        text-align: right;\n",
       "    }\n",
       "</style>\n",
       "<table border=\"1\" class=\"dataframe\">\n",
       "  <thead>\n",
       "    <tr style=\"text-align: right;\">\n",
       "      <th></th>\n",
       "      <th>TAHUN</th>\n",
       "      <th>KEPADATAN (JIWA/KM2)</th>\n",
       "      <th>35-39 Laki-Laki</th>\n",
       "      <th>35-39 Perempuan</th>\n",
       "      <th>40-44 Laki-Laki</th>\n",
       "      <th>40-44 Perempuan</th>\n",
       "      <th>45-49 Laki-Laki</th>\n",
       "      <th>45-49 Perempuan</th>\n",
       "      <th>50-54 Laki-Laki</th>\n",
       "      <th>50-54 Perempuan</th>\n",
       "      <th>55-59 Laki-Laki</th>\n",
       "      <th>55-59 Perempuan</th>\n",
       "      <th>60-64 Laki-Laki</th>\n",
       "      <th>60-64 Perempuan</th>\n",
       "      <th>65-69 Laki-Laki</th>\n",
       "      <th>65-69 Perempuan</th>\n",
       "      <th>70-74 Laki-Laki</th>\n",
       "      <th>70-74 Perempuan</th>\n",
       "      <th>&gt;75 Laki-Laki</th>\n",
       "      <th>&gt;75  Perempuan</th>\n",
       "    </tr>\n",
       "  </thead>\n",
       "  <tbody>\n",
       "    <tr>\n",
       "      <th>count</th>\n",
       "      <td>267.0</td>\n",
       "      <td>267.000000</td>\n",
       "      <td>267.000000</td>\n",
       "      <td>267.000000</td>\n",
       "      <td>267.000000</td>\n",
       "      <td>267.000000</td>\n",
       "      <td>267.000000</td>\n",
       "      <td>267.000000</td>\n",
       "      <td>267.000000</td>\n",
       "      <td>267.000000</td>\n",
       "      <td>267.000000</td>\n",
       "      <td>267.000000</td>\n",
       "      <td>267.000000</td>\n",
       "      <td>267.000000</td>\n",
       "      <td>267.000000</td>\n",
       "      <td>267.000000</td>\n",
       "      <td>267.000000</td>\n",
       "      <td>267.000000</td>\n",
       "      <td>267.000000</td>\n",
       "      <td>267.000000</td>\n",
       "    </tr>\n",
       "    <tr>\n",
       "      <th>mean</th>\n",
       "      <td>2013.0</td>\n",
       "      <td>21974.071161</td>\n",
       "      <td>2264.157303</td>\n",
       "      <td>1740.528090</td>\n",
       "      <td>1675.644195</td>\n",
       "      <td>2331.595506</td>\n",
       "      <td>1643.711610</td>\n",
       "      <td>1577.382022</td>\n",
       "      <td>2259.314607</td>\n",
       "      <td>1336.093633</td>\n",
       "      <td>1178.636704</td>\n",
       "      <td>1867.224719</td>\n",
       "      <td>981.749064</td>\n",
       "      <td>876.659176</td>\n",
       "      <td>1403.288390</td>\n",
       "      <td>683.599251</td>\n",
       "      <td>607.011236</td>\n",
       "      <td>1083.262172</td>\n",
       "      <td>484.599251</td>\n",
       "      <td>480.269663</td>\n",
       "    </tr>\n",
       "    <tr>\n",
       "      <th>std</th>\n",
       "      <td>0.0</td>\n",
       "      <td>15797.276753</td>\n",
       "      <td>1740.545141</td>\n",
       "      <td>1057.289862</td>\n",
       "      <td>1014.907306</td>\n",
       "      <td>2051.114031</td>\n",
       "      <td>1158.863977</td>\n",
       "      <td>1137.243632</td>\n",
       "      <td>2540.761587</td>\n",
       "      <td>1023.421706</td>\n",
       "      <td>971.187785</td>\n",
       "      <td>2207.402928</td>\n",
       "      <td>924.674729</td>\n",
       "      <td>839.510133</td>\n",
       "      <td>1960.793725</td>\n",
       "      <td>758.463034</td>\n",
       "      <td>714.717419</td>\n",
       "      <td>1574.043884</td>\n",
       "      <td>607.659884</td>\n",
       "      <td>583.769313</td>\n",
       "    </tr>\n",
       "    <tr>\n",
       "      <th>min</th>\n",
       "      <td>2013.0</td>\n",
       "      <td>628.000000</td>\n",
       "      <td>84.000000</td>\n",
       "      <td>75.000000</td>\n",
       "      <td>73.000000</td>\n",
       "      <td>80.000000</td>\n",
       "      <td>66.000000</td>\n",
       "      <td>62.000000</td>\n",
       "      <td>34.000000</td>\n",
       "      <td>29.000000</td>\n",
       "      <td>30.000000</td>\n",
       "      <td>32.000000</td>\n",
       "      <td>22.000000</td>\n",
       "      <td>13.000000</td>\n",
       "      <td>12.000000</td>\n",
       "      <td>14.000000</td>\n",
       "      <td>10.000000</td>\n",
       "      <td>5.000000</td>\n",
       "      <td>5.000000</td>\n",
       "      <td>7.000000</td>\n",
       "    </tr>\n",
       "    <tr>\n",
       "      <th>25%</th>\n",
       "      <td>2013.0</td>\n",
       "      <td>11734.000000</td>\n",
       "      <td>1186.000000</td>\n",
       "      <td>1062.000000</td>\n",
       "      <td>1023.000000</td>\n",
       "      <td>1084.000000</td>\n",
       "      <td>957.500000</td>\n",
       "      <td>886.000000</td>\n",
       "      <td>790.000000</td>\n",
       "      <td>712.500000</td>\n",
       "      <td>595.500000</td>\n",
       "      <td>557.000000</td>\n",
       "      <td>419.500000</td>\n",
       "      <td>366.000000</td>\n",
       "      <td>253.000000</td>\n",
       "      <td>215.500000</td>\n",
       "      <td>170.000000</td>\n",
       "      <td>145.000000</td>\n",
       "      <td>116.500000</td>\n",
       "      <td>121.500000</td>\n",
       "    </tr>\n",
       "    <tr>\n",
       "      <th>50%</th>\n",
       "      <td>2013.0</td>\n",
       "      <td>17304.000000</td>\n",
       "      <td>1880.000000</td>\n",
       "      <td>1631.000000</td>\n",
       "      <td>1576.000000</td>\n",
       "      <td>1714.000000</td>\n",
       "      <td>1404.000000</td>\n",
       "      <td>1315.000000</td>\n",
       "      <td>1216.000000</td>\n",
       "      <td>1107.000000</td>\n",
       "      <td>909.000000</td>\n",
       "      <td>889.000000</td>\n",
       "      <td>650.000000</td>\n",
       "      <td>587.000000</td>\n",
       "      <td>413.000000</td>\n",
       "      <td>354.000000</td>\n",
       "      <td>285.000000</td>\n",
       "      <td>260.000000</td>\n",
       "      <td>200.000000</td>\n",
       "      <td>204.000000</td>\n",
       "    </tr>\n",
       "    <tr>\n",
       "      <th>75%</th>\n",
       "      <td>2013.0</td>\n",
       "      <td>29226.000000</td>\n",
       "      <td>2768.500000</td>\n",
       "      <td>2213.000000</td>\n",
       "      <td>2112.500000</td>\n",
       "      <td>2781.500000</td>\n",
       "      <td>1949.000000</td>\n",
       "      <td>1867.000000</td>\n",
       "      <td>2623.500000</td>\n",
       "      <td>1671.500000</td>\n",
       "      <td>1405.500000</td>\n",
       "      <td>2342.000000</td>\n",
       "      <td>1186.500000</td>\n",
       "      <td>1052.500000</td>\n",
       "      <td>2097.500000</td>\n",
       "      <td>928.500000</td>\n",
       "      <td>836.500000</td>\n",
       "      <td>1784.000000</td>\n",
       "      <td>716.000000</td>\n",
       "      <td>675.500000</td>\n",
       "    </tr>\n",
       "    <tr>\n",
       "      <th>max</th>\n",
       "      <td>2013.0</td>\n",
       "      <td>94166.000000</td>\n",
       "      <td>13011.000000</td>\n",
       "      <td>7488.000000</td>\n",
       "      <td>7243.000000</td>\n",
       "      <td>14731.000000</td>\n",
       "      <td>8822.000000</td>\n",
       "      <td>8352.000000</td>\n",
       "      <td>17174.000000</td>\n",
       "      <td>7480.000000</td>\n",
       "      <td>6846.000000</td>\n",
       "      <td>14326.000000</td>\n",
       "      <td>6333.000000</td>\n",
       "      <td>5476.000000</td>\n",
       "      <td>11809.000000</td>\n",
       "      <td>4758.000000</td>\n",
       "      <td>4475.000000</td>\n",
       "      <td>9233.000000</td>\n",
       "      <td>3959.000000</td>\n",
       "      <td>3526.000000</td>\n",
       "    </tr>\n",
       "  </tbody>\n",
       "</table>\n",
       "</div>"
      ],
      "text/plain": [
       "        TAHUN  KEPADATAN (JIWA/KM2)  ...  >75 Laki-Laki  >75  Perempuan\n",
       "count   267.0            267.000000  ...     267.000000      267.000000\n",
       "mean   2013.0          21974.071161  ...     484.599251      480.269663\n",
       "std       0.0          15797.276753  ...     607.659884      583.769313\n",
       "min    2013.0            628.000000  ...       5.000000        7.000000\n",
       "25%    2013.0          11734.000000  ...     116.500000      121.500000\n",
       "50%    2013.0          17304.000000  ...     200.000000      204.000000\n",
       "75%    2013.0          29226.000000  ...     716.000000      675.500000\n",
       "max    2013.0          94166.000000  ...    3959.000000     3526.000000\n",
       "\n",
       "[8 rows x 20 columns]"
      ]
     },
     "execution_count": 68,
     "metadata": {
      "tags": []
     },
     "output_type": "execute_result"
    }
   ],
   "source": [
    "dki.describe() #ringkasan dataframe"
   ]
  },
  {
   "cell_type": "code",
   "execution_count": null,
   "metadata": {
    "colab": {
     "base_uri": "https://localhost:8080/"
    },
    "id": "WOdXAfINSDdd",
    "outputId": "cd9ee86c-ce95-4ce9-e935-8bd0c0140246"
   },
   "outputs": [
    {
     "data": {
      "text/plain": [
       "TAHUN                    2013.000000\n",
       "KEPADATAN (JIWA/KM2)    21974.071161\n",
       "35-39 Laki-Laki          2264.157303\n",
       "35-39 Perempuan          1740.528090\n",
       "40-44 Laki-Laki          1675.644195\n",
       "40-44 Perempuan          2331.595506\n",
       "45-49 Laki-Laki          1643.711610\n",
       "45-49 Perempuan          1577.382022\n",
       "50-54 Laki-Laki          2259.314607\n",
       "50-54 Perempuan          1336.093633\n",
       "55-59 Laki-Laki          1178.636704\n",
       "55-59 Perempuan          1867.224719\n",
       "60-64 Laki-Laki           981.749064\n",
       "60-64 Perempuan           876.659176\n",
       "65-69 Laki-Laki          1403.288390\n",
       "65-69 Perempuan           683.599251\n",
       "70-74 Laki-Laki           607.011236\n",
       "70-74 Perempuan          1083.262172\n",
       ">75 Laki-Laki             484.599251\n",
       ">75  Perempuan            480.269663\n",
       "dtype: float64"
      ]
     },
     "execution_count": 69,
     "metadata": {
      "tags": []
     },
     "output_type": "execute_result"
    }
   ],
   "source": [
    "dki.mean()"
   ]
  },
  {
   "cell_type": "code",
   "execution_count": null,
   "metadata": {
    "colab": {
     "base_uri": "https://localhost:8080/"
    },
    "id": "iQaQUwYISKPo",
    "outputId": "fe277af2-987d-4962-e666-39ea2f9d2202"
   },
   "outputs": [
    {
     "data": {
      "text/plain": [
       "TAHUN                    2013.0\n",
       "KEPADATAN (JIWA/KM2)    17304.0\n",
       "35-39 Laki-Laki          1880.0\n",
       "35-39 Perempuan          1631.0\n",
       "40-44 Laki-Laki          1576.0\n",
       "40-44 Perempuan          1714.0\n",
       "45-49 Laki-Laki          1404.0\n",
       "45-49 Perempuan          1315.0\n",
       "50-54 Laki-Laki          1216.0\n",
       "50-54 Perempuan          1107.0\n",
       "55-59 Laki-Laki           909.0\n",
       "55-59 Perempuan           889.0\n",
       "60-64 Laki-Laki           650.0\n",
       "60-64 Perempuan           587.0\n",
       "65-69 Laki-Laki           413.0\n",
       "65-69 Perempuan           354.0\n",
       "70-74 Laki-Laki           285.0\n",
       "70-74 Perempuan           260.0\n",
       ">75 Laki-Laki             200.0\n",
       ">75  Perempuan            204.0\n",
       "dtype: float64"
      ]
     },
     "execution_count": 71,
     "metadata": {
      "tags": []
     },
     "output_type": "execute_result"
    }
   ],
   "source": [
    "dki.median()"
   ]
  },
  {
   "cell_type": "code",
   "execution_count": null,
   "metadata": {
    "colab": {
     "base_uri": "https://localhost:8080/",
     "height": 448
    },
    "id": "8YDHr3ErldLK",
    "outputId": "5522749f-91b5-4189-d0d7-c797032b65b1"
   },
   "outputs": [
    {
     "data": {
      "text/plain": [
       "<matplotlib.axes._subplots.AxesSubplot at 0x7f781a642dd0>"
      ]
     },
     "execution_count": 40,
     "metadata": {
      "tags": []
     },
     "output_type": "execute_result"
    },
    {
     "data": {
      "image/png": "[encoded data removed]",
      "text/plain": [
       "<Figure size 360x360 with 2 Axes>"
      ]
     },
     "metadata": {
      "needs_background": "light",
      "tags": []
     },
     "output_type": "display_data"
    }
   ],
   "source": [
    "##BONUS\n",
    "#correlation antar feature + heatmap\n",
    "import seaborn as sns\n",
    "import matplotlib.pyplot as plt\n",
    "\n",
    "hmat = dki.select_dtypes(exclude='object').corr()\n",
    "top_corr_features = hmat.index[1:6]     #5 features saja\n",
    "plt.figure(figsize=(5,5))\n",
    "sns.heatmap(dki[top_corr_features].corr(),annot=True,cmap=\"RdYlGn\")"
   ]
  },
  {
   "cell_type": "code",
   "execution_count": null,
   "metadata": {
    "colab": {
     "base_uri": "https://localhost:8080/"
    },
    "id": "JKA0oNPsSRWj",
    "outputId": "6f7baa67-cfa0-43bf-bb21-a1a393c7a9e7"
   },
   "outputs": [
    {
     "data": {
      "text/plain": [
       "array([2013])"
      ]
     },
     "execution_count": 78,
     "metadata": {
      "tags": []
     },
     "output_type": "execute_result"
    }
   ],
   "source": [
    "dki.TAHUN.unique()"
   ]
  },
  {
   "cell_type": "markdown",
   "metadata": {
    "id": "UGHW4jYIS-A4"
   },
   "source": [
    "## 7. Grouping & Pivot Table"
   ]
  },
  {
   "cell_type": "code",
   "execution_count": null,
   "metadata": {
    "id": "9-3wDUl0TDij"
   },
   "outputs": [],
   "source": [
    "np.random.seed(123)\n",
    "\n",
    "jumlah_ternak = pd.DataFrame({\n",
    "    \"binatang\": [\"ayam\", \"bebek\", \"bebek\", \"ayam\", \"ayam\", \"bebek\", \"ayam\", \"ayam\"],\n",
    "    \"warna\": [\"kuning\", \"kuning\", \"coklat\", \"merah\", \"coklat\", \"coklat\", \"merah\", \"kuning\"], \n",
    "    \"jumlah 1\": np.random.randint(1,999,8),\n",
    "    \"jumlah 2\": np.random.randint(1,999,8)})"
   ]
  },
  {
   "cell_type": "code",
   "execution_count": null,
   "metadata": {
    "colab": {
     "base_uri": "https://localhost:8080/",
     "height": 300
    },
    "id": "JdD5LysRT0-B",
    "outputId": "e4439e60-54c9-429a-aa8d-407ba4f4964e"
   },
   "outputs": [
    {
     "data": {
      "text/html": [
       "<div>\n",
       "<style scoped>\n",
       "    .dataframe tbody tr th:only-of-type {\n",
       "        vertical-align: middle;\n",
       "    }\n",
       "\n",
       "    .dataframe tbody tr th {\n",
       "        vertical-align: top;\n",
       "    }\n",
       "\n",
       "    .dataframe thead th {\n",
       "        text-align: right;\n",
       "    }\n",
       "</style>\n",
       "<table border=\"1\" class=\"dataframe\">\n",
       "  <thead>\n",
       "    <tr style=\"text-align: right;\">\n",
       "      <th></th>\n",
       "      <th>binatang</th>\n",
       "      <th>warna</th>\n",
       "      <th>jumlah 1</th>\n",
       "      <th>jumlah 2</th>\n",
       "    </tr>\n",
       "  </thead>\n",
       "  <tbody>\n",
       "    <tr>\n",
       "      <th>0</th>\n",
       "      <td>ayam</td>\n",
       "      <td>kuning</td>\n",
       "      <td>511</td>\n",
       "      <td>596</td>\n",
       "    </tr>\n",
       "    <tr>\n",
       "      <th>1</th>\n",
       "      <td>bebek</td>\n",
       "      <td>kuning</td>\n",
       "      <td>366</td>\n",
       "      <td>107</td>\n",
       "    </tr>\n",
       "    <tr>\n",
       "      <th>2</th>\n",
       "      <td>bebek</td>\n",
       "      <td>coklat</td>\n",
       "      <td>383</td>\n",
       "      <td>124</td>\n",
       "    </tr>\n",
       "    <tr>\n",
       "      <th>3</th>\n",
       "      <td>ayam</td>\n",
       "      <td>merah</td>\n",
       "      <td>323</td>\n",
       "      <td>570</td>\n",
       "    </tr>\n",
       "    <tr>\n",
       "      <th>4</th>\n",
       "      <td>ayam</td>\n",
       "      <td>coklat</td>\n",
       "      <td>989</td>\n",
       "      <td>215</td>\n",
       "    </tr>\n",
       "    <tr>\n",
       "      <th>5</th>\n",
       "      <td>bebek</td>\n",
       "      <td>coklat</td>\n",
       "      <td>99</td>\n",
       "      <td>738</td>\n",
       "    </tr>\n",
       "    <tr>\n",
       "      <th>6</th>\n",
       "      <td>ayam</td>\n",
       "      <td>merah</td>\n",
       "      <td>743</td>\n",
       "      <td>97</td>\n",
       "    </tr>\n",
       "    <tr>\n",
       "      <th>7</th>\n",
       "      <td>ayam</td>\n",
       "      <td>kuning</td>\n",
       "      <td>18</td>\n",
       "      <td>114</td>\n",
       "    </tr>\n",
       "  </tbody>\n",
       "</table>\n",
       "</div>"
      ],
      "text/plain": [
       "  binatang   warna  jumlah 1  jumlah 2\n",
       "0     ayam  kuning       511       596\n",
       "1    bebek  kuning       366       107\n",
       "2    bebek  coklat       383       124\n",
       "3     ayam   merah       323       570\n",
       "4     ayam  coklat       989       215\n",
       "5    bebek  coklat        99       738\n",
       "6     ayam   merah       743        97\n",
       "7     ayam  kuning        18       114"
      ]
     },
     "execution_count": 23,
     "metadata": {
      "tags": []
     },
     "output_type": "execute_result"
    }
   ],
   "source": [
    "jumlah_ternak"
   ]
  },
  {
   "cell_type": "code",
   "execution_count": null,
   "metadata": {
    "colab": {
     "base_uri": "https://localhost:8080/",
     "height": 143
    },
    "id": "INstekNXT-Eu",
    "outputId": "4622c770-b8c4-46cd-85ba-841857e57d9f"
   },
   "outputs": [
    {
     "data": {
      "text/html": [
       "<div>\n",
       "<style scoped>\n",
       "    .dataframe tbody tr th:only-of-type {\n",
       "        vertical-align: middle;\n",
       "    }\n",
       "\n",
       "    .dataframe tbody tr th {\n",
       "        vertical-align: top;\n",
       "    }\n",
       "\n",
       "    .dataframe thead th {\n",
       "        text-align: right;\n",
       "    }\n",
       "</style>\n",
       "<table border=\"1\" class=\"dataframe\">\n",
       "  <thead>\n",
       "    <tr style=\"text-align: right;\">\n",
       "      <th></th>\n",
       "      <th>jumlah 1</th>\n",
       "      <th>jumlah 2</th>\n",
       "    </tr>\n",
       "    <tr>\n",
       "      <th>binatang</th>\n",
       "      <th></th>\n",
       "      <th></th>\n",
       "    </tr>\n",
       "  </thead>\n",
       "  <tbody>\n",
       "    <tr>\n",
       "      <th>ayam</th>\n",
       "      <td>2584</td>\n",
       "      <td>1592</td>\n",
       "    </tr>\n",
       "    <tr>\n",
       "      <th>bebek</th>\n",
       "      <td>848</td>\n",
       "      <td>969</td>\n",
       "    </tr>\n",
       "  </tbody>\n",
       "</table>\n",
       "</div>"
      ],
      "text/plain": [
       "          jumlah 1  jumlah 2\n",
       "binatang                    \n",
       "ayam          2584      1592\n",
       "bebek          848       969"
      ]
     },
     "execution_count": 41,
     "metadata": {
      "tags": []
     },
     "output_type": "execute_result"
    }
   ],
   "source": [
    "jumlah_ternak.groupby('binatang').sum() #jumlahnya berdasarkan nama binatang"
   ]
  },
  {
   "cell_type": "code",
   "execution_count": null,
   "metadata": {
    "colab": {
     "base_uri": "https://localhost:8080/",
     "height": 238
    },
    "id": "24cYYDa3UIP1",
    "outputId": "3acb25c8-fd80-47c2-bd4d-ed8a458ce852"
   },
   "outputs": [
    {
     "data": {
      "text/html": [
       "<div>\n",
       "<style scoped>\n",
       "    .dataframe tbody tr th:only-of-type {\n",
       "        vertical-align: middle;\n",
       "    }\n",
       "\n",
       "    .dataframe tbody tr th {\n",
       "        vertical-align: top;\n",
       "    }\n",
       "\n",
       "    .dataframe thead th {\n",
       "        text-align: right;\n",
       "    }\n",
       "</style>\n",
       "<table border=\"1\" class=\"dataframe\">\n",
       "  <thead>\n",
       "    <tr style=\"text-align: right;\">\n",
       "      <th></th>\n",
       "      <th></th>\n",
       "      <th>jumlah 1</th>\n",
       "      <th>jumlah 2</th>\n",
       "    </tr>\n",
       "    <tr>\n",
       "      <th>binatang</th>\n",
       "      <th>warna</th>\n",
       "      <th></th>\n",
       "      <th></th>\n",
       "    </tr>\n",
       "  </thead>\n",
       "  <tbody>\n",
       "    <tr>\n",
       "      <th rowspan=\"3\" valign=\"top\">ayam</th>\n",
       "      <th>coklat</th>\n",
       "      <td>989</td>\n",
       "      <td>215</td>\n",
       "    </tr>\n",
       "    <tr>\n",
       "      <th>kuning</th>\n",
       "      <td>529</td>\n",
       "      <td>710</td>\n",
       "    </tr>\n",
       "    <tr>\n",
       "      <th>merah</th>\n",
       "      <td>1066</td>\n",
       "      <td>667</td>\n",
       "    </tr>\n",
       "    <tr>\n",
       "      <th rowspan=\"2\" valign=\"top\">bebek</th>\n",
       "      <th>coklat</th>\n",
       "      <td>482</td>\n",
       "      <td>862</td>\n",
       "    </tr>\n",
       "    <tr>\n",
       "      <th>kuning</th>\n",
       "      <td>366</td>\n",
       "      <td>107</td>\n",
       "    </tr>\n",
       "  </tbody>\n",
       "</table>\n",
       "</div>"
      ],
      "text/plain": [
       "                 jumlah 1  jumlah 2\n",
       "binatang warna                     \n",
       "ayam     coklat       989       215\n",
       "         kuning       529       710\n",
       "         merah       1066       667\n",
       "bebek    coklat       482       862\n",
       "         kuning       366       107"
      ]
     },
     "execution_count": 42,
     "metadata": {
      "tags": []
     },
     "output_type": "execute_result"
    }
   ],
   "source": [
    "jumlah_ternak.groupby(['binatang','warna']).sum() #jumlahnya berdasarkan nama binatang"
   ]
  },
  {
   "cell_type": "code",
   "execution_count": null,
   "metadata": {
    "colab": {
     "base_uri": "https://localhost:8080/"
    },
    "id": "j1gY_59kRl70",
    "outputId": "34d96d9f-6e61-438f-d42b-f3945a9a00d3"
   },
   "outputs": [
    {
     "data": {
      "text/plain": [
       "binatang\n",
       "ayam     2584\n",
       "bebek     848\n",
       "Name: jumlah 1, dtype: int64"
      ]
     },
     "execution_count": 52,
     "metadata": {
      "tags": []
     },
     "output_type": "execute_result"
    }
   ],
   "source": [
    "jumlah_ternak.groupby('binatang')['jumlah 1'].sum()   #Jumlah 1 berdasarkan binatang, dalam btk series"
   ]
  },
  {
   "cell_type": "code",
   "execution_count": null,
   "metadata": {
    "colab": {
     "base_uri": "https://localhost:8080/",
     "height": 112
    },
    "id": "u8BELDZmRyRc",
    "outputId": "ec6753e4-3f4d-4c61-8a51-2d802bd66ccb"
   },
   "outputs": [
    {
     "data": {
      "text/html": [
       "<div>\n",
       "<style scoped>\n",
       "    .dataframe tbody tr th:only-of-type {\n",
       "        vertical-align: middle;\n",
       "    }\n",
       "\n",
       "    .dataframe tbody tr th {\n",
       "        vertical-align: top;\n",
       "    }\n",
       "\n",
       "    .dataframe thead th {\n",
       "        text-align: right;\n",
       "    }\n",
       "</style>\n",
       "<table border=\"1\" class=\"dataframe\">\n",
       "  <thead>\n",
       "    <tr style=\"text-align: right;\">\n",
       "      <th></th>\n",
       "      <th>binatang</th>\n",
       "      <th>jumlah 1</th>\n",
       "    </tr>\n",
       "  </thead>\n",
       "  <tbody>\n",
       "    <tr>\n",
       "      <th>0</th>\n",
       "      <td>ayam</td>\n",
       "      <td>2584</td>\n",
       "    </tr>\n",
       "    <tr>\n",
       "      <th>1</th>\n",
       "      <td>bebek</td>\n",
       "      <td>848</td>\n",
       "    </tr>\n",
       "  </tbody>\n",
       "</table>\n",
       "</div>"
      ],
      "text/plain": [
       "  binatang  jumlah 1\n",
       "0     ayam      2584\n",
       "1    bebek       848"
      ]
     },
     "execution_count": 53,
     "metadata": {
      "tags": []
     },
     "output_type": "execute_result"
    }
   ],
   "source": [
    "jumlah_ternak.groupby('binatang')['jumlah 1'].sum().reset_index()   #Jumlah 1 berdasarkan binatang, dalam btk dataframe"
   ]
  },
  {
   "cell_type": "code",
   "execution_count": null,
   "metadata": {
    "colab": {
     "base_uri": "https://localhost:8080/",
     "height": 202
    },
    "id": "fW04zXDUSDJ2",
    "outputId": "c70e55bf-6a21-4e9a-eef4-df49d320228d"
   },
   "outputs": [
    {
     "data": {
      "text/html": [
       "<div>\n",
       "<style scoped>\n",
       "    .dataframe tbody tr th:only-of-type {\n",
       "        vertical-align: middle;\n",
       "    }\n",
       "\n",
       "    .dataframe tbody tr th {\n",
       "        vertical-align: top;\n",
       "    }\n",
       "\n",
       "    .dataframe thead th {\n",
       "        text-align: right;\n",
       "    }\n",
       "</style>\n",
       "<table border=\"1\" class=\"dataframe\">\n",
       "  <thead>\n",
       "    <tr style=\"text-align: right;\">\n",
       "      <th></th>\n",
       "      <th>binatang</th>\n",
       "      <th>warna</th>\n",
       "      <th>count</th>\n",
       "    </tr>\n",
       "  </thead>\n",
       "  <tbody>\n",
       "    <tr>\n",
       "      <th>0</th>\n",
       "      <td>ayam</td>\n",
       "      <td>coklat</td>\n",
       "      <td>1</td>\n",
       "    </tr>\n",
       "    <tr>\n",
       "      <th>1</th>\n",
       "      <td>ayam</td>\n",
       "      <td>kuning</td>\n",
       "      <td>2</td>\n",
       "    </tr>\n",
       "    <tr>\n",
       "      <th>2</th>\n",
       "      <td>ayam</td>\n",
       "      <td>merah</td>\n",
       "      <td>2</td>\n",
       "    </tr>\n",
       "    <tr>\n",
       "      <th>3</th>\n",
       "      <td>bebek</td>\n",
       "      <td>coklat</td>\n",
       "      <td>2</td>\n",
       "    </tr>\n",
       "    <tr>\n",
       "      <th>4</th>\n",
       "      <td>bebek</td>\n",
       "      <td>kuning</td>\n",
       "      <td>1</td>\n",
       "    </tr>\n",
       "  </tbody>\n",
       "</table>\n",
       "</div>"
      ],
      "text/plain": [
       "  binatang   warna  count\n",
       "0     ayam  coklat      1\n",
       "1     ayam  kuning      2\n",
       "2     ayam   merah      2\n",
       "3    bebek  coklat      2\n",
       "4    bebek  kuning      1"
      ]
     },
     "execution_count": 4,
     "metadata": {
      "tags": []
     },
     "output_type": "execute_result"
    }
   ],
   "source": [
    "#jumlah kombinasi antara binatang dan warna\n",
    "stay = jumlah_ternak.groupby(['binatang','warna'])['jumlah 1'].count().reset_index() #reset_index biar dataframe\n",
    "stay.rename(columns={'jumlah 1':'count'}, inplace=True)    #ganti nama\n",
    "stay.head()"
   ]
  },
  {
   "cell_type": "code",
   "execution_count": null,
   "metadata": {
    "colab": {
     "base_uri": "https://localhost:8080/",
     "height": 206
    },
    "id": "LxtXmmDgLU2b",
    "outputId": "8f3c3ef8-afbd-4302-da2d-1e66bc6115b4"
   },
   "outputs": [
    {
     "data": {
      "text/html": [
       "<div>\n",
       "<style scoped>\n",
       "    .dataframe tbody tr th:only-of-type {\n",
       "        vertical-align: middle;\n",
       "    }\n",
       "\n",
       "    .dataframe tbody tr th {\n",
       "        vertical-align: top;\n",
       "    }\n",
       "\n",
       "    .dataframe thead th {\n",
       "        text-align: right;\n",
       "    }\n",
       "</style>\n",
       "<table border=\"1\" class=\"dataframe\">\n",
       "  <thead>\n",
       "    <tr style=\"text-align: right;\">\n",
       "      <th></th>\n",
       "      <th>binatang</th>\n",
       "      <th>warna</th>\n",
       "      <th>count</th>\n",
       "    </tr>\n",
       "  </thead>\n",
       "  <tbody>\n",
       "    <tr>\n",
       "      <th>0</th>\n",
       "      <td>ayam</td>\n",
       "      <td>coklat</td>\n",
       "      <td>1</td>\n",
       "    </tr>\n",
       "    <tr>\n",
       "      <th>1</th>\n",
       "      <td>ayam</td>\n",
       "      <td>kuning</td>\n",
       "      <td>2</td>\n",
       "    </tr>\n",
       "    <tr>\n",
       "      <th>2</th>\n",
       "      <td>ayam</td>\n",
       "      <td>merah</td>\n",
       "      <td>2</td>\n",
       "    </tr>\n",
       "    <tr>\n",
       "      <th>3</th>\n",
       "      <td>bebek</td>\n",
       "      <td>coklat</td>\n",
       "      <td>2</td>\n",
       "    </tr>\n",
       "    <tr>\n",
       "      <th>4</th>\n",
       "      <td>bebek</td>\n",
       "      <td>kuning</td>\n",
       "      <td>1</td>\n",
       "    </tr>\n",
       "  </tbody>\n",
       "</table>\n",
       "</div>"
      ],
      "text/plain": [
       "  binatang   warna  count\n",
       "0     ayam  coklat      1\n",
       "1     ayam  kuning      2\n",
       "2     ayam   merah      2\n",
       "3    bebek  coklat      2\n",
       "4    bebek  kuning      1"
      ]
     },
     "execution_count": 39,
     "metadata": {
      "tags": []
     },
     "output_type": "execute_result"
    }
   ],
   "source": [
    "#atau bisa juga\n",
    "stay = jumlah_ternak.groupby(['binatang','warna']).agg('count').reset_index()  #reset_index biar dataframe\n",
    "stay = stay.iloc[:,0:3]   #ingin 3 kolom pertama saja\n",
    "stay.rename(columns={'jumlah 1':'count'}, inplace=True)    #ganti nama\n",
    "stay.head()"
   ]
  },
  {
   "cell_type": "code",
   "execution_count": null,
   "metadata": {
    "colab": {
     "base_uri": "https://localhost:8080/",
     "height": 143
    },
    "id": "_TO-QQp4U9nS",
    "outputId": "70145c64-8e61-42a9-e01a-729a3719935f"
   },
   "outputs": [
    {
     "data": {
      "text/html": [
       "<div>\n",
       "<style scoped>\n",
       "    .dataframe tbody tr th:only-of-type {\n",
       "        vertical-align: middle;\n",
       "    }\n",
       "\n",
       "    .dataframe tbody tr th {\n",
       "        vertical-align: top;\n",
       "    }\n",
       "\n",
       "    .dataframe thead th {\n",
       "        text-align: right;\n",
       "    }\n",
       "</style>\n",
       "<table border=\"1\" class=\"dataframe\">\n",
       "  <thead>\n",
       "    <tr style=\"text-align: right;\">\n",
       "      <th>warna</th>\n",
       "      <th>coklat</th>\n",
       "      <th>kuning</th>\n",
       "      <th>merah</th>\n",
       "    </tr>\n",
       "    <tr>\n",
       "      <th>binatang</th>\n",
       "      <th></th>\n",
       "      <th></th>\n",
       "      <th></th>\n",
       "    </tr>\n",
       "  </thead>\n",
       "  <tbody>\n",
       "    <tr>\n",
       "      <th>ayam</th>\n",
       "      <td>989.0</td>\n",
       "      <td>264.5</td>\n",
       "      <td>533.0</td>\n",
       "    </tr>\n",
       "    <tr>\n",
       "      <th>bebek</th>\n",
       "      <td>241.0</td>\n",
       "      <td>366.0</td>\n",
       "      <td>NaN</td>\n",
       "    </tr>\n",
       "  </tbody>\n",
       "</table>\n",
       "</div>"
      ],
      "text/plain": [
       "warna     coklat  kuning  merah\n",
       "binatang                       \n",
       "ayam       989.0   264.5  533.0\n",
       "bebek      241.0   366.0    NaN"
      ]
     },
     "execution_count": 26,
     "metadata": {
      "tags": []
     },
     "output_type": "execute_result"
    }
   ],
   "source": [
    "pd.pivot_table(jumlah_ternak,values='jumlah 1',index=['binatang'],columns=['warna'])"
   ]
  },
  {
   "cell_type": "markdown",
   "metadata": {
    "id": "zC9UMIMUQbzu"
   },
   "source": [
    "## Latihan Soal"
   ]
  },
  {
   "cell_type": "code",
   "execution_count": null,
   "metadata": {
    "id": "GsHQkjNM5NNI"
   },
   "outputs": [],
   "source": [
    "dki = pd.read_csv('https://raw.githubusercontent.com/maxwelth/ntar-dihapus/main/dkikepadatankelurahan2013.csv')\n",
    "dki.dropna(axis=1,inplace=True)"
   ]
  },
  {
   "cell_type": "markdown",
   "metadata": {
    "id": "jVux-ffsRIL2"
   },
   "source": [
    "##### 1. Kabupaten/Kota mana yang memiliki jumlah penduduk terbesar untuk umur 35-39? Tampilkan dalam bentuk dataframe (Urutkan terbesar hingga terkecil)"
   ]
  },
  {
   "cell_type": "code",
   "execution_count": null,
   "metadata": {
    "colab": {
     "base_uri": "https://localhost:8080/"
    },
    "id": "LH6IegQ83BE2",
    "outputId": "403aaec2-e55d-4067-bbe8-9a695dfb8913"
   },
   "outputs": [
    {
     "data": {
      "text/plain": [
       "NAMA KABUPATEN/KOTA\n",
       "JAKARTA BARAT         181626\n",
       "JAKARTA PUSAT          50256\n",
       "JAKARTA SELATAN       100867\n",
       "JAKARTA TIMUR         135669\n",
       "JAKARTA UTARA         135132\n",
       "KAB.ADM.KEP.SERIBU       980\n",
       "Name: 35-39 Laki-Laki, dtype: int64"
      ]
     },
     "execution_count": 215,
     "metadata": {
      "tags": []
     },
     "output_type": "execute_result"
    }
   ],
   "source": [
    "dki.groupby('NAMA KABUPATEN/KOTA')['35-39 Laki-Laki'].sum()"
   ]
  },
  {
   "cell_type": "code",
   "execution_count": null,
   "metadata": {
    "colab": {
     "base_uri": "https://localhost:8080/"
    },
    "id": "S-nPs6-a3C5w",
    "outputId": "be67d0bf-b1ce-4f59-d6b0-52743de11822"
   },
   "outputs": [
    {
     "data": {
      "text/plain": [
       "NAMA KABUPATEN/KOTA\n",
       "JAKARTA BARAT         106863\n",
       "JAKARTA PUSAT          47836\n",
       "JAKARTA SELATAN        98432\n",
       "JAKARTA TIMUR         130196\n",
       "JAKARTA UTARA          80461\n",
       "KAB.ADM.KEP.SERIBU       933\n",
       "Name: 35-39 Perempuan, dtype: int64"
      ]
     },
     "execution_count": 216,
     "metadata": {
      "tags": []
     },
     "output_type": "execute_result"
    }
   ],
   "source": [
    "dki.groupby('NAMA KABUPATEN/KOTA')['35-39 Perempuan'].sum()"
   ]
  },
  {
   "cell_type": "code",
   "execution_count": null,
   "metadata": {
    "id": "MjfhxtzILI9Z"
   },
   "outputs": [],
   "source": [
    "lakilaki1 = dki.groupby('NAMA KABUPATEN/KOTA')['35-39 Laki-Laki'].sum()\n",
    "perempuan1 = dki.groupby('NAMA KABUPATEN/KOTA')['35-39 Perempuan'].sum()"
   ]
  },
  {
   "cell_type": "code",
   "execution_count": null,
   "metadata": {
    "colab": {
     "base_uri": "https://localhost:8080/",
     "height": 238
    },
    "id": "JJJVBp2jU9jX",
    "outputId": "7e267a41-40d0-4abf-aaf4-ebf6bcdc721d"
   },
   "outputs": [
    {
     "data": {
      "text/html": [
       "<div>\n",
       "<style scoped>\n",
       "    .dataframe tbody tr th:only-of-type {\n",
       "        vertical-align: middle;\n",
       "    }\n",
       "\n",
       "    .dataframe tbody tr th {\n",
       "        vertical-align: top;\n",
       "    }\n",
       "\n",
       "    .dataframe thead th {\n",
       "        text-align: right;\n",
       "    }\n",
       "</style>\n",
       "<table border=\"1\" class=\"dataframe\">\n",
       "  <thead>\n",
       "    <tr style=\"text-align: right;\">\n",
       "      <th></th>\n",
       "      <th>NAMA KABUPATEN/KOTA</th>\n",
       "      <th>0</th>\n",
       "    </tr>\n",
       "  </thead>\n",
       "  <tbody>\n",
       "    <tr>\n",
       "      <th>0</th>\n",
       "      <td>JAKARTA BARAT</td>\n",
       "      <td>288489</td>\n",
       "    </tr>\n",
       "    <tr>\n",
       "      <th>1</th>\n",
       "      <td>JAKARTA PUSAT</td>\n",
       "      <td>98092</td>\n",
       "    </tr>\n",
       "    <tr>\n",
       "      <th>2</th>\n",
       "      <td>JAKARTA SELATAN</td>\n",
       "      <td>199299</td>\n",
       "    </tr>\n",
       "    <tr>\n",
       "      <th>3</th>\n",
       "      <td>JAKARTA TIMUR</td>\n",
       "      <td>265865</td>\n",
       "    </tr>\n",
       "    <tr>\n",
       "      <th>4</th>\n",
       "      <td>JAKARTA UTARA</td>\n",
       "      <td>215593</td>\n",
       "    </tr>\n",
       "    <tr>\n",
       "      <th>5</th>\n",
       "      <td>KAB.ADM.KEP.SERIBU</td>\n",
       "      <td>1913</td>\n",
       "    </tr>\n",
       "  </tbody>\n",
       "</table>\n",
       "</div>"
      ],
      "text/plain": [
       "  NAMA KABUPATEN/KOTA       0\n",
       "0       JAKARTA BARAT  288489\n",
       "1       JAKARTA PUSAT   98092\n",
       "2     JAKARTA SELATAN  199299\n",
       "3       JAKARTA TIMUR  265865\n",
       "4       JAKARTA UTARA  215593\n",
       "5  KAB.ADM.KEP.SERIBU    1913"
      ]
     },
     "execution_count": 217,
     "metadata": {
      "tags": []
     },
     "output_type": "execute_result"
    }
   ],
   "source": [
    "gabungan1 = (lakilaki1 + perempuan1).reset_index()\n",
    "gabungan1"
   ]
  },
  {
   "cell_type": "code",
   "execution_count": null,
   "metadata": {
    "colab": {
     "base_uri": "https://localhost:8080/",
     "height": 238
    },
    "id": "WwgV_5C63IG_",
    "outputId": "0d74fb84-0cb0-49f8-d320-d4da08b5ad15"
   },
   "outputs": [
    {
     "data": {
      "text/html": [
       "<div>\n",
       "<style scoped>\n",
       "    .dataframe tbody tr th:only-of-type {\n",
       "        vertical-align: middle;\n",
       "    }\n",
       "\n",
       "    .dataframe tbody tr th {\n",
       "        vertical-align: top;\n",
       "    }\n",
       "\n",
       "    .dataframe thead th {\n",
       "        text-align: right;\n",
       "    }\n",
       "</style>\n",
       "<table border=\"1\" class=\"dataframe\">\n",
       "  <thead>\n",
       "    <tr style=\"text-align: right;\">\n",
       "      <th></th>\n",
       "      <th>Kabupaten</th>\n",
       "      <th>Jumlah Penduduk 35-39</th>\n",
       "    </tr>\n",
       "  </thead>\n",
       "  <tbody>\n",
       "    <tr>\n",
       "      <th>0</th>\n",
       "      <td>JAKARTA BARAT</td>\n",
       "      <td>288489</td>\n",
       "    </tr>\n",
       "    <tr>\n",
       "      <th>3</th>\n",
       "      <td>JAKARTA TIMUR</td>\n",
       "      <td>265865</td>\n",
       "    </tr>\n",
       "    <tr>\n",
       "      <th>4</th>\n",
       "      <td>JAKARTA UTARA</td>\n",
       "      <td>215593</td>\n",
       "    </tr>\n",
       "    <tr>\n",
       "      <th>2</th>\n",
       "      <td>JAKARTA SELATAN</td>\n",
       "      <td>199299</td>\n",
       "    </tr>\n",
       "    <tr>\n",
       "      <th>1</th>\n",
       "      <td>JAKARTA PUSAT</td>\n",
       "      <td>98092</td>\n",
       "    </tr>\n",
       "    <tr>\n",
       "      <th>5</th>\n",
       "      <td>KAB.ADM.KEP.SERIBU</td>\n",
       "      <td>1913</td>\n",
       "    </tr>\n",
       "  </tbody>\n",
       "</table>\n",
       "</div>"
      ],
      "text/plain": [
       "            Kabupaten  Jumlah Penduduk 35-39\n",
       "0       JAKARTA BARAT                 288489\n",
       "3       JAKARTA TIMUR                 265865\n",
       "4       JAKARTA UTARA                 215593\n",
       "2     JAKARTA SELATAN                 199299\n",
       "1       JAKARTA PUSAT                  98092\n",
       "5  KAB.ADM.KEP.SERIBU                   1913"
      ]
     },
     "execution_count": 218,
     "metadata": {
      "tags": []
     },
     "output_type": "execute_result"
    }
   ],
   "source": [
    "gabungan1.columns = ['Kabupaten', 'Jumlah Penduduk 35-39']\n",
    "gabungan1 = gabungan1.sort_values(by=['Jumlah Penduduk 35-39'], ascending=False)\n",
    "gabungan1"
   ]
  },
  {
   "cell_type": "markdown",
   "metadata": {
    "id": "gG91XGHnW8wq"
   },
   "source": [
    "##### 2. Kabupaten/Kota mana yang memiliki jumlah penduduk terbesar (segala umur)? Tampilkan dalam bentuk dataframe (Urutkan terbesar hingga terkecil)"
   ]
  },
  {
   "cell_type": "code",
   "execution_count": null,
   "metadata": {
    "id": "bElspz_qWaYl"
   },
   "outputs": [],
   "source": [
    "namakolom = dki.columns.drop(['TAHUN', 'NAMA PROVINSI', 'NAMA KABUPATEN/KOTA', 'NAMA KECAMATAN',\n",
    "       'NAMA KELURAHAN', 'LUAS WILAYAH (KM2)', 'KEPADATAN (JIWA/KM2)']) #sisakan hanya kolom dengan jumlah penduduk"
   ]
  },
  {
   "cell_type": "code",
   "execution_count": null,
   "metadata": {
    "colab": {
     "base_uri": "https://localhost:8080/"
    },
    "id": "HWVdsbmk3f4t",
    "outputId": "3341aa8a-32c3-4425-9bf4-21d0d13258ae"
   },
   "outputs": [
    {
     "data": {
      "text/plain": [
       "Index(['35-39 Laki-Laki', '35-39 Perempuan', '40-44 Laki-Laki',\n",
       "       '40-44 Perempuan', '45-49 Laki-Laki', '45-49 Perempuan',\n",
       "       '50-54 Laki-Laki', '50-54 Perempuan', '55-59 Laki-Laki',\n",
       "       '55-59 Perempuan', '60-64 Laki-Laki', '60-64 Perempuan',\n",
       "       '65-69 Laki-Laki', '65-69 Perempuan', '70-74 Laki-Laki',\n",
       "       '70-74 Perempuan', '>75 Laki-Laki', '>75  Perempuan'],\n",
       "      dtype='object')"
      ]
     },
     "execution_count": 219,
     "metadata": {
      "tags": []
     },
     "output_type": "execute_result"
    }
   ],
   "source": [
    "namakolom"
   ]
  },
  {
   "cell_type": "code",
   "execution_count": null,
   "metadata": {
    "id": "g_rEZaqq3hnp"
   },
   "outputs": [],
   "source": [
    "b=0\n",
    "for i in namakolom:\n",
    "  a = dki.groupby('NAMA KABUPATEN/KOTA')[i].sum()\n",
    "  b = a+b"
   ]
  },
  {
   "cell_type": "code",
   "execution_count": null,
   "metadata": {
    "colab": {
     "base_uri": "https://localhost:8080/"
    },
    "id": "3eGvr28Y3oHP",
    "outputId": "fae4016d-6bc3-4a3a-9d33-14432efd9c42"
   },
   "outputs": [
    {
     "data": {
      "text/plain": [
       "NAMA KABUPATEN/KOTA\n",
       "JAKARTA BARAT         2316181\n",
       "JAKARTA PUSAT          500056\n",
       "JAKARTA SELATAN        878137\n",
       "JAKARTA TIMUR         1136447\n",
       "JAKARTA UTARA         1695623\n",
       "KAB.ADM.KEP.SERIBU       8308\n",
       "dtype: int64"
      ]
     },
     "execution_count": 221,
     "metadata": {
      "tags": []
     },
     "output_type": "execute_result"
    }
   ],
   "source": [
    "b"
   ]
  },
  {
   "cell_type": "code",
   "execution_count": null,
   "metadata": {
    "colab": {
     "base_uri": "https://localhost:8080/",
     "height": 238
    },
    "id": "_snxfmxlYC5p",
    "outputId": "35f4425a-2c61-41c6-c6bf-1605a9a69862"
   },
   "outputs": [
    {
     "data": {
      "text/html": [
       "<div>\n",
       "<style scoped>\n",
       "    .dataframe tbody tr th:only-of-type {\n",
       "        vertical-align: middle;\n",
       "    }\n",
       "\n",
       "    .dataframe tbody tr th {\n",
       "        vertical-align: top;\n",
       "    }\n",
       "\n",
       "    .dataframe thead th {\n",
       "        text-align: right;\n",
       "    }\n",
       "</style>\n",
       "<table border=\"1\" class=\"dataframe\">\n",
       "  <thead>\n",
       "    <tr style=\"text-align: right;\">\n",
       "      <th></th>\n",
       "      <th>Kabupaten</th>\n",
       "      <th>Jumlah Penduduk</th>\n",
       "    </tr>\n",
       "  </thead>\n",
       "  <tbody>\n",
       "    <tr>\n",
       "      <th>0</th>\n",
       "      <td>JAKARTA BARAT</td>\n",
       "      <td>2316181</td>\n",
       "    </tr>\n",
       "    <tr>\n",
       "      <th>4</th>\n",
       "      <td>JAKARTA UTARA</td>\n",
       "      <td>1695623</td>\n",
       "    </tr>\n",
       "    <tr>\n",
       "      <th>3</th>\n",
       "      <td>JAKARTA TIMUR</td>\n",
       "      <td>1136447</td>\n",
       "    </tr>\n",
       "    <tr>\n",
       "      <th>2</th>\n",
       "      <td>JAKARTA SELATAN</td>\n",
       "      <td>878137</td>\n",
       "    </tr>\n",
       "    <tr>\n",
       "      <th>1</th>\n",
       "      <td>JAKARTA PUSAT</td>\n",
       "      <td>500056</td>\n",
       "    </tr>\n",
       "    <tr>\n",
       "      <th>5</th>\n",
       "      <td>KAB.ADM.KEP.SERIBU</td>\n",
       "      <td>8308</td>\n",
       "    </tr>\n",
       "  </tbody>\n",
       "</table>\n",
       "</div>"
      ],
      "text/plain": [
       "            Kabupaten  Jumlah Penduduk\n",
       "0       JAKARTA BARAT          2316181\n",
       "4       JAKARTA UTARA          1695623\n",
       "3       JAKARTA TIMUR          1136447\n",
       "2     JAKARTA SELATAN           878137\n",
       "1       JAKARTA PUSAT           500056\n",
       "5  KAB.ADM.KEP.SERIBU             8308"
      ]
     },
     "execution_count": 6,
     "metadata": {
      "tags": []
     },
     "output_type": "execute_result"
    }
   ],
   "source": [
    "gabungan2 = b.reset_index()  #ke dataframe\n",
    "gabungan2.columns = ['Kabupaten', 'Jumlah Penduduk']  #memberi nama pada kolom\n",
    "gabungan2 = gabungan2.sort_values(by=['Jumlah Penduduk'], ascending=False)\n",
    "gabungan2"
   ]
  },
  {
   "cell_type": "markdown",
   "metadata": {
    "id": "6LG7Buy4dVXo"
   },
   "source": [
    "#### 3. Jika 'Rasio Kepadatan' didefinisikan sebagai 'Jumlah Penduduk' / 'Luas Wilayah (km2)'. Berdasarkan dataset yang diberikan, tentukan Kabupaten/Kota yang memiliki 'Rasio Kepadatan' tertinggi"
   ]
  },
  {
   "cell_type": "markdown",
   "metadata": {
    "id": "-MCVHojZMbs5"
   },
   "source": [
    "Jawab :\n",
    "###### Idenya adalah kita ingin melakukan groupby pada 'Jumlah Penduduk' dan 'Luas Wilayah' berdasarkan Kabupaten/Kota yang ada. Setelah itu, buat sebuah kolom baru yang hasilnya diperoleh dari pembagian 'Jumlah Penduduk' dengan 'Luas Wilayah'.\n",
    "\n",
    "##### Hasil groupby 'Jumlah Penduduk' berdasarkan Kabupaten akan menggunakan data hasil groupby dari no 2 (lanjutan)"
   ]
  },
  {
   "cell_type": "code",
   "execution_count": null,
   "metadata": {
    "colab": {
     "base_uri": "https://localhost:8080/",
     "height": 233
    },
    "id": "fmBpX6Ls2bUU",
    "outputId": "5207771c-0817-4d42-9843-ccee8fed8954"
   },
   "outputs": [
    {
     "data": {
      "text/html": [
       "<div>\n",
       "<style scoped>\n",
       "    .dataframe tbody tr th:only-of-type {\n",
       "        vertical-align: middle;\n",
       "    }\n",
       "\n",
       "    .dataframe tbody tr th {\n",
       "        vertical-align: top;\n",
       "    }\n",
       "\n",
       "    .dataframe thead th {\n",
       "        text-align: right;\n",
       "    }\n",
       "</style>\n",
       "<table border=\"1\" class=\"dataframe\">\n",
       "  <thead>\n",
       "    <tr style=\"text-align: right;\">\n",
       "      <th></th>\n",
       "      <th>NAMA KABUPATEN/KOTA</th>\n",
       "      <th>LUAS WILAYAH (KM2)</th>\n",
       "    </tr>\n",
       "  </thead>\n",
       "  <tbody>\n",
       "    <tr>\n",
       "      <th>0</th>\n",
       "      <td>JAKARTA BARAT</td>\n",
       "      <td>127.11</td>\n",
       "    </tr>\n",
       "    <tr>\n",
       "      <th>1</th>\n",
       "      <td>JAKARTA PUSAT</td>\n",
       "      <td>48.08</td>\n",
       "    </tr>\n",
       "    <tr>\n",
       "      <th>2</th>\n",
       "      <td>JAKARTA SELATAN</td>\n",
       "      <td>145.73</td>\n",
       "    </tr>\n",
       "    <tr>\n",
       "      <th>3</th>\n",
       "      <td>JAKARTA TIMUR</td>\n",
       "      <td>188.19</td>\n",
       "    </tr>\n",
       "    <tr>\n",
       "      <th>4</th>\n",
       "      <td>JAKARTA UTARA</td>\n",
       "      <td>143.21</td>\n",
       "    </tr>\n",
       "    <tr>\n",
       "      <th>5</th>\n",
       "      <td>KAB.ADM.KEP.SERIBU</td>\n",
       "      <td>11.81</td>\n",
       "    </tr>\n",
       "  </tbody>\n",
       "</table>\n",
       "</div>"
      ],
      "text/plain": [
       "  NAMA KABUPATEN/KOTA  LUAS WILAYAH (KM2)\n",
       "0       JAKARTA BARAT              127.11\n",
       "1       JAKARTA PUSAT               48.08\n",
       "2     JAKARTA SELATAN              145.73\n",
       "3       JAKARTA TIMUR              188.19\n",
       "4       JAKARTA UTARA              143.21\n",
       "5  KAB.ADM.KEP.SERIBU               11.81"
      ]
     },
     "execution_count": 3,
     "metadata": {
      "tags": []
     },
     "output_type": "execute_result"
    }
   ],
   "source": [
    "# Groupby luas wilayah berdasarkan kabupaten/kota\n",
    "dki.groupby('NAMA KABUPATEN/KOTA')['LUAS WILAYAH (KM2)'].sum().reset_index()  #preview"
   ]
  },
  {
   "cell_type": "code",
   "execution_count": null,
   "metadata": {
    "colab": {
     "base_uri": "https://localhost:8080/",
     "height": 238
    },
    "id": "pa63-roBdWb0",
    "outputId": "3792af66-9cfd-4c7c-f57a-47189e62aacd"
   },
   "outputs": [
    {
     "data": {
      "text/html": [
       "<div>\n",
       "<style scoped>\n",
       "    .dataframe tbody tr th:only-of-type {\n",
       "        vertical-align: middle;\n",
       "    }\n",
       "\n",
       "    .dataframe tbody tr th {\n",
       "        vertical-align: top;\n",
       "    }\n",
       "\n",
       "    .dataframe thead th {\n",
       "        text-align: right;\n",
       "    }\n",
       "</style>\n",
       "<table border=\"1\" class=\"dataframe\">\n",
       "  <thead>\n",
       "    <tr style=\"text-align: right;\">\n",
       "      <th></th>\n",
       "      <th>NAMA KABUPATEN/KOTA</th>\n",
       "      <th>LUAS WILAYAH (KM2)</th>\n",
       "    </tr>\n",
       "  </thead>\n",
       "  <tbody>\n",
       "    <tr>\n",
       "      <th>0</th>\n",
       "      <td>JAKARTA BARAT</td>\n",
       "      <td>127.11</td>\n",
       "    </tr>\n",
       "    <tr>\n",
       "      <th>1</th>\n",
       "      <td>JAKARTA PUSAT</td>\n",
       "      <td>48.08</td>\n",
       "    </tr>\n",
       "    <tr>\n",
       "      <th>2</th>\n",
       "      <td>JAKARTA SELATAN</td>\n",
       "      <td>145.73</td>\n",
       "    </tr>\n",
       "    <tr>\n",
       "      <th>3</th>\n",
       "      <td>JAKARTA TIMUR</td>\n",
       "      <td>188.19</td>\n",
       "    </tr>\n",
       "    <tr>\n",
       "      <th>4</th>\n",
       "      <td>JAKARTA UTARA</td>\n",
       "      <td>143.21</td>\n",
       "    </tr>\n",
       "    <tr>\n",
       "      <th>5</th>\n",
       "      <td>KAB.ADM.KEP.SERIBU</td>\n",
       "      <td>11.81</td>\n",
       "    </tr>\n",
       "  </tbody>\n",
       "</table>\n",
       "</div>"
      ],
      "text/plain": [
       "  NAMA KABUPATEN/KOTA  LUAS WILAYAH (KM2)\n",
       "0       JAKARTA BARAT              127.11\n",
       "1       JAKARTA PUSAT               48.08\n",
       "2     JAKARTA SELATAN              145.73\n",
       "3       JAKARTA TIMUR              188.19\n",
       "4       JAKARTA UTARA              143.21\n",
       "5  KAB.ADM.KEP.SERIBU               11.81"
      ]
     },
     "execution_count": 7,
     "metadata": {
      "tags": []
     },
     "output_type": "execute_result"
    }
   ],
   "source": [
    "luwas = dki.groupby('NAMA KABUPATEN/KOTA')['LUAS WILAYAH (KM2)'].sum().reset_index()  #Store to a variable\n",
    "luwas"
   ]
  },
  {
   "cell_type": "markdown",
   "metadata": {
    "id": "qwzO6yuXNjKX"
   },
   "source": [
    "##### Karena pada data gabungan2, nama kolom untuk masing-masing kabupaten adalah 'Kabupaten', maka kolom untuk data 'luwas' juga akan direname sebagai 'Kabupaten' (agar nanti mempermudah merge)"
   ]
  },
  {
   "cell_type": "code",
   "execution_count": null,
   "metadata": {
    "colab": {
     "base_uri": "https://localhost:8080/",
     "height": 238
    },
    "id": "X7UnvSKVfZVL",
    "outputId": "c8fd2fd9-3228-4dd6-a52a-04d7de58e1dc"
   },
   "outputs": [
    {
     "data": {
      "text/html": [
       "<div>\n",
       "<style scoped>\n",
       "    .dataframe tbody tr th:only-of-type {\n",
       "        vertical-align: middle;\n",
       "    }\n",
       "\n",
       "    .dataframe tbody tr th {\n",
       "        vertical-align: top;\n",
       "    }\n",
       "\n",
       "    .dataframe thead th {\n",
       "        text-align: right;\n",
       "    }\n",
       "</style>\n",
       "<table border=\"1\" class=\"dataframe\">\n",
       "  <thead>\n",
       "    <tr style=\"text-align: right;\">\n",
       "      <th></th>\n",
       "      <th>Kabupaten</th>\n",
       "      <th>LUAS WILAYAH (KM2)</th>\n",
       "    </tr>\n",
       "  </thead>\n",
       "  <tbody>\n",
       "    <tr>\n",
       "      <th>0</th>\n",
       "      <td>JAKARTA BARAT</td>\n",
       "      <td>127.11</td>\n",
       "    </tr>\n",
       "    <tr>\n",
       "      <th>1</th>\n",
       "      <td>JAKARTA PUSAT</td>\n",
       "      <td>48.08</td>\n",
       "    </tr>\n",
       "    <tr>\n",
       "      <th>2</th>\n",
       "      <td>JAKARTA SELATAN</td>\n",
       "      <td>145.73</td>\n",
       "    </tr>\n",
       "    <tr>\n",
       "      <th>3</th>\n",
       "      <td>JAKARTA TIMUR</td>\n",
       "      <td>188.19</td>\n",
       "    </tr>\n",
       "    <tr>\n",
       "      <th>4</th>\n",
       "      <td>JAKARTA UTARA</td>\n",
       "      <td>143.21</td>\n",
       "    </tr>\n",
       "    <tr>\n",
       "      <th>5</th>\n",
       "      <td>KAB.ADM.KEP.SERIBU</td>\n",
       "      <td>11.81</td>\n",
       "    </tr>\n",
       "  </tbody>\n",
       "</table>\n",
       "</div>"
      ],
      "text/plain": [
       "            Kabupaten  LUAS WILAYAH (KM2)\n",
       "0       JAKARTA BARAT              127.11\n",
       "1       JAKARTA PUSAT               48.08\n",
       "2     JAKARTA SELATAN              145.73\n",
       "3       JAKARTA TIMUR              188.19\n",
       "4       JAKARTA UTARA              143.21\n",
       "5  KAB.ADM.KEP.SERIBU               11.81"
      ]
     },
     "execution_count": 8,
     "metadata": {
      "tags": []
     },
     "output_type": "execute_result"
    }
   ],
   "source": [
    "luwas.rename(columns={'NAMA KABUPATEN/KOTA':'Kabupaten'}, inplace=True) #disamakan dg nama kolom 'gabungan2' agar dapat di merge\n",
    "luwas"
   ]
  },
  {
   "cell_type": "markdown",
   "metadata": {
    "id": "bQWXP4HdOU2L"
   },
   "source": [
    "#####  Data hasil pengelompokkan dari 'Luas Wilayah' dan 'Jumlah Penduduk'. Sekarang tinggal dilakukan merge dengan 'Kabupaten' sebagai acuan."
   ]
  },
  {
   "cell_type": "code",
   "execution_count": null,
   "metadata": {
    "colab": {
     "base_uri": "https://localhost:8080/",
     "height": 238
    },
    "id": "iXzrMIJ3d6iE",
    "outputId": "8726fdd3-0b7c-414b-850e-7c0a6f9480ce"
   },
   "outputs": [
    {
     "data": {
      "text/html": [
       "<div>\n",
       "<style scoped>\n",
       "    .dataframe tbody tr th:only-of-type {\n",
       "        vertical-align: middle;\n",
       "    }\n",
       "\n",
       "    .dataframe tbody tr th {\n",
       "        vertical-align: top;\n",
       "    }\n",
       "\n",
       "    .dataframe thead th {\n",
       "        text-align: right;\n",
       "    }\n",
       "</style>\n",
       "<table border=\"1\" class=\"dataframe\">\n",
       "  <thead>\n",
       "    <tr style=\"text-align: right;\">\n",
       "      <th></th>\n",
       "      <th>Kabupaten</th>\n",
       "      <th>LUAS WILAYAH (KM2)</th>\n",
       "      <th>Jumlah Penduduk</th>\n",
       "    </tr>\n",
       "  </thead>\n",
       "  <tbody>\n",
       "    <tr>\n",
       "      <th>0</th>\n",
       "      <td>JAKARTA BARAT</td>\n",
       "      <td>127.11</td>\n",
       "      <td>2316181</td>\n",
       "    </tr>\n",
       "    <tr>\n",
       "      <th>1</th>\n",
       "      <td>JAKARTA PUSAT</td>\n",
       "      <td>48.08</td>\n",
       "      <td>500056</td>\n",
       "    </tr>\n",
       "    <tr>\n",
       "      <th>2</th>\n",
       "      <td>JAKARTA SELATAN</td>\n",
       "      <td>145.73</td>\n",
       "      <td>878137</td>\n",
       "    </tr>\n",
       "    <tr>\n",
       "      <th>3</th>\n",
       "      <td>JAKARTA TIMUR</td>\n",
       "      <td>188.19</td>\n",
       "      <td>1136447</td>\n",
       "    </tr>\n",
       "    <tr>\n",
       "      <th>4</th>\n",
       "      <td>JAKARTA UTARA</td>\n",
       "      <td>143.21</td>\n",
       "      <td>1695623</td>\n",
       "    </tr>\n",
       "    <tr>\n",
       "      <th>5</th>\n",
       "      <td>KAB.ADM.KEP.SERIBU</td>\n",
       "      <td>11.81</td>\n",
       "      <td>8308</td>\n",
       "    </tr>\n",
       "  </tbody>\n",
       "</table>\n",
       "</div>"
      ],
      "text/plain": [
       "            Kabupaten  LUAS WILAYAH (KM2)  Jumlah Penduduk\n",
       "0       JAKARTA BARAT              127.11          2316181\n",
       "1       JAKARTA PUSAT               48.08           500056\n",
       "2     JAKARTA SELATAN              145.73           878137\n",
       "3       JAKARTA TIMUR              188.19          1136447\n",
       "4       JAKARTA UTARA              143.21          1695623\n",
       "5  KAB.ADM.KEP.SERIBU               11.81             8308"
      ]
     },
     "execution_count": 9,
     "metadata": {
      "tags": []
     },
     "output_type": "execute_result"
    }
   ],
   "source": [
    "gabungan3 = pd.merge(luwas,gabungan2, on='Kabupaten')\n",
    "gabungan3"
   ]
  },
  {
   "cell_type": "markdown",
   "metadata": {
    "id": "gOWWw10mOsxn"
   },
   "source": [
    "##### Karena 'Rasio Kepadatan' didefinisikan sebagai 'Jumlah Penduduk' / 'Luas Wilayah (km2)' berdasarkan premis soal. Mari kita membuat sebuah kolom baru yang berisi 'Jumlah Penduduk' / 'Luas Wilayah (km2)'"
   ]
  },
  {
   "cell_type": "code",
   "execution_count": null,
   "metadata": {
    "colab": {
     "base_uri": "https://localhost:8080/",
     "height": 238
    },
    "id": "0b3wPqpwduqa",
    "outputId": "9cfe82f8-366c-4703-d7bd-379fd1f9a4a0"
   },
   "outputs": [
    {
     "data": {
      "text/html": [
       "<div>\n",
       "<style scoped>\n",
       "    .dataframe tbody tr th:only-of-type {\n",
       "        vertical-align: middle;\n",
       "    }\n",
       "\n",
       "    .dataframe tbody tr th {\n",
       "        vertical-align: top;\n",
       "    }\n",
       "\n",
       "    .dataframe thead th {\n",
       "        text-align: right;\n",
       "    }\n",
       "</style>\n",
       "<table border=\"1\" class=\"dataframe\">\n",
       "  <thead>\n",
       "    <tr style=\"text-align: right;\">\n",
       "      <th></th>\n",
       "      <th>Kabupaten</th>\n",
       "      <th>LUAS WILAYAH (KM2)</th>\n",
       "      <th>Jumlah Penduduk</th>\n",
       "      <th>rasio_kepadatan</th>\n",
       "    </tr>\n",
       "  </thead>\n",
       "  <tbody>\n",
       "    <tr>\n",
       "      <th>0</th>\n",
       "      <td>JAKARTA BARAT</td>\n",
       "      <td>127.11</td>\n",
       "      <td>2316181</td>\n",
       "      <td>18221.862953</td>\n",
       "    </tr>\n",
       "    <tr>\n",
       "      <th>1</th>\n",
       "      <td>JAKARTA PUSAT</td>\n",
       "      <td>48.08</td>\n",
       "      <td>500056</td>\n",
       "      <td>10400.499168</td>\n",
       "    </tr>\n",
       "    <tr>\n",
       "      <th>2</th>\n",
       "      <td>JAKARTA SELATAN</td>\n",
       "      <td>145.73</td>\n",
       "      <td>878137</td>\n",
       "      <td>6025.780553</td>\n",
       "    </tr>\n",
       "    <tr>\n",
       "      <th>3</th>\n",
       "      <td>JAKARTA TIMUR</td>\n",
       "      <td>188.19</td>\n",
       "      <td>1136447</td>\n",
       "      <td>6038.827780</td>\n",
       "    </tr>\n",
       "    <tr>\n",
       "      <th>4</th>\n",
       "      <td>JAKARTA UTARA</td>\n",
       "      <td>143.21</td>\n",
       "      <td>1695623</td>\n",
       "      <td>11840.115914</td>\n",
       "    </tr>\n",
       "    <tr>\n",
       "      <th>5</th>\n",
       "      <td>KAB.ADM.KEP.SERIBU</td>\n",
       "      <td>11.81</td>\n",
       "      <td>8308</td>\n",
       "      <td>703.471634</td>\n",
       "    </tr>\n",
       "  </tbody>\n",
       "</table>\n",
       "</div>"
      ],
      "text/plain": [
       "            Kabupaten  LUAS WILAYAH (KM2)  Jumlah Penduduk  rasio_kepadatan\n",
       "0       JAKARTA BARAT              127.11          2316181     18221.862953\n",
       "1       JAKARTA PUSAT               48.08           500056     10400.499168\n",
       "2     JAKARTA SELATAN              145.73           878137      6025.780553\n",
       "3       JAKARTA TIMUR              188.19          1136447      6038.827780\n",
       "4       JAKARTA UTARA              143.21          1695623     11840.115914\n",
       "5  KAB.ADM.KEP.SERIBU               11.81             8308       703.471634"
      ]
     },
     "execution_count": 12,
     "metadata": {
      "tags": []
     },
     "output_type": "execute_result"
    }
   ],
   "source": [
    "gabungan3['rasio_kepadatan'] = gabungan3['Jumlah Penduduk']/gabungan3['LUAS WILAYAH (KM2)']\n",
    "gabungan3"
   ]
  },
  {
   "cell_type": "code",
   "execution_count": null,
   "metadata": {
    "colab": {
     "base_uri": "https://localhost:8080/",
     "height": 238
    },
    "id": "rZQvODs32ktN",
    "outputId": "0d25611b-47d5-4312-f33e-2b914816ff1f"
   },
   "outputs": [
    {
     "data": {
      "text/html": [
       "<div>\n",
       "<style scoped>\n",
       "    .dataframe tbody tr th:only-of-type {\n",
       "        vertical-align: middle;\n",
       "    }\n",
       "\n",
       "    .dataframe tbody tr th {\n",
       "        vertical-align: top;\n",
       "    }\n",
       "\n",
       "    .dataframe thead th {\n",
       "        text-align: right;\n",
       "    }\n",
       "</style>\n",
       "<table border=\"1\" class=\"dataframe\">\n",
       "  <thead>\n",
       "    <tr style=\"text-align: right;\">\n",
       "      <th></th>\n",
       "      <th>Kabupaten</th>\n",
       "      <th>LUAS WILAYAH (KM2)</th>\n",
       "      <th>Jumlah Penduduk</th>\n",
       "      <th>rasio_kepadatan</th>\n",
       "    </tr>\n",
       "  </thead>\n",
       "  <tbody>\n",
       "    <tr>\n",
       "      <th>0</th>\n",
       "      <td>JAKARTA BARAT</td>\n",
       "      <td>127.11</td>\n",
       "      <td>2316181</td>\n",
       "      <td>18221.862953</td>\n",
       "    </tr>\n",
       "    <tr>\n",
       "      <th>4</th>\n",
       "      <td>JAKARTA UTARA</td>\n",
       "      <td>143.21</td>\n",
       "      <td>1695623</td>\n",
       "      <td>11840.115914</td>\n",
       "    </tr>\n",
       "    <tr>\n",
       "      <th>1</th>\n",
       "      <td>JAKARTA PUSAT</td>\n",
       "      <td>48.08</td>\n",
       "      <td>500056</td>\n",
       "      <td>10400.499168</td>\n",
       "    </tr>\n",
       "    <tr>\n",
       "      <th>3</th>\n",
       "      <td>JAKARTA TIMUR</td>\n",
       "      <td>188.19</td>\n",
       "      <td>1136447</td>\n",
       "      <td>6038.827780</td>\n",
       "    </tr>\n",
       "    <tr>\n",
       "      <th>2</th>\n",
       "      <td>JAKARTA SELATAN</td>\n",
       "      <td>145.73</td>\n",
       "      <td>878137</td>\n",
       "      <td>6025.780553</td>\n",
       "    </tr>\n",
       "    <tr>\n",
       "      <th>5</th>\n",
       "      <td>KAB.ADM.KEP.SERIBU</td>\n",
       "      <td>11.81</td>\n",
       "      <td>8308</td>\n",
       "      <td>703.471634</td>\n",
       "    </tr>\n",
       "  </tbody>\n",
       "</table>\n",
       "</div>"
      ],
      "text/plain": [
       "            Kabupaten  LUAS WILAYAH (KM2)  Jumlah Penduduk  rasio_kepadatan\n",
       "0       JAKARTA BARAT              127.11          2316181     18221.862953\n",
       "4       JAKARTA UTARA              143.21          1695623     11840.115914\n",
       "1       JAKARTA PUSAT               48.08           500056     10400.499168\n",
       "3       JAKARTA TIMUR              188.19          1136447      6038.827780\n",
       "2     JAKARTA SELATAN              145.73           878137      6025.780553\n",
       "5  KAB.ADM.KEP.SERIBU               11.81             8308       703.471634"
      ]
     },
     "execution_count": 13,
     "metadata": {
      "tags": []
     },
     "output_type": "execute_result"
    }
   ],
   "source": [
    "gabungan3.sort_values(by='rasio_kepadatan', ascending=False, inplace=True)  #Urutkan dari terbesar\n",
    "gabungan3"
   ]
  },
  {
   "cell_type": "code",
   "execution_count": null,
   "metadata": {
    "id": "fi6aSiGIhJOr"
   },
   "outputs": [],
   "source": [
    "### Pada tahun 2013, Jakarta Barat memiliki rasio kepadatan tertinggi dengan jumlah penduduk berusia 35 tahun ke atas."
   ]
  },
  {
   "cell_type": "markdown",
   "metadata": {
    "id": "AcuMvv4HQiEB"
   },
   "source": [
    "#### Bonus"
   ]
  },
  {
   "cell_type": "code",
   "execution_count": null,
   "metadata": {
    "colab": {
     "base_uri": "https://localhost:8080/",
     "height": 542
    },
    "id": "Ai6uHDNkPC5T",
    "outputId": "07a9dc1b-7df7-430d-af56-2b735bde48cb"
   },
   "outputs": [
    {
     "data": {
      "text/html": [
       "<html>\n",
       "<head><meta charset=\"utf-8\" /></head>\n",
       "<body>\n",
       "    <div>\n",
       "            <script src=\"https://cdnjs.cloudflare.com/ajax/libs/mathjax/2.7.5/MathJax.js?config=TeX-AMS-MML_SVG\"></script><script type=\"text/javascript\">if (window.MathJax) {MathJax.Hub.Config({SVG: {font: \"STIX-Web\"}});}</script>\n",
       "                <script type=\"text/javascript\">window.PlotlyConfig = {MathJaxConfig: 'local'};</script>\n",
       "        <script src=\"https://cdn.plot.ly/plotly-latest.min.js\"></script>    \n",
       "            <div id=\"c640641f-0629-49a7-a78b-8a49eebb06f5\" class=\"plotly-graph-div\" style=\"height:525px; width:100%;\"></div>\n",
       "            <script type=\"text/javascript\">\n",
       "                \n",
       "                    window.PLOTLYENV=window.PLOTLYENV || {};\n",
       "                    \n",
       "                if (document.getElementById(\"c640641f-0629-49a7-a78b-8a49eebb06f5\")) {\n",
       "                    Plotly.newPlot(\n",
       "                        'c640641f-0629-49a7-a78b-8a49eebb06f5',\n",
       "                        [{\"alignmentgroup\": \"True\", \"hoverlabel\": {\"namelength\": 0}, \"hovertemplate\": \"Kabupaten=%{x}<br>rasio_kepadatan=%{y}\", \"legendgroup\": \"Kabupaten=JAKARTA BARAT\", \"marker\": {\"color\": \"#636efa\"}, \"name\": \"Kabupaten=JAKARTA BARAT\", \"offsetgroup\": \"Kabupaten=JAKARTA BARAT\", \"orientation\": \"v\", \"showlegend\": true, \"textposition\": \"auto\", \"type\": \"bar\", \"x\": [\"JAKARTA BARAT\"], \"xaxis\": \"x\", \"y\": [18221.862953347496], \"yaxis\": \"y\"}, {\"alignmentgroup\": \"True\", \"hoverlabel\": {\"namelength\": 0}, \"hovertemplate\": \"Kabupaten=%{x}<br>rasio_kepadatan=%{y}\", \"legendgroup\": \"Kabupaten=JAKARTA UTARA\", \"marker\": {\"color\": \"#EF553B\"}, \"name\": \"Kabupaten=JAKARTA UTARA\", \"offsetgroup\": \"Kabupaten=JAKARTA UTARA\", \"orientation\": \"v\", \"showlegend\": true, \"textposition\": \"auto\", \"type\": \"bar\", \"x\": [\"JAKARTA UTARA\"], \"xaxis\": \"x\", \"y\": [11840.11591369318], \"yaxis\": \"y\"}, {\"alignmentgroup\": \"True\", \"hoverlabel\": {\"namelength\": 0}, \"hovertemplate\": \"Kabupaten=%{x}<br>rasio_kepadatan=%{y}\", \"legendgroup\": \"Kabupaten=JAKARTA PUSAT\", \"marker\": {\"color\": \"#00cc96\"}, \"name\": \"Kabupaten=JAKARTA PUSAT\", \"offsetgroup\": \"Kabupaten=JAKARTA PUSAT\", \"orientation\": \"v\", \"showlegend\": true, \"textposition\": \"auto\", \"type\": \"bar\", \"x\": [\"JAKARTA PUSAT\"], \"xaxis\": \"x\", \"y\": [10400.499168053248], \"yaxis\": \"y\"}, {\"alignmentgroup\": \"True\", \"hoverlabel\": {\"namelength\": 0}, \"hovertemplate\": \"Kabupaten=%{x}<br>rasio_kepadatan=%{y}\", \"legendgroup\": \"Kabupaten=JAKARTA TIMUR\", \"marker\": {\"color\": \"#ab63fa\"}, \"name\": \"Kabupaten=JAKARTA TIMUR\", \"offsetgroup\": \"Kabupaten=JAKARTA TIMUR\", \"orientation\": \"v\", \"showlegend\": true, \"textposition\": \"auto\", \"type\": \"bar\", \"x\": [\"JAKARTA TIMUR\"], \"xaxis\": \"x\", \"y\": [6038.827780434667], \"yaxis\": \"y\"}, {\"alignmentgroup\": \"True\", \"hoverlabel\": {\"namelength\": 0}, \"hovertemplate\": \"Kabupaten=%{x}<br>rasio_kepadatan=%{y}\", \"legendgroup\": \"Kabupaten=JAKARTA SELATAN\", \"marker\": {\"color\": \"#FFA15A\"}, \"name\": \"Kabupaten=JAKARTA SELATAN\", \"offsetgroup\": \"Kabupaten=JAKARTA SELATAN\", \"orientation\": \"v\", \"showlegend\": true, \"textposition\": \"auto\", \"type\": \"bar\", \"x\": [\"JAKARTA SELATAN\"], \"xaxis\": \"x\", \"y\": [6025.780553077609], \"yaxis\": \"y\"}, {\"alignmentgroup\": \"True\", \"hoverlabel\": {\"namelength\": 0}, \"hovertemplate\": \"Kabupaten=%{x}<br>rasio_kepadatan=%{y}\", \"legendgroup\": \"Kabupaten=KAB.ADM.KEP.SERIBU\", \"marker\": {\"color\": \"#19d3f3\"}, \"name\": \"Kabupaten=KAB.ADM.KEP.SERIBU\", \"offsetgroup\": \"Kabupaten=KAB.ADM.KEP.SERIBU\", \"orientation\": \"v\", \"showlegend\": true, \"textposition\": \"auto\", \"type\": \"bar\", \"x\": [\"KAB.ADM.KEP.SERIBU\"], \"xaxis\": \"x\", \"y\": [703.471634208298], \"yaxis\": \"y\"}],\n",
       "                        {\"barmode\": \"relative\", \"legend\": {\"tracegroupgap\": 0}, \"template\": {\"data\": {\"bar\": [{\"error_x\": {\"color\": \"#f2f5fa\"}, \"error_y\": {\"color\": \"#f2f5fa\"}, \"marker\": {\"line\": {\"color\": \"rgb(17,17,17)\", \"width\": 0.5}}, \"type\": \"bar\"}], \"barpolar\": [{\"marker\": {\"line\": {\"color\": \"rgb(17,17,17)\", \"width\": 0.5}}, \"type\": \"barpolar\"}], \"carpet\": [{\"aaxis\": {\"endlinecolor\": \"#A2B1C6\", \"gridcolor\": \"#506784\", \"linecolor\": \"#506784\", \"minorgridcolor\": \"#506784\", \"startlinecolor\": \"#A2B1C6\"}, \"baxis\": {\"endlinecolor\": \"#A2B1C6\", \"gridcolor\": \"#506784\", \"linecolor\": \"#506784\", \"minorgridcolor\": \"#506784\", \"startlinecolor\": \"#A2B1C6\"}, \"type\": \"carpet\"}], \"choropleth\": [{\"colorbar\": {\"outlinewidth\": 0, \"ticks\": \"\"}, \"type\": \"choropleth\"}], \"contour\": [{\"colorbar\": {\"outlinewidth\": 0, \"ticks\": \"\"}, \"colorscale\": [[0.0, \"#0d0887\"], [0.1111111111111111, \"#46039f\"], [0.2222222222222222, \"#7201a8\"], [0.3333333333333333, \"#9c179e\"], [0.4444444444444444, \"#bd3786\"], [0.5555555555555556, \"#d8576b\"], [0.6666666666666666, \"#ed7953\"], [0.7777777777777778, \"#fb9f3a\"], [0.8888888888888888, \"#fdca26\"], [1.0, \"#f0f921\"]], \"type\": \"contour\"}], \"contourcarpet\": [{\"colorbar\": {\"outlinewidth\": 0, \"ticks\": \"\"}, \"type\": \"contourcarpet\"}], \"heatmap\": [{\"colorbar\": {\"outlinewidth\": 0, \"ticks\": \"\"}, \"colorscale\": [[0.0, \"#0d0887\"], [0.1111111111111111, \"#46039f\"], [0.2222222222222222, \"#7201a8\"], [0.3333333333333333, \"#9c179e\"], [0.4444444444444444, \"#bd3786\"], [0.5555555555555556, \"#d8576b\"], [0.6666666666666666, \"#ed7953\"], [0.7777777777777778, \"#fb9f3a\"], [0.8888888888888888, \"#fdca26\"], [1.0, \"#f0f921\"]], \"type\": \"heatmap\"}], \"heatmapgl\": [{\"colorbar\": {\"outlinewidth\": 0, \"ticks\": \"\"}, \"colorscale\": [[0.0, \"#0d0887\"], [0.1111111111111111, \"#46039f\"], [0.2222222222222222, \"#7201a8\"], [0.3333333333333333, \"#9c179e\"], [0.4444444444444444, \"#bd3786\"], [0.5555555555555556, \"#d8576b\"], [0.6666666666666666, \"#ed7953\"], [0.7777777777777778, \"#fb9f3a\"], [0.8888888888888888, \"#fdca26\"], [1.0, \"#f0f921\"]], \"type\": \"heatmapgl\"}], \"histogram\": [{\"marker\": {\"colorbar\": {\"outlinewidth\": 0, \"ticks\": \"\"}}, \"type\": \"histogram\"}], \"histogram2d\": [{\"colorbar\": {\"outlinewidth\": 0, \"ticks\": \"\"}, \"colorscale\": [[0.0, \"#0d0887\"], [0.1111111111111111, \"#46039f\"], [0.2222222222222222, \"#7201a8\"], [0.3333333333333333, \"#9c179e\"], [0.4444444444444444, \"#bd3786\"], [0.5555555555555556, \"#d8576b\"], [0.6666666666666666, \"#ed7953\"], [0.7777777777777778, \"#fb9f3a\"], [0.8888888888888888, \"#fdca26\"], [1.0, \"#f0f921\"]], \"type\": \"histogram2d\"}], \"histogram2dcontour\": [{\"colorbar\": {\"outlinewidth\": 0, \"ticks\": \"\"}, \"colorscale\": [[0.0, \"#0d0887\"], [0.1111111111111111, \"#46039f\"], [0.2222222222222222, \"#7201a8\"], [0.3333333333333333, \"#9c179e\"], [0.4444444444444444, \"#bd3786\"], [0.5555555555555556, \"#d8576b\"], [0.6666666666666666, \"#ed7953\"], [0.7777777777777778, \"#fb9f3a\"], [0.8888888888888888, \"#fdca26\"], [1.0, \"#f0f921\"]], \"type\": \"histogram2dcontour\"}], \"mesh3d\": [{\"colorbar\": {\"outlinewidth\": 0, \"ticks\": \"\"}, \"type\": \"mesh3d\"}], \"parcoords\": [{\"line\": {\"colorbar\": {\"outlinewidth\": 0, \"ticks\": \"\"}}, \"type\": \"parcoords\"}], \"pie\": [{\"automargin\": true, \"type\": \"pie\"}], \"scatter\": [{\"marker\": {\"line\": {\"color\": \"#283442\"}}, \"type\": \"scatter\"}], \"scatter3d\": [{\"line\": {\"colorbar\": {\"outlinewidth\": 0, \"ticks\": \"\"}}, \"marker\": {\"colorbar\": {\"outlinewidth\": 0, \"ticks\": \"\"}}, \"type\": \"scatter3d\"}], \"scattercarpet\": [{\"marker\": {\"colorbar\": {\"outlinewidth\": 0, \"ticks\": \"\"}}, \"type\": \"scattercarpet\"}], \"scattergeo\": [{\"marker\": {\"colorbar\": {\"outlinewidth\": 0, \"ticks\": \"\"}}, \"type\": \"scattergeo\"}], \"scattergl\": [{\"marker\": {\"line\": {\"color\": \"#283442\"}}, \"type\": \"scattergl\"}], \"scattermapbox\": [{\"marker\": {\"colorbar\": {\"outlinewidth\": 0, \"ticks\": \"\"}}, \"type\": \"scattermapbox\"}], \"scatterpolar\": [{\"marker\": {\"colorbar\": {\"outlinewidth\": 0, \"ticks\": \"\"}}, \"type\": \"scatterpolar\"}], \"scatterpolargl\": [{\"marker\": {\"colorbar\": {\"outlinewidth\": 0, \"ticks\": \"\"}}, \"type\": \"scatterpolargl\"}], \"scatterternary\": [{\"marker\": {\"colorbar\": {\"outlinewidth\": 0, \"ticks\": \"\"}}, \"type\": \"scatterternary\"}], \"surface\": [{\"colorbar\": {\"outlinewidth\": 0, \"ticks\": \"\"}, \"colorscale\": [[0.0, \"#0d0887\"], [0.1111111111111111, \"#46039f\"], [0.2222222222222222, \"#7201a8\"], [0.3333333333333333, \"#9c179e\"], [0.4444444444444444, \"#bd3786\"], [0.5555555555555556, \"#d8576b\"], [0.6666666666666666, \"#ed7953\"], [0.7777777777777778, \"#fb9f3a\"], [0.8888888888888888, \"#fdca26\"], [1.0, \"#f0f921\"]], \"type\": \"surface\"}], \"table\": [{\"cells\": {\"fill\": {\"color\": \"#506784\"}, \"line\": {\"color\": \"rgb(17,17,17)\"}}, \"header\": {\"fill\": {\"color\": \"#2a3f5f\"}, \"line\": {\"color\": \"rgb(17,17,17)\"}}, \"type\": \"table\"}]}, \"layout\": {\"annotationdefaults\": {\"arrowcolor\": \"#f2f5fa\", \"arrowhead\": 0, \"arrowwidth\": 1}, \"coloraxis\": {\"colorbar\": {\"outlinewidth\": 0, \"ticks\": \"\"}}, \"colorscale\": {\"diverging\": [[0, \"#8e0152\"], [0.1, \"#c51b7d\"], [0.2, \"#de77ae\"], [0.3, \"#f1b6da\"], [0.4, \"#fde0ef\"], [0.5, \"#f7f7f7\"], [0.6, \"#e6f5d0\"], [0.7, \"#b8e186\"], [0.8, \"#7fbc41\"], [0.9, \"#4d9221\"], [1, \"#276419\"]], \"sequential\": [[0.0, \"#0d0887\"], [0.1111111111111111, \"#46039f\"], [0.2222222222222222, \"#7201a8\"], [0.3333333333333333, \"#9c179e\"], [0.4444444444444444, \"#bd3786\"], [0.5555555555555556, \"#d8576b\"], [0.6666666666666666, \"#ed7953\"], [0.7777777777777778, \"#fb9f3a\"], [0.8888888888888888, \"#fdca26\"], [1.0, \"#f0f921\"]], \"sequentialminus\": [[0.0, \"#0d0887\"], [0.1111111111111111, \"#46039f\"], [0.2222222222222222, \"#7201a8\"], [0.3333333333333333, \"#9c179e\"], [0.4444444444444444, \"#bd3786\"], [0.5555555555555556, \"#d8576b\"], [0.6666666666666666, \"#ed7953\"], [0.7777777777777778, \"#fb9f3a\"], [0.8888888888888888, \"#fdca26\"], [1.0, \"#f0f921\"]]}, \"colorway\": [\"#636efa\", \"#EF553B\", \"#00cc96\", \"#ab63fa\", \"#FFA15A\", \"#19d3f3\", \"#FF6692\", \"#B6E880\", \"#FF97FF\", \"#FECB52\"], \"font\": {\"color\": \"#f2f5fa\"}, \"geo\": {\"bgcolor\": \"rgb(17,17,17)\", \"lakecolor\": \"rgb(17,17,17)\", \"landcolor\": \"rgb(17,17,17)\", \"showlakes\": true, \"showland\": true, \"subunitcolor\": \"#506784\"}, \"hoverlabel\": {\"align\": \"left\"}, \"hovermode\": \"closest\", \"mapbox\": {\"style\": \"dark\"}, \"paper_bgcolor\": \"rgb(17,17,17)\", \"plot_bgcolor\": \"rgb(17,17,17)\", \"polar\": {\"angularaxis\": {\"gridcolor\": \"#506784\", \"linecolor\": \"#506784\", \"ticks\": \"\"}, \"bgcolor\": \"rgb(17,17,17)\", \"radialaxis\": {\"gridcolor\": \"#506784\", \"linecolor\": \"#506784\", \"ticks\": \"\"}}, \"scene\": {\"xaxis\": {\"backgroundcolor\": \"rgb(17,17,17)\", \"gridcolor\": \"#506784\", \"gridwidth\": 2, \"linecolor\": \"#506784\", \"showbackground\": true, \"ticks\": \"\", \"zerolinecolor\": \"#C8D4E3\"}, \"yaxis\": {\"backgroundcolor\": \"rgb(17,17,17)\", \"gridcolor\": \"#506784\", \"gridwidth\": 2, \"linecolor\": \"#506784\", \"showbackground\": true, \"ticks\": \"\", \"zerolinecolor\": \"#C8D4E3\"}, \"zaxis\": {\"backgroundcolor\": \"rgb(17,17,17)\", \"gridcolor\": \"#506784\", \"gridwidth\": 2, \"linecolor\": \"#506784\", \"showbackground\": true, \"ticks\": \"\", \"zerolinecolor\": \"#C8D4E3\"}}, \"shapedefaults\": {\"line\": {\"color\": \"#f2f5fa\"}}, \"sliderdefaults\": {\"bgcolor\": \"#C8D4E3\", \"bordercolor\": \"rgb(17,17,17)\", \"borderwidth\": 1, \"tickwidth\": 0}, \"ternary\": {\"aaxis\": {\"gridcolor\": \"#506784\", \"linecolor\": \"#506784\", \"ticks\": \"\"}, \"baxis\": {\"gridcolor\": \"#506784\", \"linecolor\": \"#506784\", \"ticks\": \"\"}, \"bgcolor\": \"rgb(17,17,17)\", \"caxis\": {\"gridcolor\": \"#506784\", \"linecolor\": \"#506784\", \"ticks\": \"\"}}, \"title\": {\"x\": 0.05}, \"updatemenudefaults\": {\"bgcolor\": \"#506784\", \"borderwidth\": 0}, \"xaxis\": {\"automargin\": true, \"gridcolor\": \"#283442\", \"linecolor\": \"#506784\", \"ticks\": \"\", \"title\": {\"standoff\": 15}, \"zerolinecolor\": \"#283442\", \"zerolinewidth\": 2}, \"yaxis\": {\"automargin\": true, \"gridcolor\": \"#283442\", \"linecolor\": \"#506784\", \"ticks\": \"\", \"title\": {\"standoff\": 15}, \"zerolinecolor\": \"#283442\", \"zerolinewidth\": 2}}}, \"title\": {\"text\": \"<b>Rasio Kepadatan Kabupaten/Kota Jakarta Tahun 2013</b>\"}, \"xaxis\": {\"anchor\": \"y\", \"categoryarray\": [\"JAKARTA BARAT\", \"JAKARTA UTARA\", \"JAKARTA PUSAT\", \"JAKARTA TIMUR\", \"JAKARTA SELATAN\", \"KAB.ADM.KEP.SERIBU\"], \"categoryorder\": \"array\", \"domain\": [0.0, 1.0], \"title\": {\"text\": \"Kabupaten\"}}, \"yaxis\": {\"anchor\": \"x\", \"domain\": [0.0, 1.0], \"title\": {\"text\": \"rasio_kepadatan\"}}},\n",
       "                        {\"responsive\": true}\n",
       "                    ).then(function(){\n",
       "                            \n",
       "var gd = document.getElementById('c640641f-0629-49a7-a78b-8a49eebb06f5');\n",
       "var x = new MutationObserver(function (mutations, observer) {{\n",
       "        var display = window.getComputedStyle(gd).display;\n",
       "        if (!display || display === 'none') {{\n",
       "            console.log([gd, 'removed!']);\n",
       "            Plotly.purge(gd);\n",
       "            observer.disconnect();\n",
       "        }}\n",
       "}});\n",
       "\n",
       "// Listen for the removal of the full notebook cells\n",
       "var notebookContainer = gd.closest('#notebook-container');\n",
       "if (notebookContainer) {{\n",
       "    x.observe(notebookContainer, {childList: true});\n",
       "}}\n",
       "\n",
       "// Listen for the clearing of the current output cell\n",
       "var outputEl = gd.closest('.output');\n",
       "if (outputEl) {{\n",
       "    x.observe(outputEl, {childList: true});\n",
       "}}\n",
       "\n",
       "                        })\n",
       "                };\n",
       "                \n",
       "            </script>\n",
       "        </div>\n",
       "</body>\n",
       "</html>"
      ]
     },
     "metadata": {
      "tags": []
     },
     "output_type": "display_data"
    }
   ],
   "source": [
    "import plotly.graph_objects as go\n",
    "import plotly.express as px\n",
    "\n",
    "fig=px.bar(gabungan3,y='rasio_kepadatan',x='Kabupaten',color='Kabupaten',template=\"plotly_dark\",title=\"<b>Rasio Kepadatan Kabupaten/Kota Jakarta Tahun 2013</b>\")\n",
    "fig.show()"
   ]
  },
  {
   "cell_type": "markdown",
   "metadata": {
    "id": "p8H8Mj1Li8kI"
   },
   "source": [
    "#### 4. Pemerintah ingin melaksanakan program vaksinasi x di wilayah Jakarta. Untuk itu, pemerintah memilih 3 kelurahan dengan luas wilayah terkecil dari masing-masing kota dan membagi penduduk menjadi 3 kelompok berdasarkan usia(35-49, 50-64, 65- >75) . Vaksinasi akan diprioritaskan pada:\n",
    "- Kelurahan  dengan persentase lansia (umur >60) terbesar\n",
    "\n",
    "#### Sebagai seorang ahli data, tentukanlah kelurahan-kelurahan yang akan dilaksanakan vaksinasi terlebih dahulu"
   ]
  },
  {
   "cell_type": "markdown",
   "metadata": {
    "id": "v0jxjMtCSm0Z"
   },
   "source": [
    "Jawab :\n",
    "###### Karena kelurahan yang dipilih pemerintah adalah masing-masing 3 kelurahan terkecil dari masing-masing Kabupaten/Kota. Maka *langkah pertama* adalah memfilter/mengekstrak 3 kelurahan terkecil per Kabupaten/Kota dari dataset. *Langkah kedua* adalah mengelompokkan umur penduduk menjadi 3 kelompok umur. Dan *terakhir* adalah membuat kolom 'persentase lansia' "
   ]
  },
  {
   "cell_type": "markdown",
   "metadata": {
    "id": "OKXQnGRfV3JO"
   },
   "source": [
    "\n",
    "\n",
    "##### Mari mulai dengan **langkah pertama**"
   ]
  },
  {
   "cell_type": "markdown",
   "metadata": {
    "id": "CpSqoWksWOvA"
   },
   "source": [
    "Idenya adalah, dengan memanfaatkan for-loop, kita ingin mencomot 3 baris pertama dengan luas wilayah terkecil untuk masing-masing Kabupaten/Kota. Lalu mengabungkannya bersama.\n",
    "\n",
    "\n",
    "Penjelasan kode di bawah :\n",
    "- *namakota* berisi nama kabupaten yang akan di-loop\n",
    "- *df_baru* adalah dataframe **kosong** yang nantinya akan terus di-concat. Jika ingat dengan for-loop pada contoh nomor 2, df_baru ini bagaikan inisialisasi **b=0** sebelum for-loop\n",
    "- *dki[dki['NAMA KABUPATEN/KOTA']==i]* akan menampilkan dataframe yang 'NAMA KABUPATEN/KOTA'nya adalah **i** saja (subsetting dataframe)\n",
    "- *sort_values(by='LUAS WILAYAH (KM2)',ascending=True)* akan mengurutkan baris dataframe berdasarkan luas wilayah, dengan urutan dimulai dari nilai terkecil\n",
    "- [0:3] melakukan slicing pada dataframe dengan mengambil baris tiga teratas\n",
    "- *pd.concat* berfungsi untuk menggabungkan dataframe"
   ]
  },
  {
   "cell_type": "code",
   "execution_count": null,
   "metadata": {
    "id": "IWdkCCTrkN_F"
   },
   "outputs": [],
   "source": [
    "namakota = dki['NAMA KABUPATEN/KOTA'].unique()\n",
    "df_baru = pd.DataFrame()   #dataframe kosong\n",
    "\n",
    "for i in namakota:\n",
    "  aa = dki[dki['NAMA KABUPATEN/KOTA']==i].sort_values(by='LUAS WILAYAH (KM2)',ascending=True)[0:3]  #subsetting 3 terkecil\n",
    "  df_baru = pd.concat([df_baru,aa])  #gabungkan"
   ]
  },
  {
   "cell_type": "code",
   "execution_count": null,
   "metadata": {
    "colab": {
     "base_uri": "https://localhost:8080/",
     "height": 1000
    },
    "id": "_5XIZGGTkCYW",
    "outputId": "387e8242-c34f-4260-b76c-97f16dbe4bb4"
   },
   "outputs": [
    {
     "data": {
      "text/html": [
       "<div>\n",
       "<style scoped>\n",
       "    .dataframe tbody tr th:only-of-type {\n",
       "        vertical-align: middle;\n",
       "    }\n",
       "\n",
       "    .dataframe tbody tr th {\n",
       "        vertical-align: top;\n",
       "    }\n",
       "\n",
       "    .dataframe thead th {\n",
       "        text-align: right;\n",
       "    }\n",
       "</style>\n",
       "<table border=\"1\" class=\"dataframe\">\n",
       "  <thead>\n",
       "    <tr style=\"text-align: right;\">\n",
       "      <th></th>\n",
       "      <th>TAHUN</th>\n",
       "      <th>NAMA PROVINSI</th>\n",
       "      <th>NAMA KABUPATEN/KOTA</th>\n",
       "      <th>NAMA KECAMATAN</th>\n",
       "      <th>NAMA KELURAHAN</th>\n",
       "      <th>LUAS WILAYAH (KM2)</th>\n",
       "      <th>KEPADATAN (JIWA/KM2)</th>\n",
       "      <th>35-39 Laki-Laki</th>\n",
       "      <th>35-39 Perempuan</th>\n",
       "      <th>40-44 Laki-Laki</th>\n",
       "      <th>40-44 Perempuan</th>\n",
       "      <th>45-49 Laki-Laki</th>\n",
       "      <th>45-49 Perempuan</th>\n",
       "      <th>50-54 Laki-Laki</th>\n",
       "      <th>50-54 Perempuan</th>\n",
       "      <th>55-59 Laki-Laki</th>\n",
       "      <th>55-59 Perempuan</th>\n",
       "      <th>60-64 Laki-Laki</th>\n",
       "      <th>60-64 Perempuan</th>\n",
       "      <th>65-69 Laki-Laki</th>\n",
       "      <th>65-69 Perempuan</th>\n",
       "      <th>70-74 Laki-Laki</th>\n",
       "      <th>70-74 Perempuan</th>\n",
       "      <th>&gt;75 Laki-Laki</th>\n",
       "      <th>&gt;75  Perempuan</th>\n",
       "    </tr>\n",
       "  </thead>\n",
       "  <tbody>\n",
       "    <tr>\n",
       "      <th>3</th>\n",
       "      <td>2013</td>\n",
       "      <td>PROVINSI DKI JAKARTA</td>\n",
       "      <td>KAB.ADM.KEP.SERIBU</td>\n",
       "      <td>KEP. SERIBU SLT</td>\n",
       "      <td>P. UNTUNG JAWA</td>\n",
       "      <td>0.59</td>\n",
       "      <td>3625</td>\n",
       "      <td>199</td>\n",
       "      <td>185</td>\n",
       "      <td>178</td>\n",
       "      <td>176</td>\n",
       "      <td>162</td>\n",
       "      <td>139</td>\n",
       "      <td>100</td>\n",
       "      <td>119</td>\n",
       "      <td>97</td>\n",
       "      <td>83</td>\n",
       "      <td>58</td>\n",
       "      <td>56</td>\n",
       "      <td>40</td>\n",
       "      <td>54</td>\n",
       "      <td>26</td>\n",
       "      <td>27</td>\n",
       "      <td>16</td>\n",
       "      <td>13</td>\n",
       "    </tr>\n",
       "    <tr>\n",
       "      <th>0</th>\n",
       "      <td>2013</td>\n",
       "      <td>PROVINSI DKI JAKARTA</td>\n",
       "      <td>KAB.ADM.KEP.SERIBU</td>\n",
       "      <td>KEP. SERIBU UTR</td>\n",
       "      <td>P. PANGGANG</td>\n",
       "      <td>0.91</td>\n",
       "      <td>6779</td>\n",
       "      <td>231</td>\n",
       "      <td>235</td>\n",
       "      <td>233</td>\n",
       "      <td>210</td>\n",
       "      <td>171</td>\n",
       "      <td>158</td>\n",
       "      <td>137</td>\n",
       "      <td>126</td>\n",
       "      <td>98</td>\n",
       "      <td>106</td>\n",
       "      <td>72</td>\n",
       "      <td>65</td>\n",
       "      <td>36</td>\n",
       "      <td>33</td>\n",
       "      <td>33</td>\n",
       "      <td>20</td>\n",
       "      <td>13</td>\n",
       "      <td>27</td>\n",
       "    </tr>\n",
       "    <tr>\n",
       "      <th>5</th>\n",
       "      <td>2013</td>\n",
       "      <td>PROVINSI DKI JAKARTA</td>\n",
       "      <td>KAB.ADM.KEP.SERIBU</td>\n",
       "      <td>KEP. SERIBU SLT</td>\n",
       "      <td>P. PARI</td>\n",
       "      <td>1.39</td>\n",
       "      <td>1968</td>\n",
       "      <td>113</td>\n",
       "      <td>112</td>\n",
       "      <td>108</td>\n",
       "      <td>80</td>\n",
       "      <td>66</td>\n",
       "      <td>62</td>\n",
       "      <td>61</td>\n",
       "      <td>63</td>\n",
       "      <td>37</td>\n",
       "      <td>36</td>\n",
       "      <td>32</td>\n",
       "      <td>26</td>\n",
       "      <td>21</td>\n",
       "      <td>14</td>\n",
       "      <td>17</td>\n",
       "      <td>11</td>\n",
       "      <td>8</td>\n",
       "      <td>7</td>\n",
       "    </tr>\n",
       "    <tr>\n",
       "      <th>48</th>\n",
       "      <td>2013</td>\n",
       "      <td>PROVINSI DKI JAKARTA</td>\n",
       "      <td>JAKARTA PUSAT</td>\n",
       "      <td>JOHAR BARU</td>\n",
       "      <td>GALUR</td>\n",
       "      <td>0.27</td>\n",
       "      <td>79022</td>\n",
       "      <td>999</td>\n",
       "      <td>1060</td>\n",
       "      <td>925</td>\n",
       "      <td>982</td>\n",
       "      <td>820</td>\n",
       "      <td>795</td>\n",
       "      <td>727</td>\n",
       "      <td>621</td>\n",
       "      <td>535</td>\n",
       "      <td>436</td>\n",
       "      <td>421</td>\n",
       "      <td>259</td>\n",
       "      <td>257</td>\n",
       "      <td>139</td>\n",
       "      <td>169</td>\n",
       "      <td>124</td>\n",
       "      <td>130</td>\n",
       "      <td>64</td>\n",
       "    </tr>\n",
       "    <tr>\n",
       "      <th>47</th>\n",
       "      <td>2013</td>\n",
       "      <td>PROVINSI DKI JAKARTA</td>\n",
       "      <td>JAKARTA PUSAT</td>\n",
       "      <td>JOHAR BARU</td>\n",
       "      <td>KAMPUNG RAWA</td>\n",
       "      <td>0.30</td>\n",
       "      <td>86123</td>\n",
       "      <td>1210</td>\n",
       "      <td>1255</td>\n",
       "      <td>1139</td>\n",
       "      <td>1181</td>\n",
       "      <td>972</td>\n",
       "      <td>892</td>\n",
       "      <td>830</td>\n",
       "      <td>663</td>\n",
       "      <td>663</td>\n",
       "      <td>547</td>\n",
       "      <td>495</td>\n",
       "      <td>300</td>\n",
       "      <td>339</td>\n",
       "      <td>176</td>\n",
       "      <td>189</td>\n",
       "      <td>144</td>\n",
       "      <td>175</td>\n",
       "      <td>92</td>\n",
       "    </tr>\n",
       "    <tr>\n",
       "      <th>29</th>\n",
       "      <td>2013</td>\n",
       "      <td>PROVINSI DKI JAKARTA</td>\n",
       "      <td>JAKARTA PUSAT</td>\n",
       "      <td>SENEN</td>\n",
       "      <td>KWITANG</td>\n",
       "      <td>0.45</td>\n",
       "      <td>40724</td>\n",
       "      <td>908</td>\n",
       "      <td>793</td>\n",
       "      <td>790</td>\n",
       "      <td>727</td>\n",
       "      <td>648</td>\n",
       "      <td>667</td>\n",
       "      <td>641</td>\n",
       "      <td>513</td>\n",
       "      <td>587</td>\n",
       "      <td>459</td>\n",
       "      <td>459</td>\n",
       "      <td>310</td>\n",
       "      <td>371</td>\n",
       "      <td>157</td>\n",
       "      <td>192</td>\n",
       "      <td>105</td>\n",
       "      <td>153</td>\n",
       "      <td>95</td>\n",
       "    </tr>\n",
       "    <tr>\n",
       "      <th>61</th>\n",
       "      <td>2013</td>\n",
       "      <td>PROVINSI DKI JAKARTA</td>\n",
       "      <td>JAKARTA UTARA</td>\n",
       "      <td>TANJUNG PRIOK</td>\n",
       "      <td>WARAKAS</td>\n",
       "      <td>1.09</td>\n",
       "      <td>49384</td>\n",
       "      <td>4224</td>\n",
       "      <td>2608</td>\n",
       "      <td>2342</td>\n",
       "      <td>4950</td>\n",
       "      <td>2968</td>\n",
       "      <td>2790</td>\n",
       "      <td>5758</td>\n",
       "      <td>2738</td>\n",
       "      <td>2664</td>\n",
       "      <td>5402</td>\n",
       "      <td>2338</td>\n",
       "      <td>2234</td>\n",
       "      <td>4572</td>\n",
       "      <td>1858</td>\n",
       "      <td>1749</td>\n",
       "      <td>3607</td>\n",
       "      <td>1347</td>\n",
       "      <td>1235</td>\n",
       "    </tr>\n",
       "    <tr>\n",
       "      <th>65</th>\n",
       "      <td>2013</td>\n",
       "      <td>PROVINSI DKI JAKARTA</td>\n",
       "      <td>JAKARTA UTARA</td>\n",
       "      <td>KOJA</td>\n",
       "      <td>RAWA BADAK UTARA</td>\n",
       "      <td>1.33</td>\n",
       "      <td>31357</td>\n",
       "      <td>3260</td>\n",
       "      <td>2064</td>\n",
       "      <td>1867</td>\n",
       "      <td>3931</td>\n",
       "      <td>2296</td>\n",
       "      <td>2231</td>\n",
       "      <td>4527</td>\n",
       "      <td>2095</td>\n",
       "      <td>1898</td>\n",
       "      <td>3993</td>\n",
       "      <td>1829</td>\n",
       "      <td>1643</td>\n",
       "      <td>3472</td>\n",
       "      <td>1398</td>\n",
       "      <td>1246</td>\n",
       "      <td>2644</td>\n",
       "      <td>996</td>\n",
       "      <td>1023</td>\n",
       "    </tr>\n",
       "    <tr>\n",
       "      <th>67</th>\n",
       "      <td>2013</td>\n",
       "      <td>PROVINSI DKI JAKARTA</td>\n",
       "      <td>JAKARTA UTARA</td>\n",
       "      <td>KOJA</td>\n",
       "      <td>RAWA BADAK SELATAN</td>\n",
       "      <td>1.33</td>\n",
       "      <td>35441</td>\n",
       "      <td>3910</td>\n",
       "      <td>2420</td>\n",
       "      <td>2294</td>\n",
       "      <td>4714</td>\n",
       "      <td>2626</td>\n",
       "      <td>2681</td>\n",
       "      <td>5307</td>\n",
       "      <td>2239</td>\n",
       "      <td>2110</td>\n",
       "      <td>4349</td>\n",
       "      <td>1925</td>\n",
       "      <td>1641</td>\n",
       "      <td>3566</td>\n",
       "      <td>1423</td>\n",
       "      <td>1339</td>\n",
       "      <td>2762</td>\n",
       "      <td>1036</td>\n",
       "      <td>1121</td>\n",
       "    </tr>\n",
       "    <tr>\n",
       "      <th>102</th>\n",
       "      <td>2013</td>\n",
       "      <td>PROVINSI DKI JAKARTA</td>\n",
       "      <td>JAKARTA BARAT</td>\n",
       "      <td>TAMBORA</td>\n",
       "      <td>TAMBORA</td>\n",
       "      <td>0.28</td>\n",
       "      <td>45375</td>\n",
       "      <td>968</td>\n",
       "      <td>588</td>\n",
       "      <td>544</td>\n",
       "      <td>1132</td>\n",
       "      <td>646</td>\n",
       "      <td>593</td>\n",
       "      <td>1239</td>\n",
       "      <td>598</td>\n",
       "      <td>522</td>\n",
       "      <td>1120</td>\n",
       "      <td>544</td>\n",
       "      <td>451</td>\n",
       "      <td>995</td>\n",
       "      <td>460</td>\n",
       "      <td>425</td>\n",
       "      <td>885</td>\n",
       "      <td>385</td>\n",
       "      <td>368</td>\n",
       "    </tr>\n",
       "    <tr>\n",
       "      <th>99</th>\n",
       "      <td>2013</td>\n",
       "      <td>PROVINSI DKI JAKARTA</td>\n",
       "      <td>JAKARTA BARAT</td>\n",
       "      <td>TAMAN SARI</td>\n",
       "      <td>KEAGUNGAN</td>\n",
       "      <td>0.32</td>\n",
       "      <td>65800</td>\n",
       "      <td>1673</td>\n",
       "      <td>975</td>\n",
       "      <td>932</td>\n",
       "      <td>1907</td>\n",
       "      <td>1117</td>\n",
       "      <td>1017</td>\n",
       "      <td>2134</td>\n",
       "      <td>1030</td>\n",
       "      <td>910</td>\n",
       "      <td>1940</td>\n",
       "      <td>941</td>\n",
       "      <td>778</td>\n",
       "      <td>1719</td>\n",
       "      <td>817</td>\n",
       "      <td>725</td>\n",
       "      <td>1542</td>\n",
       "      <td>662</td>\n",
       "      <td>578</td>\n",
       "    </tr>\n",
       "    <tr>\n",
       "      <th>103</th>\n",
       "      <td>2013</td>\n",
       "      <td>PROVINSI DKI JAKARTA</td>\n",
       "      <td>JAKARTA BARAT</td>\n",
       "      <td>TAMBORA</td>\n",
       "      <td>KALI ANYAR</td>\n",
       "      <td>0.32</td>\n",
       "      <td>94166</td>\n",
       "      <td>2532</td>\n",
       "      <td>1567</td>\n",
       "      <td>1530</td>\n",
       "      <td>3097</td>\n",
       "      <td>1775</td>\n",
       "      <td>1554</td>\n",
       "      <td>3329</td>\n",
       "      <td>1549</td>\n",
       "      <td>1275</td>\n",
       "      <td>2824</td>\n",
       "      <td>1251</td>\n",
       "      <td>1022</td>\n",
       "      <td>2273</td>\n",
       "      <td>1035</td>\n",
       "      <td>841</td>\n",
       "      <td>1876</td>\n",
       "      <td>808</td>\n",
       "      <td>746</td>\n",
       "    </tr>\n",
       "    <tr>\n",
       "      <th>142</th>\n",
       "      <td>2013</td>\n",
       "      <td>PROVINSI DKI JAKARTA</td>\n",
       "      <td>JAKARTA SELATAN</td>\n",
       "      <td>TEBET</td>\n",
       "      <td>MANGGARAI SELATAN</td>\n",
       "      <td>0.51</td>\n",
       "      <td>52659</td>\n",
       "      <td>1239</td>\n",
       "      <td>1289</td>\n",
       "      <td>1238</td>\n",
       "      <td>1198</td>\n",
       "      <td>1080</td>\n",
       "      <td>1007</td>\n",
       "      <td>790</td>\n",
       "      <td>757</td>\n",
       "      <td>607</td>\n",
       "      <td>634</td>\n",
       "      <td>361</td>\n",
       "      <td>414</td>\n",
       "      <td>212</td>\n",
       "      <td>288</td>\n",
       "      <td>218</td>\n",
       "      <td>229</td>\n",
       "      <td>127</td>\n",
       "      <td>178</td>\n",
       "    </tr>\n",
       "    <tr>\n",
       "      <th>150</th>\n",
       "      <td>2013</td>\n",
       "      <td>PROVINSI DKI JAKARTA</td>\n",
       "      <td>JAKARTA SELATAN</td>\n",
       "      <td>SETIA BUDI</td>\n",
       "      <td>GUNTUR</td>\n",
       "      <td>0.65</td>\n",
       "      <td>7174</td>\n",
       "      <td>208</td>\n",
       "      <td>206</td>\n",
       "      <td>186</td>\n",
       "      <td>192</td>\n",
       "      <td>181</td>\n",
       "      <td>205</td>\n",
       "      <td>168</td>\n",
       "      <td>152</td>\n",
       "      <td>140</td>\n",
       "      <td>157</td>\n",
       "      <td>114</td>\n",
       "      <td>115</td>\n",
       "      <td>62</td>\n",
       "      <td>78</td>\n",
       "      <td>55</td>\n",
       "      <td>45</td>\n",
       "      <td>37</td>\n",
       "      <td>84</td>\n",
       "    </tr>\n",
       "    <tr>\n",
       "      <th>187</th>\n",
       "      <td>2013</td>\n",
       "      <td>PROVINSI DKI JAKARTA</td>\n",
       "      <td>JAKARTA SELATAN</td>\n",
       "      <td>PANCORAN</td>\n",
       "      <td>RAWA JATI</td>\n",
       "      <td>0.67</td>\n",
       "      <td>29915</td>\n",
       "      <td>990</td>\n",
       "      <td>985</td>\n",
       "      <td>970</td>\n",
       "      <td>902</td>\n",
       "      <td>786</td>\n",
       "      <td>683</td>\n",
       "      <td>517</td>\n",
       "      <td>527</td>\n",
       "      <td>400</td>\n",
       "      <td>439</td>\n",
       "      <td>294</td>\n",
       "      <td>309</td>\n",
       "      <td>174</td>\n",
       "      <td>200</td>\n",
       "      <td>154</td>\n",
       "      <td>126</td>\n",
       "      <td>69</td>\n",
       "      <td>80</td>\n",
       "    </tr>\n",
       "    <tr>\n",
       "      <th>215</th>\n",
       "      <td>2013</td>\n",
       "      <td>PROVINSI DKI JAKARTA</td>\n",
       "      <td>JAKARTA TIMUR</td>\n",
       "      <td>JATINEGARA</td>\n",
       "      <td>KAMPUNG MELAYU</td>\n",
       "      <td>0.48</td>\n",
       "      <td>63973</td>\n",
       "      <td>1361</td>\n",
       "      <td>1154</td>\n",
       "      <td>1236</td>\n",
       "      <td>1050</td>\n",
       "      <td>1016</td>\n",
       "      <td>1029</td>\n",
       "      <td>864</td>\n",
       "      <td>848</td>\n",
       "      <td>694</td>\n",
       "      <td>601</td>\n",
       "      <td>436</td>\n",
       "      <td>409</td>\n",
       "      <td>205</td>\n",
       "      <td>294</td>\n",
       "      <td>151</td>\n",
       "      <td>173</td>\n",
       "      <td>121</td>\n",
       "      <td>159</td>\n",
       "    </tr>\n",
       "    <tr>\n",
       "      <th>204</th>\n",
       "      <td>2013</td>\n",
       "      <td>PROVINSI DKI JAKARTA</td>\n",
       "      <td>JAKARTA TIMUR</td>\n",
       "      <td>MATRAMAN</td>\n",
       "      <td>KAYU MANIS</td>\n",
       "      <td>0.57</td>\n",
       "      <td>52740</td>\n",
       "      <td>1377</td>\n",
       "      <td>1336</td>\n",
       "      <td>1271</td>\n",
       "      <td>1337</td>\n",
       "      <td>1173</td>\n",
       "      <td>1144</td>\n",
       "      <td>868</td>\n",
       "      <td>899</td>\n",
       "      <td>676</td>\n",
       "      <td>690</td>\n",
       "      <td>450</td>\n",
       "      <td>450</td>\n",
       "      <td>249</td>\n",
       "      <td>276</td>\n",
       "      <td>172</td>\n",
       "      <td>219</td>\n",
       "      <td>111</td>\n",
       "      <td>185</td>\n",
       "    </tr>\n",
       "    <tr>\n",
       "      <th>205</th>\n",
       "      <td>2013</td>\n",
       "      <td>PROVINSI DKI JAKARTA</td>\n",
       "      <td>JAKARTA TIMUR</td>\n",
       "      <td>MATRAMAN</td>\n",
       "      <td>PAL MERIAM</td>\n",
       "      <td>0.65</td>\n",
       "      <td>36818</td>\n",
       "      <td>1101</td>\n",
       "      <td>1061</td>\n",
       "      <td>1061</td>\n",
       "      <td>1001</td>\n",
       "      <td>934</td>\n",
       "      <td>879</td>\n",
       "      <td>790</td>\n",
       "      <td>722</td>\n",
       "      <td>577</td>\n",
       "      <td>563</td>\n",
       "      <td>351</td>\n",
       "      <td>398</td>\n",
       "      <td>181</td>\n",
       "      <td>240</td>\n",
       "      <td>151</td>\n",
       "      <td>169</td>\n",
       "      <td>131</td>\n",
       "      <td>204</td>\n",
       "    </tr>\n",
       "  </tbody>\n",
       "</table>\n",
       "</div>"
      ],
      "text/plain": [
       "     TAHUN         NAMA PROVINSI  ... >75 Laki-Laki >75  Perempuan\n",
       "3     2013  PROVINSI DKI JAKARTA  ...            16             13\n",
       "0     2013  PROVINSI DKI JAKARTA  ...            13             27\n",
       "5     2013  PROVINSI DKI JAKARTA  ...             8              7\n",
       "48    2013  PROVINSI DKI JAKARTA  ...           130             64\n",
       "47    2013  PROVINSI DKI JAKARTA  ...           175             92\n",
       "29    2013  PROVINSI DKI JAKARTA  ...           153             95\n",
       "61    2013  PROVINSI DKI JAKARTA  ...          1347           1235\n",
       "65    2013  PROVINSI DKI JAKARTA  ...           996           1023\n",
       "67    2013  PROVINSI DKI JAKARTA  ...          1036           1121\n",
       "102   2013  PROVINSI DKI JAKARTA  ...           385            368\n",
       "99    2013  PROVINSI DKI JAKARTA  ...           662            578\n",
       "103   2013  PROVINSI DKI JAKARTA  ...           808            746\n",
       "142   2013  PROVINSI DKI JAKARTA  ...           127            178\n",
       "150   2013  PROVINSI DKI JAKARTA  ...            37             84\n",
       "187   2013  PROVINSI DKI JAKARTA  ...            69             80\n",
       "215   2013  PROVINSI DKI JAKARTA  ...           121            159\n",
       "204   2013  PROVINSI DKI JAKARTA  ...           111            185\n",
       "205   2013  PROVINSI DKI JAKARTA  ...           131            204\n",
       "\n",
       "[18 rows x 25 columns]"
      ]
     },
     "execution_count": 18,
     "metadata": {
      "tags": []
     },
     "output_type": "execute_result"
    }
   ],
   "source": [
    "df_baru"
   ]
  },
  {
   "cell_type": "markdown",
   "metadata": {
    "id": "AgUgb5G5ZR0d"
   },
   "source": [
    "**Langkah Kedua**\n",
    "\n",
    "Setelah itu, kita akan menggelompokkan usia penduduk menjadi 3 kelompok umur, yaitu:\n",
    "- Umur 35-49\n",
    "- Umur 50-64\n",
    "- Umur 65- diatas 75"
   ]
  },
  {
   "cell_type": "code",
   "execution_count": null,
   "metadata": {
    "colab": {
     "base_uri": "https://localhost:8080/"
    },
    "id": "b5q2six4pn8Y",
    "outputId": "cd3855eb-1462-4fc2-8742-d68f7caae082"
   },
   "outputs": [
    {
     "data": {
      "text/plain": [
       "Index(['TAHUN', 'NAMA PROVINSI', 'NAMA KABUPATEN/KOTA', 'NAMA KECAMATAN',\n",
       "       'NAMA KELURAHAN', 'LUAS WILAYAH (KM2)', 'KEPADATAN (JIWA/KM2)',\n",
       "       '35-39 Laki-Laki', '35-39 Perempuan', '40-44 Laki-Laki',\n",
       "       '40-44 Perempuan', '45-49 Laki-Laki', '45-49 Perempuan',\n",
       "       '50-54 Laki-Laki', '50-54 Perempuan', '55-59 Laki-Laki',\n",
       "       '55-59 Perempuan', '60-64 Laki-Laki', '60-64 Perempuan',\n",
       "       '65-69 Laki-Laki', '65-69 Perempuan', '70-74 Laki-Laki',\n",
       "       '70-74 Perempuan', '>75 Laki-Laki', '>75  Perempuan'],\n",
       "      dtype='object')"
      ]
     },
     "execution_count": 150,
     "metadata": {
      "tags": []
     },
     "output_type": "execute_result"
    }
   ],
   "source": [
    "#Selanjutnya akan dibuat 3 kelompok umur\n",
    "df_baru.columns"
   ]
  },
  {
   "cell_type": "markdown",
   "metadata": {
    "id": "BbSS2eD0Z7iK"
   },
   "source": [
    "Perhatikan, index pada *df_baru.columns* untuk kelompok umur pertama adalah index ke 7 hingga 12, kelompok kedua adalah 13 hingga 18, kelompok ketiga adalah 29 hingga 25. "
   ]
  },
  {
   "cell_type": "code",
   "execution_count": null,
   "metadata": {
    "colab": {
     "base_uri": "https://localhost:8080/"
    },
    "id": "8xrlXrMQub7J",
    "outputId": "13eb02f8-8edc-47c5-90fa-e4d57fc944e9"
   },
   "outputs": [
    {
     "data": {
      "text/plain": [
       "Index(['35-39 Laki-Laki', '35-39 Perempuan', '40-44 Laki-Laki',\n",
       "       '40-44 Perempuan', '45-49 Laki-Laki', '45-49 Perempuan'],\n",
       "      dtype='object')"
      ]
     },
     "execution_count": 179,
     "metadata": {
      "tags": []
     },
     "output_type": "execute_result"
    }
   ],
   "source": [
    "df_baru.columns[7:13]  #7,8,9,10,11,12"
   ]
  },
  {
   "cell_type": "code",
   "execution_count": null,
   "metadata": {
    "colab": {
     "base_uri": "https://localhost:8080/"
    },
    "id": "IEI-fG8HaYWJ",
    "outputId": "c288f47e-366f-46a4-e66c-fde9c7e54009"
   },
   "outputs": [
    {
     "data": {
      "text/plain": [
       "Index(['50-54 Laki-Laki', '50-54 Perempuan', '55-59 Laki-Laki',\n",
       "       '55-59 Perempuan', '60-64 Laki-Laki', '60-64 Perempuan'],\n",
       "      dtype='object')"
      ]
     },
     "execution_count": 19,
     "metadata": {
      "tags": []
     },
     "output_type": "execute_result"
    }
   ],
   "source": [
    "df_baru.columns[13:19]"
   ]
  },
  {
   "cell_type": "code",
   "execution_count": null,
   "metadata": {
    "colab": {
     "base_uri": "https://localhost:8080/"
    },
    "id": "9dJX4Trpugwu",
    "outputId": "092e2523-ef00-4b8a-9577-c88631541dd7"
   },
   "outputs": [
    {
     "data": {
      "text/plain": [
       "Index(['65-69 Laki-Laki', '65-69 Perempuan', '70-74 Laki-Laki',\n",
       "       '70-74 Perempuan', '>75 Laki-Laki', '>75  Perempuan'],\n",
       "      dtype='object')"
      ]
     },
     "execution_count": 20,
     "metadata": {
      "tags": []
     },
     "output_type": "execute_result"
    }
   ],
   "source": [
    "df_baru.columns[19:25]"
   ]
  },
  {
   "cell_type": "markdown",
   "metadata": {
    "id": "jKsxTShxcMij"
   },
   "source": [
    "Agar lebih sederhana, pengelompokkan umur akan dilakukan dengan **apply** function, maka harus dibuat **function** terlebih dahulu yang nantinya akan di-apply ke dataframe. \n",
    "\n",
    "Penjelasan kode di bawah: (ambil contoh **def kel1(x)**)\n",
    "- *kel1(x)* berupa nama function yang kita define\n",
    "- *w* berisi nama-nama kolom untuk kelompok umur pertama\n",
    "- Karena nantinya function ini akan di-apply pada dataframe *df_baru*, maka *x* disini merupakan *df_baru*. Sehingga, *x[w[0]]* merupakan *df_baru['35-39 Laki-Laki']* (perhatikan w[0], yaitu elemen pertama pada w adalah '35-39 Laki-Laki'). Hal ini juga berlaku pada *x[w[1]]*, *x[w[2]]*, dst.\n",
    "- *wow* berisi penjumlahan dari 6 kolom di atas\n",
    "\n",
    "Perbedaan kel1, kel2, kel3 hanya terdapat pada *w*, yaitu kolom yang akan digabung."
   ]
  },
  {
   "cell_type": "code",
   "execution_count": null,
   "metadata": {
    "id": "-ckC-XeKqPA0"
   },
   "outputs": [],
   "source": [
    "def kel1(x):\n",
    "  w = df_baru.columns[7:13]\n",
    "  wow = x[w[0]]+x[w[1]]+x[w[2]]+x[w[3]]+x[w[4]]+x[w[5]]  \n",
    "  return wow\n",
    "\n",
    "def kel2(x):\n",
    "  w = df_baru.columns[13:19]\n",
    "  wow = x[w[0]]+x[w[1]]+x[w[2]]+x[w[3]]+x[w[4]]+x[w[5]]\n",
    "  return wow\n",
    "\n",
    "def kel3(x):\n",
    "  w = df_baru.columns[19:25]\n",
    "  wow = x[w[0]]+x[w[1]]+x[w[2]]+x[w[3]]+x[w[4]]+x[w[5]]\n",
    "  return wow"
   ]
  },
  {
   "cell_type": "markdown",
   "metadata": {
    "id": "S7A4re5keks0"
   },
   "source": [
    "Hasil pengelompokkan akan disimpan pada kolom baru *df_baru* dengan nama *kelompok 1*, *kelompok 2*, *kelompok 3*"
   ]
  },
  {
   "cell_type": "code",
   "execution_count": null,
   "metadata": {
    "id": "AZcyqz7hquXx"
   },
   "outputs": [],
   "source": [
    "df_baru['kelompok 1'] = df_baru.apply(lambda x: kel1(x), axis=1)\n",
    "df_baru['kelompok 2'] = df_baru.apply(lambda x: kel2(x), axis=1)\n",
    "df_baru['kelompok 3'] = df_baru.apply(lambda x: kel3(x), axis=1)"
   ]
  },
  {
   "cell_type": "code",
   "execution_count": null,
   "metadata": {
    "colab": {
     "base_uri": "https://localhost:8080/",
     "height": 435
    },
    "id": "uc8j4_Jkp8ks",
    "outputId": "f7a51baa-1502-4b51-bfcf-689fd5c1b558"
   },
   "outputs": [
    {
     "data": {
      "text/html": [
       "<div>\n",
       "<style scoped>\n",
       "    .dataframe tbody tr th:only-of-type {\n",
       "        vertical-align: middle;\n",
       "    }\n",
       "\n",
       "    .dataframe tbody tr th {\n",
       "        vertical-align: top;\n",
       "    }\n",
       "\n",
       "    .dataframe thead th {\n",
       "        text-align: right;\n",
       "    }\n",
       "</style>\n",
       "<table border=\"1\" class=\"dataframe\">\n",
       "  <thead>\n",
       "    <tr style=\"text-align: right;\">\n",
       "      <th></th>\n",
       "      <th>TAHUN</th>\n",
       "      <th>NAMA PROVINSI</th>\n",
       "      <th>NAMA KABUPATEN/KOTA</th>\n",
       "      <th>NAMA KECAMATAN</th>\n",
       "      <th>NAMA KELURAHAN</th>\n",
       "      <th>LUAS WILAYAH (KM2)</th>\n",
       "      <th>KEPADATAN (JIWA/KM2)</th>\n",
       "      <th>35-39 Laki-Laki</th>\n",
       "      <th>35-39 Perempuan</th>\n",
       "      <th>40-44 Laki-Laki</th>\n",
       "      <th>40-44 Perempuan</th>\n",
       "      <th>45-49 Laki-Laki</th>\n",
       "      <th>45-49 Perempuan</th>\n",
       "      <th>50-54 Laki-Laki</th>\n",
       "      <th>50-54 Perempuan</th>\n",
       "      <th>55-59 Laki-Laki</th>\n",
       "      <th>55-59 Perempuan</th>\n",
       "      <th>60-64 Laki-Laki</th>\n",
       "      <th>60-64 Perempuan</th>\n",
       "      <th>65-69 Laki-Laki</th>\n",
       "      <th>65-69 Perempuan</th>\n",
       "      <th>70-74 Laki-Laki</th>\n",
       "      <th>70-74 Perempuan</th>\n",
       "      <th>&gt;75 Laki-Laki</th>\n",
       "      <th>&gt;75  Perempuan</th>\n",
       "      <th>kelompok 1</th>\n",
       "      <th>kelompok 2</th>\n",
       "      <th>kelompok 3</th>\n",
       "    </tr>\n",
       "  </thead>\n",
       "  <tbody>\n",
       "    <tr>\n",
       "      <th>3</th>\n",
       "      <td>2013</td>\n",
       "      <td>PROVINSI DKI JAKARTA</td>\n",
       "      <td>KAB.ADM.KEP.SERIBU</td>\n",
       "      <td>KEP. SERIBU SLT</td>\n",
       "      <td>P. UNTUNG JAWA</td>\n",
       "      <td>0.59</td>\n",
       "      <td>3625</td>\n",
       "      <td>199</td>\n",
       "      <td>185</td>\n",
       "      <td>178</td>\n",
       "      <td>176</td>\n",
       "      <td>162</td>\n",
       "      <td>139</td>\n",
       "      <td>100</td>\n",
       "      <td>119</td>\n",
       "      <td>97</td>\n",
       "      <td>83</td>\n",
       "      <td>58</td>\n",
       "      <td>56</td>\n",
       "      <td>40</td>\n",
       "      <td>54</td>\n",
       "      <td>26</td>\n",
       "      <td>27</td>\n",
       "      <td>16</td>\n",
       "      <td>13</td>\n",
       "      <td>1039</td>\n",
       "      <td>513</td>\n",
       "      <td>176</td>\n",
       "    </tr>\n",
       "    <tr>\n",
       "      <th>0</th>\n",
       "      <td>2013</td>\n",
       "      <td>PROVINSI DKI JAKARTA</td>\n",
       "      <td>KAB.ADM.KEP.SERIBU</td>\n",
       "      <td>KEP. SERIBU UTR</td>\n",
       "      <td>P. PANGGANG</td>\n",
       "      <td>0.91</td>\n",
       "      <td>6779</td>\n",
       "      <td>231</td>\n",
       "      <td>235</td>\n",
       "      <td>233</td>\n",
       "      <td>210</td>\n",
       "      <td>171</td>\n",
       "      <td>158</td>\n",
       "      <td>137</td>\n",
       "      <td>126</td>\n",
       "      <td>98</td>\n",
       "      <td>106</td>\n",
       "      <td>72</td>\n",
       "      <td>65</td>\n",
       "      <td>36</td>\n",
       "      <td>33</td>\n",
       "      <td>33</td>\n",
       "      <td>20</td>\n",
       "      <td>13</td>\n",
       "      <td>27</td>\n",
       "      <td>1238</td>\n",
       "      <td>604</td>\n",
       "      <td>162</td>\n",
       "    </tr>\n",
       "    <tr>\n",
       "      <th>5</th>\n",
       "      <td>2013</td>\n",
       "      <td>PROVINSI DKI JAKARTA</td>\n",
       "      <td>KAB.ADM.KEP.SERIBU</td>\n",
       "      <td>KEP. SERIBU SLT</td>\n",
       "      <td>P. PARI</td>\n",
       "      <td>1.39</td>\n",
       "      <td>1968</td>\n",
       "      <td>113</td>\n",
       "      <td>112</td>\n",
       "      <td>108</td>\n",
       "      <td>80</td>\n",
       "      <td>66</td>\n",
       "      <td>62</td>\n",
       "      <td>61</td>\n",
       "      <td>63</td>\n",
       "      <td>37</td>\n",
       "      <td>36</td>\n",
       "      <td>32</td>\n",
       "      <td>26</td>\n",
       "      <td>21</td>\n",
       "      <td>14</td>\n",
       "      <td>17</td>\n",
       "      <td>11</td>\n",
       "      <td>8</td>\n",
       "      <td>7</td>\n",
       "      <td>541</td>\n",
       "      <td>255</td>\n",
       "      <td>78</td>\n",
       "    </tr>\n",
       "    <tr>\n",
       "      <th>48</th>\n",
       "      <td>2013</td>\n",
       "      <td>PROVINSI DKI JAKARTA</td>\n",
       "      <td>JAKARTA PUSAT</td>\n",
       "      <td>JOHAR BARU</td>\n",
       "      <td>GALUR</td>\n",
       "      <td>0.27</td>\n",
       "      <td>79022</td>\n",
       "      <td>999</td>\n",
       "      <td>1060</td>\n",
       "      <td>925</td>\n",
       "      <td>982</td>\n",
       "      <td>820</td>\n",
       "      <td>795</td>\n",
       "      <td>727</td>\n",
       "      <td>621</td>\n",
       "      <td>535</td>\n",
       "      <td>436</td>\n",
       "      <td>421</td>\n",
       "      <td>259</td>\n",
       "      <td>257</td>\n",
       "      <td>139</td>\n",
       "      <td>169</td>\n",
       "      <td>124</td>\n",
       "      <td>130</td>\n",
       "      <td>64</td>\n",
       "      <td>5581</td>\n",
       "      <td>2999</td>\n",
       "      <td>883</td>\n",
       "    </tr>\n",
       "    <tr>\n",
       "      <th>47</th>\n",
       "      <td>2013</td>\n",
       "      <td>PROVINSI DKI JAKARTA</td>\n",
       "      <td>JAKARTA PUSAT</td>\n",
       "      <td>JOHAR BARU</td>\n",
       "      <td>KAMPUNG RAWA</td>\n",
       "      <td>0.30</td>\n",
       "      <td>86123</td>\n",
       "      <td>1210</td>\n",
       "      <td>1255</td>\n",
       "      <td>1139</td>\n",
       "      <td>1181</td>\n",
       "      <td>972</td>\n",
       "      <td>892</td>\n",
       "      <td>830</td>\n",
       "      <td>663</td>\n",
       "      <td>663</td>\n",
       "      <td>547</td>\n",
       "      <td>495</td>\n",
       "      <td>300</td>\n",
       "      <td>339</td>\n",
       "      <td>176</td>\n",
       "      <td>189</td>\n",
       "      <td>144</td>\n",
       "      <td>175</td>\n",
       "      <td>92</td>\n",
       "      <td>6649</td>\n",
       "      <td>3498</td>\n",
       "      <td>1115</td>\n",
       "    </tr>\n",
       "  </tbody>\n",
       "</table>\n",
       "</div>"
      ],
      "text/plain": [
       "    TAHUN         NAMA PROVINSI  ... kelompok 2 kelompok 3\n",
       "3    2013  PROVINSI DKI JAKARTA  ...        513        176\n",
       "0    2013  PROVINSI DKI JAKARTA  ...        604        162\n",
       "5    2013  PROVINSI DKI JAKARTA  ...        255         78\n",
       "48   2013  PROVINSI DKI JAKARTA  ...       2999        883\n",
       "47   2013  PROVINSI DKI JAKARTA  ...       3498       1115\n",
       "\n",
       "[5 rows x 28 columns]"
      ]
     },
     "execution_count": 24,
     "metadata": {
      "tags": []
     },
     "output_type": "execute_result"
    }
   ],
   "source": [
    "df_baru.head()   #yang baru ada di kanannnn"
   ]
  },
  {
   "cell_type": "markdown",
   "metadata": {
    "id": "0rp0CgI2e8-I"
   },
   "source": [
    "**Langkah Ketiga**\n",
    "\n",
    "Buat kolom baru 'persentase lansia' yang diperoleh dari 'kelompok 3' (lansia) dibagi dengan 'kelompok 1'+'kelompok 2'+'kelompok 3' (total penduduk)"
   ]
  },
  {
   "cell_type": "code",
   "execution_count": null,
   "metadata": {
    "colab": {
     "base_uri": "https://localhost:8080/",
     "height": 435
    },
    "id": "PM8u8GEavZBt",
    "outputId": "4791975e-94e2-408d-9683-be33b5ada566"
   },
   "outputs": [
    {
     "data": {
      "text/html": [
       "<div>\n",
       "<style scoped>\n",
       "    .dataframe tbody tr th:only-of-type {\n",
       "        vertical-align: middle;\n",
       "    }\n",
       "\n",
       "    .dataframe tbody tr th {\n",
       "        vertical-align: top;\n",
       "    }\n",
       "\n",
       "    .dataframe thead th {\n",
       "        text-align: right;\n",
       "    }\n",
       "</style>\n",
       "<table border=\"1\" class=\"dataframe\">\n",
       "  <thead>\n",
       "    <tr style=\"text-align: right;\">\n",
       "      <th></th>\n",
       "      <th>TAHUN</th>\n",
       "      <th>NAMA PROVINSI</th>\n",
       "      <th>NAMA KABUPATEN/KOTA</th>\n",
       "      <th>NAMA KECAMATAN</th>\n",
       "      <th>NAMA KELURAHAN</th>\n",
       "      <th>LUAS WILAYAH (KM2)</th>\n",
       "      <th>KEPADATAN (JIWA/KM2)</th>\n",
       "      <th>35-39 Laki-Laki</th>\n",
       "      <th>35-39 Perempuan</th>\n",
       "      <th>40-44 Laki-Laki</th>\n",
       "      <th>40-44 Perempuan</th>\n",
       "      <th>45-49 Laki-Laki</th>\n",
       "      <th>45-49 Perempuan</th>\n",
       "      <th>50-54 Laki-Laki</th>\n",
       "      <th>50-54 Perempuan</th>\n",
       "      <th>55-59 Laki-Laki</th>\n",
       "      <th>55-59 Perempuan</th>\n",
       "      <th>60-64 Laki-Laki</th>\n",
       "      <th>60-64 Perempuan</th>\n",
       "      <th>65-69 Laki-Laki</th>\n",
       "      <th>65-69 Perempuan</th>\n",
       "      <th>70-74 Laki-Laki</th>\n",
       "      <th>70-74 Perempuan</th>\n",
       "      <th>&gt;75 Laki-Laki</th>\n",
       "      <th>&gt;75  Perempuan</th>\n",
       "      <th>kelompok 1</th>\n",
       "      <th>kelompok 2</th>\n",
       "      <th>kelompok 3</th>\n",
       "      <th>persentase lansia</th>\n",
       "    </tr>\n",
       "  </thead>\n",
       "  <tbody>\n",
       "    <tr>\n",
       "      <th>3</th>\n",
       "      <td>2013</td>\n",
       "      <td>PROVINSI DKI JAKARTA</td>\n",
       "      <td>KAB.ADM.KEP.SERIBU</td>\n",
       "      <td>KEP. SERIBU SLT</td>\n",
       "      <td>P. UNTUNG JAWA</td>\n",
       "      <td>0.59</td>\n",
       "      <td>3625</td>\n",
       "      <td>199</td>\n",
       "      <td>185</td>\n",
       "      <td>178</td>\n",
       "      <td>176</td>\n",
       "      <td>162</td>\n",
       "      <td>139</td>\n",
       "      <td>100</td>\n",
       "      <td>119</td>\n",
       "      <td>97</td>\n",
       "      <td>83</td>\n",
       "      <td>58</td>\n",
       "      <td>56</td>\n",
       "      <td>40</td>\n",
       "      <td>54</td>\n",
       "      <td>26</td>\n",
       "      <td>27</td>\n",
       "      <td>16</td>\n",
       "      <td>13</td>\n",
       "      <td>1039</td>\n",
       "      <td>513</td>\n",
       "      <td>176</td>\n",
       "      <td>0.101852</td>\n",
       "    </tr>\n",
       "    <tr>\n",
       "      <th>0</th>\n",
       "      <td>2013</td>\n",
       "      <td>PROVINSI DKI JAKARTA</td>\n",
       "      <td>KAB.ADM.KEP.SERIBU</td>\n",
       "      <td>KEP. SERIBU UTR</td>\n",
       "      <td>P. PANGGANG</td>\n",
       "      <td>0.91</td>\n",
       "      <td>6779</td>\n",
       "      <td>231</td>\n",
       "      <td>235</td>\n",
       "      <td>233</td>\n",
       "      <td>210</td>\n",
       "      <td>171</td>\n",
       "      <td>158</td>\n",
       "      <td>137</td>\n",
       "      <td>126</td>\n",
       "      <td>98</td>\n",
       "      <td>106</td>\n",
       "      <td>72</td>\n",
       "      <td>65</td>\n",
       "      <td>36</td>\n",
       "      <td>33</td>\n",
       "      <td>33</td>\n",
       "      <td>20</td>\n",
       "      <td>13</td>\n",
       "      <td>27</td>\n",
       "      <td>1238</td>\n",
       "      <td>604</td>\n",
       "      <td>162</td>\n",
       "      <td>0.080838</td>\n",
       "    </tr>\n",
       "    <tr>\n",
       "      <th>5</th>\n",
       "      <td>2013</td>\n",
       "      <td>PROVINSI DKI JAKARTA</td>\n",
       "      <td>KAB.ADM.KEP.SERIBU</td>\n",
       "      <td>KEP. SERIBU SLT</td>\n",
       "      <td>P. PARI</td>\n",
       "      <td>1.39</td>\n",
       "      <td>1968</td>\n",
       "      <td>113</td>\n",
       "      <td>112</td>\n",
       "      <td>108</td>\n",
       "      <td>80</td>\n",
       "      <td>66</td>\n",
       "      <td>62</td>\n",
       "      <td>61</td>\n",
       "      <td>63</td>\n",
       "      <td>37</td>\n",
       "      <td>36</td>\n",
       "      <td>32</td>\n",
       "      <td>26</td>\n",
       "      <td>21</td>\n",
       "      <td>14</td>\n",
       "      <td>17</td>\n",
       "      <td>11</td>\n",
       "      <td>8</td>\n",
       "      <td>7</td>\n",
       "      <td>541</td>\n",
       "      <td>255</td>\n",
       "      <td>78</td>\n",
       "      <td>0.089245</td>\n",
       "    </tr>\n",
       "    <tr>\n",
       "      <th>48</th>\n",
       "      <td>2013</td>\n",
       "      <td>PROVINSI DKI JAKARTA</td>\n",
       "      <td>JAKARTA PUSAT</td>\n",
       "      <td>JOHAR BARU</td>\n",
       "      <td>GALUR</td>\n",
       "      <td>0.27</td>\n",
       "      <td>79022</td>\n",
       "      <td>999</td>\n",
       "      <td>1060</td>\n",
       "      <td>925</td>\n",
       "      <td>982</td>\n",
       "      <td>820</td>\n",
       "      <td>795</td>\n",
       "      <td>727</td>\n",
       "      <td>621</td>\n",
       "      <td>535</td>\n",
       "      <td>436</td>\n",
       "      <td>421</td>\n",
       "      <td>259</td>\n",
       "      <td>257</td>\n",
       "      <td>139</td>\n",
       "      <td>169</td>\n",
       "      <td>124</td>\n",
       "      <td>130</td>\n",
       "      <td>64</td>\n",
       "      <td>5581</td>\n",
       "      <td>2999</td>\n",
       "      <td>883</td>\n",
       "      <td>0.093311</td>\n",
       "    </tr>\n",
       "    <tr>\n",
       "      <th>47</th>\n",
       "      <td>2013</td>\n",
       "      <td>PROVINSI DKI JAKARTA</td>\n",
       "      <td>JAKARTA PUSAT</td>\n",
       "      <td>JOHAR BARU</td>\n",
       "      <td>KAMPUNG RAWA</td>\n",
       "      <td>0.30</td>\n",
       "      <td>86123</td>\n",
       "      <td>1210</td>\n",
       "      <td>1255</td>\n",
       "      <td>1139</td>\n",
       "      <td>1181</td>\n",
       "      <td>972</td>\n",
       "      <td>892</td>\n",
       "      <td>830</td>\n",
       "      <td>663</td>\n",
       "      <td>663</td>\n",
       "      <td>547</td>\n",
       "      <td>495</td>\n",
       "      <td>300</td>\n",
       "      <td>339</td>\n",
       "      <td>176</td>\n",
       "      <td>189</td>\n",
       "      <td>144</td>\n",
       "      <td>175</td>\n",
       "      <td>92</td>\n",
       "      <td>6649</td>\n",
       "      <td>3498</td>\n",
       "      <td>1115</td>\n",
       "      <td>0.099006</td>\n",
       "    </tr>\n",
       "  </tbody>\n",
       "</table>\n",
       "</div>"
      ],
      "text/plain": [
       "    TAHUN         NAMA PROVINSI  ... kelompok 3 persentase lansia\n",
       "3    2013  PROVINSI DKI JAKARTA  ...        176          0.101852\n",
       "0    2013  PROVINSI DKI JAKARTA  ...        162          0.080838\n",
       "5    2013  PROVINSI DKI JAKARTA  ...         78          0.089245\n",
       "48   2013  PROVINSI DKI JAKARTA  ...        883          0.093311\n",
       "47   2013  PROVINSI DKI JAKARTA  ...       1115          0.099006\n",
       "\n",
       "[5 rows x 29 columns]"
      ]
     },
     "execution_count": 25,
     "metadata": {
      "tags": []
     },
     "output_type": "execute_result"
    }
   ],
   "source": [
    "df_baru['persentase lansia'] = df_baru['kelompok 3'] / (df_baru['kelompok 1']+df_baru['kelompok 2']+df_baru['kelompok 3'])\n",
    "df_baru.head()  #kolom barunya ada di kanannnnn"
   ]
  },
  {
   "cell_type": "code",
   "execution_count": null,
   "metadata": {
    "colab": {
     "base_uri": "https://localhost:8080/",
     "height": 435
    },
    "id": "Ij4s30oixASx",
    "outputId": "9baead34-142e-4f04-ea63-0a6f2ea4bf84"
   },
   "outputs": [
    {
     "data": {
      "text/html": [
       "<div>\n",
       "<style scoped>\n",
       "    .dataframe tbody tr th:only-of-type {\n",
       "        vertical-align: middle;\n",
       "    }\n",
       "\n",
       "    .dataframe tbody tr th {\n",
       "        vertical-align: top;\n",
       "    }\n",
       "\n",
       "    .dataframe thead th {\n",
       "        text-align: right;\n",
       "    }\n",
       "</style>\n",
       "<table border=\"1\" class=\"dataframe\">\n",
       "  <thead>\n",
       "    <tr style=\"text-align: right;\">\n",
       "      <th></th>\n",
       "      <th>TAHUN</th>\n",
       "      <th>NAMA PROVINSI</th>\n",
       "      <th>NAMA KABUPATEN/KOTA</th>\n",
       "      <th>NAMA KECAMATAN</th>\n",
       "      <th>NAMA KELURAHAN</th>\n",
       "      <th>LUAS WILAYAH (KM2)</th>\n",
       "      <th>KEPADATAN (JIWA/KM2)</th>\n",
       "      <th>35-39 Laki-Laki</th>\n",
       "      <th>35-39 Perempuan</th>\n",
       "      <th>40-44 Laki-Laki</th>\n",
       "      <th>40-44 Perempuan</th>\n",
       "      <th>45-49 Laki-Laki</th>\n",
       "      <th>45-49 Perempuan</th>\n",
       "      <th>50-54 Laki-Laki</th>\n",
       "      <th>50-54 Perempuan</th>\n",
       "      <th>55-59 Laki-Laki</th>\n",
       "      <th>55-59 Perempuan</th>\n",
       "      <th>60-64 Laki-Laki</th>\n",
       "      <th>60-64 Perempuan</th>\n",
       "      <th>65-69 Laki-Laki</th>\n",
       "      <th>65-69 Perempuan</th>\n",
       "      <th>70-74 Laki-Laki</th>\n",
       "      <th>70-74 Perempuan</th>\n",
       "      <th>&gt;75 Laki-Laki</th>\n",
       "      <th>&gt;75  Perempuan</th>\n",
       "      <th>kelompok 1</th>\n",
       "      <th>kelompok 2</th>\n",
       "      <th>kelompok 3</th>\n",
       "      <th>persentase lansia</th>\n",
       "    </tr>\n",
       "  </thead>\n",
       "  <tbody>\n",
       "    <tr>\n",
       "      <th>99</th>\n",
       "      <td>2013</td>\n",
       "      <td>PROVINSI DKI JAKARTA</td>\n",
       "      <td>JAKARTA BARAT</td>\n",
       "      <td>TAMAN SARI</td>\n",
       "      <td>KEAGUNGAN</td>\n",
       "      <td>0.32</td>\n",
       "      <td>65800</td>\n",
       "      <td>1673</td>\n",
       "      <td>975</td>\n",
       "      <td>932</td>\n",
       "      <td>1907</td>\n",
       "      <td>1117</td>\n",
       "      <td>1017</td>\n",
       "      <td>2134</td>\n",
       "      <td>1030</td>\n",
       "      <td>910</td>\n",
       "      <td>1940</td>\n",
       "      <td>941</td>\n",
       "      <td>778</td>\n",
       "      <td>1719</td>\n",
       "      <td>817</td>\n",
       "      <td>725</td>\n",
       "      <td>1542</td>\n",
       "      <td>662</td>\n",
       "      <td>578</td>\n",
       "      <td>7621</td>\n",
       "      <td>7733</td>\n",
       "      <td>6043</td>\n",
       "      <td>0.282423</td>\n",
       "    </tr>\n",
       "    <tr>\n",
       "      <th>102</th>\n",
       "      <td>2013</td>\n",
       "      <td>PROVINSI DKI JAKARTA</td>\n",
       "      <td>JAKARTA BARAT</td>\n",
       "      <td>TAMBORA</td>\n",
       "      <td>TAMBORA</td>\n",
       "      <td>0.28</td>\n",
       "      <td>45375</td>\n",
       "      <td>968</td>\n",
       "      <td>588</td>\n",
       "      <td>544</td>\n",
       "      <td>1132</td>\n",
       "      <td>646</td>\n",
       "      <td>593</td>\n",
       "      <td>1239</td>\n",
       "      <td>598</td>\n",
       "      <td>522</td>\n",
       "      <td>1120</td>\n",
       "      <td>544</td>\n",
       "      <td>451</td>\n",
       "      <td>995</td>\n",
       "      <td>460</td>\n",
       "      <td>425</td>\n",
       "      <td>885</td>\n",
       "      <td>385</td>\n",
       "      <td>368</td>\n",
       "      <td>4471</td>\n",
       "      <td>4474</td>\n",
       "      <td>3518</td>\n",
       "      <td>0.282276</td>\n",
       "    </tr>\n",
       "    <tr>\n",
       "      <th>61</th>\n",
       "      <td>2013</td>\n",
       "      <td>PROVINSI DKI JAKARTA</td>\n",
       "      <td>JAKARTA UTARA</td>\n",
       "      <td>TANJUNG PRIOK</td>\n",
       "      <td>WARAKAS</td>\n",
       "      <td>1.09</td>\n",
       "      <td>49384</td>\n",
       "      <td>4224</td>\n",
       "      <td>2608</td>\n",
       "      <td>2342</td>\n",
       "      <td>4950</td>\n",
       "      <td>2968</td>\n",
       "      <td>2790</td>\n",
       "      <td>5758</td>\n",
       "      <td>2738</td>\n",
       "      <td>2664</td>\n",
       "      <td>5402</td>\n",
       "      <td>2338</td>\n",
       "      <td>2234</td>\n",
       "      <td>4572</td>\n",
       "      <td>1858</td>\n",
       "      <td>1749</td>\n",
       "      <td>3607</td>\n",
       "      <td>1347</td>\n",
       "      <td>1235</td>\n",
       "      <td>19882</td>\n",
       "      <td>21134</td>\n",
       "      <td>14368</td>\n",
       "      <td>0.259425</td>\n",
       "    </tr>\n",
       "    <tr>\n",
       "      <th>65</th>\n",
       "      <td>2013</td>\n",
       "      <td>PROVINSI DKI JAKARTA</td>\n",
       "      <td>JAKARTA UTARA</td>\n",
       "      <td>KOJA</td>\n",
       "      <td>RAWA BADAK UTARA</td>\n",
       "      <td>1.33</td>\n",
       "      <td>31357</td>\n",
       "      <td>3260</td>\n",
       "      <td>2064</td>\n",
       "      <td>1867</td>\n",
       "      <td>3931</td>\n",
       "      <td>2296</td>\n",
       "      <td>2231</td>\n",
       "      <td>4527</td>\n",
       "      <td>2095</td>\n",
       "      <td>1898</td>\n",
       "      <td>3993</td>\n",
       "      <td>1829</td>\n",
       "      <td>1643</td>\n",
       "      <td>3472</td>\n",
       "      <td>1398</td>\n",
       "      <td>1246</td>\n",
       "      <td>2644</td>\n",
       "      <td>996</td>\n",
       "      <td>1023</td>\n",
       "      <td>15649</td>\n",
       "      <td>15985</td>\n",
       "      <td>10779</td>\n",
       "      <td>0.254144</td>\n",
       "    </tr>\n",
       "    <tr>\n",
       "      <th>103</th>\n",
       "      <td>2013</td>\n",
       "      <td>PROVINSI DKI JAKARTA</td>\n",
       "      <td>JAKARTA BARAT</td>\n",
       "      <td>TAMBORA</td>\n",
       "      <td>KALI ANYAR</td>\n",
       "      <td>0.32</td>\n",
       "      <td>94166</td>\n",
       "      <td>2532</td>\n",
       "      <td>1567</td>\n",
       "      <td>1530</td>\n",
       "      <td>3097</td>\n",
       "      <td>1775</td>\n",
       "      <td>1554</td>\n",
       "      <td>3329</td>\n",
       "      <td>1549</td>\n",
       "      <td>1275</td>\n",
       "      <td>2824</td>\n",
       "      <td>1251</td>\n",
       "      <td>1022</td>\n",
       "      <td>2273</td>\n",
       "      <td>1035</td>\n",
       "      <td>841</td>\n",
       "      <td>1876</td>\n",
       "      <td>808</td>\n",
       "      <td>746</td>\n",
       "      <td>12055</td>\n",
       "      <td>11250</td>\n",
       "      <td>7579</td>\n",
       "      <td>0.245402</td>\n",
       "    </tr>\n",
       "  </tbody>\n",
       "</table>\n",
       "</div>"
      ],
      "text/plain": [
       "     TAHUN         NAMA PROVINSI  ... kelompok 3 persentase lansia\n",
       "99    2013  PROVINSI DKI JAKARTA  ...       6043          0.282423\n",
       "102   2013  PROVINSI DKI JAKARTA  ...       3518          0.282276\n",
       "61    2013  PROVINSI DKI JAKARTA  ...      14368          0.259425\n",
       "65    2013  PROVINSI DKI JAKARTA  ...      10779          0.254144\n",
       "103   2013  PROVINSI DKI JAKARTA  ...       7579          0.245402\n",
       "\n",
       "[5 rows x 29 columns]"
      ]
     },
     "execution_count": 26,
     "metadata": {
      "tags": []
     },
     "output_type": "execute_result"
    }
   ],
   "source": [
    "#urutkan dari terbesar\n",
    "df_baru.sort_values(by='persentase lansia', ascending= False, inplace = True)\n",
    "df_baru.head()"
   ]
  },
  {
   "cell_type": "markdown",
   "metadata": {
    "id": "UMjCyENjf2kd"
   },
   "source": [
    "Kesimpulan :\n",
    "\n",
    "'Keagungan', 'Tambora', 'Warakas', 'Rawa Badak Utara', 'Kali Anyar' menjadi 5 kelurahan pertama yang diprioritaskan untuk vaksinasi"
   ]
  },
  {
   "cell_type": "markdown",
   "metadata": {
    "id": "XsXfo7ZZgDKB"
   },
   "source": [
    "#### Bonus"
   ]
  },
  {
   "cell_type": "code",
   "execution_count": null,
   "metadata": {
    "colab": {
     "base_uri": "https://localhost:8080/",
     "height": 542
    },
    "id": "POP25ZrFgBq5",
    "outputId": "134c65da-5cf8-4405-acc5-3f3acee2d1fb"
   },
   "outputs": [
    {
     "data": {
      "text/html": [
       "<html>\n",
       "<head><meta charset=\"utf-8\" /></head>\n",
       "<body>\n",
       "    <div>\n",
       "            <script src=\"https://cdnjs.cloudflare.com/ajax/libs/mathjax/2.7.5/MathJax.js?config=TeX-AMS-MML_SVG\"></script><script type=\"text/javascript\">if (window.MathJax) {MathJax.Hub.Config({SVG: {font: \"STIX-Web\"}});}</script>\n",
       "                <script type=\"text/javascript\">window.PlotlyConfig = {MathJaxConfig: 'local'};</script>\n",
       "        <script src=\"https://cdn.plot.ly/plotly-latest.min.js\"></script>    \n",
       "            <div id=\"5c617a30-ad8a-42a3-b7ab-7b0d2fe01c9b\" class=\"plotly-graph-div\" style=\"height:525px; width:100%;\"></div>\n",
       "            <script type=\"text/javascript\">\n",
       "                \n",
       "                    window.PLOTLYENV=window.PLOTLYENV || {};\n",
       "                    \n",
       "                if (document.getElementById(\"5c617a30-ad8a-42a3-b7ab-7b0d2fe01c9b\")) {\n",
       "                    Plotly.newPlot(\n",
       "                        '5c617a30-ad8a-42a3-b7ab-7b0d2fe01c9b',\n",
       "                        [{\"alignmentgroup\": \"True\", \"hoverlabel\": {\"namelength\": 0}, \"hovertemplate\": \"NAMA KELURAHAN=%{x}<br>persentase lansia=%{y}\", \"legendgroup\": \"NAMA KELURAHAN=KEAGUNGAN\", \"marker\": {\"color\": \"#636efa\"}, \"name\": \"NAMA KELURAHAN=KEAGUNGAN\", \"offsetgroup\": \"NAMA KELURAHAN=KEAGUNGAN\", \"orientation\": \"v\", \"showlegend\": true, \"textposition\": \"auto\", \"type\": \"bar\", \"x\": [\"KEAGUNGAN\"], \"xaxis\": \"x\", \"y\": [0.2824227695471328], \"yaxis\": \"y\"}, {\"alignmentgroup\": \"True\", \"hoverlabel\": {\"namelength\": 0}, \"hovertemplate\": \"NAMA KELURAHAN=%{x}<br>persentase lansia=%{y}\", \"legendgroup\": \"NAMA KELURAHAN=TAMBORA\", \"marker\": {\"color\": \"#EF553B\"}, \"name\": \"NAMA KELURAHAN=TAMBORA\", \"offsetgroup\": \"NAMA KELURAHAN=TAMBORA\", \"orientation\": \"v\", \"showlegend\": true, \"textposition\": \"auto\", \"type\": \"bar\", \"x\": [\"TAMBORA\"], \"xaxis\": \"x\", \"y\": [0.2822755355853326], \"yaxis\": \"y\"}, {\"alignmentgroup\": \"True\", \"hoverlabel\": {\"namelength\": 0}, \"hovertemplate\": \"NAMA KELURAHAN=%{x}<br>persentase lansia=%{y}\", \"legendgroup\": \"NAMA KELURAHAN=WARAKAS\", \"marker\": {\"color\": \"#00cc96\"}, \"name\": \"NAMA KELURAHAN=WARAKAS\", \"offsetgroup\": \"NAMA KELURAHAN=WARAKAS\", \"orientation\": \"v\", \"showlegend\": true, \"textposition\": \"auto\", \"type\": \"bar\", \"x\": [\"WARAKAS\"], \"xaxis\": \"x\", \"y\": [0.2594251047233858], \"yaxis\": \"y\"}, {\"alignmentgroup\": \"True\", \"hoverlabel\": {\"namelength\": 0}, \"hovertemplate\": \"NAMA KELURAHAN=%{x}<br>persentase lansia=%{y}\", \"legendgroup\": \"NAMA KELURAHAN=RAWA BADAK UTARA\", \"marker\": {\"color\": \"#ab63fa\"}, \"name\": \"NAMA KELURAHAN=RAWA BADAK UTARA\", \"offsetgroup\": \"NAMA KELURAHAN=RAWA BADAK UTARA\", \"orientation\": \"v\", \"showlegend\": true, \"textposition\": \"auto\", \"type\": \"bar\", \"x\": [\"RAWA BADAK UTARA\"], \"xaxis\": \"x\", \"y\": [0.2541437766722467], \"yaxis\": \"y\"}, {\"alignmentgroup\": \"True\", \"hoverlabel\": {\"namelength\": 0}, \"hovertemplate\": \"NAMA KELURAHAN=%{x}<br>persentase lansia=%{y}\", \"legendgroup\": \"NAMA KELURAHAN=KALI ANYAR\", \"marker\": {\"color\": \"#FFA15A\"}, \"name\": \"NAMA KELURAHAN=KALI ANYAR\", \"offsetgroup\": \"NAMA KELURAHAN=KALI ANYAR\", \"orientation\": \"v\", \"showlegend\": true, \"textposition\": \"auto\", \"type\": \"bar\", \"x\": [\"KALI ANYAR\"], \"xaxis\": \"x\", \"y\": [0.24540214998057247], \"yaxis\": \"y\"}, {\"alignmentgroup\": \"True\", \"hoverlabel\": {\"namelength\": 0}, \"hovertemplate\": \"NAMA KELURAHAN=%{x}<br>persentase lansia=%{y}\", \"legendgroup\": \"NAMA KELURAHAN=RAWA BADAK SELATAN\", \"marker\": {\"color\": \"#19d3f3\"}, \"name\": \"NAMA KELURAHAN=RAWA BADAK SELATAN\", \"offsetgroup\": \"NAMA KELURAHAN=RAWA BADAK SELATAN\", \"orientation\": \"v\", \"showlegend\": true, \"textposition\": \"auto\", \"type\": \"bar\", \"x\": [\"RAWA BADAK SELATAN\"], \"xaxis\": \"x\", \"y\": [0.23696352948612603], \"yaxis\": \"y\"}, {\"alignmentgroup\": \"True\", \"hoverlabel\": {\"namelength\": 0}, \"hovertemplate\": \"NAMA KELURAHAN=%{x}<br>persentase lansia=%{y}\", \"legendgroup\": \"NAMA KELURAHAN=GUNTUR\", \"marker\": {\"color\": \"#FF6692\"}, \"name\": \"NAMA KELURAHAN=GUNTUR\", \"offsetgroup\": \"NAMA KELURAHAN=GUNTUR\", \"orientation\": \"v\", \"showlegend\": true, \"textposition\": \"auto\", \"type\": \"bar\", \"x\": [\"GUNTUR\"], \"xaxis\": \"x\", \"y\": [0.15136268343815515], \"yaxis\": \"y\"}, {\"alignmentgroup\": \"True\", \"hoverlabel\": {\"namelength\": 0}, \"hovertemplate\": \"NAMA KELURAHAN=%{x}<br>persentase lansia=%{y}\", \"legendgroup\": \"NAMA KELURAHAN=KWITANG\", \"marker\": {\"color\": \"#B6E880\"}, \"name\": \"NAMA KELURAHAN=KWITANG\", \"offsetgroup\": \"NAMA KELURAHAN=KWITANG\", \"orientation\": \"v\", \"showlegend\": true, \"textposition\": \"auto\", \"type\": \"bar\", \"x\": [\"KWITANG\"], \"xaxis\": \"x\", \"y\": [0.12513119533527697], \"yaxis\": \"y\"}, {\"alignmentgroup\": \"True\", \"hoverlabel\": {\"namelength\": 0}, \"hovertemplate\": \"NAMA KELURAHAN=%{x}<br>persentase lansia=%{y}\", \"legendgroup\": \"NAMA KELURAHAN=MANGGARAI SELATAN\", \"marker\": {\"color\": \"#FF97FF\"}, \"name\": \"NAMA KELURAHAN=MANGGARAI SELATAN\", \"offsetgroup\": \"NAMA KELURAHAN=MANGGARAI SELATAN\", \"orientation\": \"v\", \"showlegend\": true, \"textposition\": \"auto\", \"type\": \"bar\", \"x\": [\"MANGGARAI SELATAN\"], \"xaxis\": \"x\", \"y\": [0.10551154559244902], \"yaxis\": \"y\"}, {\"alignmentgroup\": \"True\", \"hoverlabel\": {\"namelength\": 0}, \"hovertemplate\": \"NAMA KELURAHAN=%{x}<br>persentase lansia=%{y}\", \"legendgroup\": \"NAMA KELURAHAN=PAL MERIAM\", \"marker\": {\"color\": \"#FECB52\"}, \"name\": \"NAMA KELURAHAN=PAL MERIAM\", \"offsetgroup\": \"NAMA KELURAHAN=PAL MERIAM\", \"orientation\": \"v\", \"showlegend\": true, \"textposition\": \"auto\", \"type\": \"bar\", \"x\": [\"PAL MERIAM\"], \"xaxis\": \"x\", \"y\": [0.10233973749286665], \"yaxis\": \"y\"}],\n",
       "                        {\"barmode\": \"relative\", \"legend\": {\"tracegroupgap\": 0}, \"template\": {\"data\": {\"bar\": [{\"error_x\": {\"color\": \"#f2f5fa\"}, \"error_y\": {\"color\": \"#f2f5fa\"}, \"marker\": {\"line\": {\"color\": \"rgb(17,17,17)\", \"width\": 0.5}}, \"type\": \"bar\"}], \"barpolar\": [{\"marker\": {\"line\": {\"color\": \"rgb(17,17,17)\", \"width\": 0.5}}, \"type\": \"barpolar\"}], \"carpet\": [{\"aaxis\": {\"endlinecolor\": \"#A2B1C6\", \"gridcolor\": \"#506784\", \"linecolor\": \"#506784\", \"minorgridcolor\": \"#506784\", \"startlinecolor\": \"#A2B1C6\"}, \"baxis\": {\"endlinecolor\": \"#A2B1C6\", \"gridcolor\": \"#506784\", \"linecolor\": \"#506784\", \"minorgridcolor\": \"#506784\", \"startlinecolor\": \"#A2B1C6\"}, \"type\": \"carpet\"}], \"choropleth\": [{\"colorbar\": {\"outlinewidth\": 0, \"ticks\": \"\"}, \"type\": \"choropleth\"}], \"contour\": [{\"colorbar\": {\"outlinewidth\": 0, \"ticks\": \"\"}, \"colorscale\": [[0.0, \"#0d0887\"], [0.1111111111111111, \"#46039f\"], [0.2222222222222222, \"#7201a8\"], [0.3333333333333333, \"#9c179e\"], [0.4444444444444444, \"#bd3786\"], [0.5555555555555556, \"#d8576b\"], [0.6666666666666666, \"#ed7953\"], [0.7777777777777778, \"#fb9f3a\"], [0.8888888888888888, \"#fdca26\"], [1.0, \"#f0f921\"]], \"type\": \"contour\"}], \"contourcarpet\": [{\"colorbar\": {\"outlinewidth\": 0, \"ticks\": \"\"}, \"type\": \"contourcarpet\"}], \"heatmap\": [{\"colorbar\": {\"outlinewidth\": 0, \"ticks\": \"\"}, \"colorscale\": [[0.0, \"#0d0887\"], [0.1111111111111111, \"#46039f\"], [0.2222222222222222, \"#7201a8\"], [0.3333333333333333, \"#9c179e\"], [0.4444444444444444, \"#bd3786\"], [0.5555555555555556, \"#d8576b\"], [0.6666666666666666, \"#ed7953\"], [0.7777777777777778, \"#fb9f3a\"], [0.8888888888888888, \"#fdca26\"], [1.0, \"#f0f921\"]], \"type\": \"heatmap\"}], \"heatmapgl\": [{\"colorbar\": {\"outlinewidth\": 0, \"ticks\": \"\"}, \"colorscale\": [[0.0, \"#0d0887\"], [0.1111111111111111, \"#46039f\"], [0.2222222222222222, \"#7201a8\"], [0.3333333333333333, \"#9c179e\"], [0.4444444444444444, \"#bd3786\"], [0.5555555555555556, \"#d8576b\"], [0.6666666666666666, \"#ed7953\"], [0.7777777777777778, \"#fb9f3a\"], [0.8888888888888888, \"#fdca26\"], [1.0, \"#f0f921\"]], \"type\": \"heatmapgl\"}], \"histogram\": [{\"marker\": {\"colorbar\": {\"outlinewidth\": 0, \"ticks\": \"\"}}, \"type\": \"histogram\"}], \"histogram2d\": [{\"colorbar\": {\"outlinewidth\": 0, \"ticks\": \"\"}, \"colorscale\": [[0.0, \"#0d0887\"], [0.1111111111111111, \"#46039f\"], [0.2222222222222222, \"#7201a8\"], [0.3333333333333333, \"#9c179e\"], [0.4444444444444444, \"#bd3786\"], [0.5555555555555556, \"#d8576b\"], [0.6666666666666666, \"#ed7953\"], [0.7777777777777778, \"#fb9f3a\"], [0.8888888888888888, \"#fdca26\"], [1.0, \"#f0f921\"]], \"type\": \"histogram2d\"}], \"histogram2dcontour\": [{\"colorbar\": {\"outlinewidth\": 0, \"ticks\": \"\"}, \"colorscale\": [[0.0, \"#0d0887\"], [0.1111111111111111, \"#46039f\"], [0.2222222222222222, \"#7201a8\"], [0.3333333333333333, \"#9c179e\"], [0.4444444444444444, \"#bd3786\"], [0.5555555555555556, \"#d8576b\"], [0.6666666666666666, \"#ed7953\"], [0.7777777777777778, \"#fb9f3a\"], [0.8888888888888888, \"#fdca26\"], [1.0, \"#f0f921\"]], \"type\": \"histogram2dcontour\"}], \"mesh3d\": [{\"colorbar\": {\"outlinewidth\": 0, \"ticks\": \"\"}, \"type\": \"mesh3d\"}], \"parcoords\": [{\"line\": {\"colorbar\": {\"outlinewidth\": 0, \"ticks\": \"\"}}, \"type\": \"parcoords\"}], \"pie\": [{\"automargin\": true, \"type\": \"pie\"}], \"scatter\": [{\"marker\": {\"line\": {\"color\": \"#283442\"}}, \"type\": \"scatter\"}], \"scatter3d\": [{\"line\": {\"colorbar\": {\"outlinewidth\": 0, \"ticks\": \"\"}}, \"marker\": {\"colorbar\": {\"outlinewidth\": 0, \"ticks\": \"\"}}, \"type\": \"scatter3d\"}], \"scattercarpet\": [{\"marker\": {\"colorbar\": {\"outlinewidth\": 0, \"ticks\": \"\"}}, \"type\": \"scattercarpet\"}], \"scattergeo\": [{\"marker\": {\"colorbar\": {\"outlinewidth\": 0, \"ticks\": \"\"}}, \"type\": \"scattergeo\"}], \"scattergl\": [{\"marker\": {\"line\": {\"color\": \"#283442\"}}, \"type\": \"scattergl\"}], \"scattermapbox\": [{\"marker\": {\"colorbar\": {\"outlinewidth\": 0, \"ticks\": \"\"}}, \"type\": \"scattermapbox\"}], \"scatterpolar\": [{\"marker\": {\"colorbar\": {\"outlinewidth\": 0, \"ticks\": \"\"}}, \"type\": \"scatterpolar\"}], \"scatterpolargl\": [{\"marker\": {\"colorbar\": {\"outlinewidth\": 0, \"ticks\": \"\"}}, \"type\": \"scatterpolargl\"}], \"scatterternary\": [{\"marker\": {\"colorbar\": {\"outlinewidth\": 0, \"ticks\": \"\"}}, \"type\": \"scatterternary\"}], \"surface\": [{\"colorbar\": {\"outlinewidth\": 0, \"ticks\": \"\"}, \"colorscale\": [[0.0, \"#0d0887\"], [0.1111111111111111, \"#46039f\"], [0.2222222222222222, \"#7201a8\"], [0.3333333333333333, \"#9c179e\"], [0.4444444444444444, \"#bd3786\"], [0.5555555555555556, \"#d8576b\"], [0.6666666666666666, \"#ed7953\"], [0.7777777777777778, \"#fb9f3a\"], [0.8888888888888888, \"#fdca26\"], [1.0, \"#f0f921\"]], \"type\": \"surface\"}], \"table\": [{\"cells\": {\"fill\": {\"color\": \"#506784\"}, \"line\": {\"color\": \"rgb(17,17,17)\"}}, \"header\": {\"fill\": {\"color\": \"#2a3f5f\"}, \"line\": {\"color\": \"rgb(17,17,17)\"}}, \"type\": \"table\"}]}, \"layout\": {\"annotationdefaults\": {\"arrowcolor\": \"#f2f5fa\", \"arrowhead\": 0, \"arrowwidth\": 1}, \"coloraxis\": {\"colorbar\": {\"outlinewidth\": 0, \"ticks\": \"\"}}, \"colorscale\": {\"diverging\": [[0, \"#8e0152\"], [0.1, \"#c51b7d\"], [0.2, \"#de77ae\"], [0.3, \"#f1b6da\"], [0.4, \"#fde0ef\"], [0.5, \"#f7f7f7\"], [0.6, \"#e6f5d0\"], [0.7, \"#b8e186\"], [0.8, \"#7fbc41\"], [0.9, \"#4d9221\"], [1, \"#276419\"]], \"sequential\": [[0.0, \"#0d0887\"], [0.1111111111111111, \"#46039f\"], [0.2222222222222222, \"#7201a8\"], [0.3333333333333333, \"#9c179e\"], [0.4444444444444444, \"#bd3786\"], [0.5555555555555556, \"#d8576b\"], [0.6666666666666666, \"#ed7953\"], [0.7777777777777778, \"#fb9f3a\"], [0.8888888888888888, \"#fdca26\"], [1.0, \"#f0f921\"]], \"sequentialminus\": [[0.0, \"#0d0887\"], [0.1111111111111111, \"#46039f\"], [0.2222222222222222, \"#7201a8\"], [0.3333333333333333, \"#9c179e\"], [0.4444444444444444, \"#bd3786\"], [0.5555555555555556, \"#d8576b\"], [0.6666666666666666, \"#ed7953\"], [0.7777777777777778, \"#fb9f3a\"], [0.8888888888888888, \"#fdca26\"], [1.0, \"#f0f921\"]]}, \"colorway\": [\"#636efa\", \"#EF553B\", \"#00cc96\", \"#ab63fa\", \"#FFA15A\", \"#19d3f3\", \"#FF6692\", \"#B6E880\", \"#FF97FF\", \"#FECB52\"], \"font\": {\"color\": \"#f2f5fa\"}, \"geo\": {\"bgcolor\": \"rgb(17,17,17)\", \"lakecolor\": \"rgb(17,17,17)\", \"landcolor\": \"rgb(17,17,17)\", \"showlakes\": true, \"showland\": true, \"subunitcolor\": \"#506784\"}, \"hoverlabel\": {\"align\": \"left\"}, \"hovermode\": \"closest\", \"mapbox\": {\"style\": \"dark\"}, \"paper_bgcolor\": \"rgb(17,17,17)\", \"plot_bgcolor\": \"rgb(17,17,17)\", \"polar\": {\"angularaxis\": {\"gridcolor\": \"#506784\", \"linecolor\": \"#506784\", \"ticks\": \"\"}, \"bgcolor\": \"rgb(17,17,17)\", \"radialaxis\": {\"gridcolor\": \"#506784\", \"linecolor\": \"#506784\", \"ticks\": \"\"}}, \"scene\": {\"xaxis\": {\"backgroundcolor\": \"rgb(17,17,17)\", \"gridcolor\": \"#506784\", \"gridwidth\": 2, \"linecolor\": \"#506784\", \"showbackground\": true, \"ticks\": \"\", \"zerolinecolor\": \"#C8D4E3\"}, \"yaxis\": {\"backgroundcolor\": \"rgb(17,17,17)\", \"gridcolor\": \"#506784\", \"gridwidth\": 2, \"linecolor\": \"#506784\", \"showbackground\": true, \"ticks\": \"\", \"zerolinecolor\": \"#C8D4E3\"}, \"zaxis\": {\"backgroundcolor\": \"rgb(17,17,17)\", \"gridcolor\": \"#506784\", \"gridwidth\": 2, \"linecolor\": \"#506784\", \"showbackground\": true, \"ticks\": \"\", \"zerolinecolor\": \"#C8D4E3\"}}, \"shapedefaults\": {\"line\": {\"color\": \"#f2f5fa\"}}, \"sliderdefaults\": {\"bgcolor\": \"#C8D4E3\", \"bordercolor\": \"rgb(17,17,17)\", \"borderwidth\": 1, \"tickwidth\": 0}, \"ternary\": {\"aaxis\": {\"gridcolor\": \"#506784\", \"linecolor\": \"#506784\", \"ticks\": \"\"}, \"baxis\": {\"gridcolor\": \"#506784\", \"linecolor\": \"#506784\", \"ticks\": \"\"}, \"bgcolor\": \"rgb(17,17,17)\", \"caxis\": {\"gridcolor\": \"#506784\", \"linecolor\": \"#506784\", \"ticks\": \"\"}}, \"title\": {\"x\": 0.05}, \"updatemenudefaults\": {\"bgcolor\": \"#506784\", \"borderwidth\": 0}, \"xaxis\": {\"automargin\": true, \"gridcolor\": \"#283442\", \"linecolor\": \"#506784\", \"ticks\": \"\", \"title\": {\"standoff\": 15}, \"zerolinecolor\": \"#283442\", \"zerolinewidth\": 2}, \"yaxis\": {\"automargin\": true, \"gridcolor\": \"#283442\", \"linecolor\": \"#506784\", \"ticks\": \"\", \"title\": {\"standoff\": 15}, \"zerolinecolor\": \"#283442\", \"zerolinewidth\": 2}}}, \"title\": {\"text\": \"<b>10 Kelurahan Prioritas Vaksinasi</b>\"}, \"xaxis\": {\"anchor\": \"y\", \"categoryarray\": [\"KEAGUNGAN\", \"TAMBORA\", \"WARAKAS\", \"RAWA BADAK UTARA\", \"KALI ANYAR\", \"RAWA BADAK SELATAN\", \"GUNTUR\", \"KWITANG\", \"MANGGARAI SELATAN\", \"PAL MERIAM\"], \"categoryorder\": \"array\", \"domain\": [0.0, 1.0], \"title\": {\"text\": \"NAMA KELURAHAN\"}}, \"yaxis\": {\"anchor\": \"x\", \"domain\": [0.0, 1.0], \"title\": {\"text\": \"persentase lansia\"}}},\n",
       "                        {\"responsive\": true}\n",
       "                    ).then(function(){\n",
       "                            \n",
       "var gd = document.getElementById('5c617a30-ad8a-42a3-b7ab-7b0d2fe01c9b');\n",
       "var x = new MutationObserver(function (mutations, observer) {{\n",
       "        var display = window.getComputedStyle(gd).display;\n",
       "        if (!display || display === 'none') {{\n",
       "            console.log([gd, 'removed!']);\n",
       "            Plotly.purge(gd);\n",
       "            observer.disconnect();\n",
       "        }}\n",
       "}});\n",
       "\n",
       "// Listen for the removal of the full notebook cells\n",
       "var notebookContainer = gd.closest('#notebook-container');\n",
       "if (notebookContainer) {{\n",
       "    x.observe(notebookContainer, {childList: true});\n",
       "}}\n",
       "\n",
       "// Listen for the clearing of the current output cell\n",
       "var outputEl = gd.closest('.output');\n",
       "if (outputEl) {{\n",
       "    x.observe(outputEl, {childList: true});\n",
       "}}\n",
       "\n",
       "                        })\n",
       "                };\n",
       "                \n",
       "            </script>\n",
       "        </div>\n",
       "</body>\n",
       "</html>"
      ]
     },
     "metadata": {
      "tags": []
     },
     "output_type": "display_data"
    }
   ],
   "source": [
    "import plotly.graph_objects as go\n",
    "import plotly.express as px\n",
    "\n",
    "fig=px.bar(df_baru[0:10],y='persentase lansia',x='NAMA KELURAHAN',color='NAMA KELURAHAN',template=\"plotly_dark\",title=\"<b>10 Kelurahan Prioritas Vaksinasi</b>\")\n",
    "fig.show()"
   ]
  }
 ],
 "metadata": {
  "colab": {
   "collapsed_sections": [
    "TJLHtuQ4Jr73",
    "6LG7Buy4dVXo",
    "qwzO6yuXNjKX",
    "AcuMvv4HQiEB",
    "p8H8Mj1Li8kI",
    "XsXfo7ZZgDKB"
   ],
   "name": "Modul 2",
   "provenance": []
  },
  "kernelspec": {
   "display_name": "Python 3",
   "language": "python",
   "name": "python3"
  },
  "language_info": {
   "codemirror_mode": {
    "name": "ipython",
    "version": 3
   },
   "file_extension": ".py",
   "mimetype": "text/x-python",
   "name": "python",
   "nbconvert_exporter": "python",
   "pygments_lexer": "ipython3",
   "version": "3.8.3"
  }
 },
 "nbformat": 4,
 "nbformat_minor": 1
}
